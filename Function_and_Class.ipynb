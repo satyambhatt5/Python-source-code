{
  "nbformat": 4,
  "nbformat_minor": 0,
  "metadata": {
    "colab": {
      "name": "Function and Class.ipynb",
      "private_outputs": true,
      "provenance": [],
      "collapsed_sections": [],
      "authorship_tag": "ABX9TyMsfWmBTHLPnc1WE/nSYxZl",
      "include_colab_link": true
    },
    "kernelspec": {
      "name": "python3",
      "display_name": "Python 3"
    }
  },
  "cells": [
    {
      "cell_type": "markdown",
      "metadata": {
        "id": "view-in-github",
        "colab_type": "text"
      },
      "source": [
        "<a href=\"https://colab.research.google.com/github/satyambhatt5/Python-source-code-/blob/main/Function_and_Class.ipynb\" target=\"_parent\"><img src=\"https://colab.research.google.com/assets/colab-badge.svg\" alt=\"Open In Colab\"/></a>"
      ]
    },
    {
      "cell_type": "markdown",
      "metadata": {
        "id": "fw9ygmtRMtqb"
      },
      "source": [
        "#Functions,\r\n",
        "\r\n",
        "[https://ipgp.github.io/scientific_python_cheat_sheet/](https://)\r\n",
        "which are named blocks of code that are designed to do one specific job.\r\n",
        "\r\n",
        "When you want to perform a particular task\r\n",
        "**bold text**\r\n",
        "that you’ve defined in a function, you call the function\r\n",
        "responsible for it. If you need to perform that task\r\n",
        "\r\n",
        "\r\n"
      ]
    },
    {
      "cell_type": "code",
      "metadata": {
        "id": "LFM7pAzwf_FO"
      },
      "source": [
        "def greet_user():\r\n",
        " \"\"\"Display a simple greeting.\"\"\"\r\n",
        " print(\"Hello!\")\r\n",
        "\r\n"
      ],
      "execution_count": null,
      "outputs": []
    },
    {
      "cell_type": "code",
      "metadata": {
        "id": "loXSXTGt5kk3"
      },
      "source": [
        "#call the fuction \r\n",
        "greet_user()"
      ],
      "execution_count": null,
      "outputs": []
    },
    {
      "cell_type": "markdown",
      "metadata": {
        "id": "-rT81_Gc4ZqE"
      },
      "source": [
        "This example shows the simplest structure of a function. The line at u\r\n",
        "uses the keyword def to inform Python that you’re defining a function. This\r\n",
        "is the function definition, which tells Python the name of the function and, if\r\n",
        "applicable, what kind of information the function needs to do its job. The\r\n",
        "parentheses hold that information. In this case, the name of the function\r\n",
        "is greet_user(), and it needs no information to do its job, so its parentheses\r\n",
        "are empty. (Even so, the parentheses are required.) Finally, the definition\r\n",
        "ends in a colon.\r\n",
        "\r\n",
        "Any indented lines that follow def greet_user(): make up the body of\r\n",
        "the function. The text at v is a comment called a docstring, which describes\r\n",
        "what the function does. Docstrings are enclosed in triple quotes, which\r\n",
        "Python looks for when it generates documentation for the functions in your\r\n",
        "programs.\r\n",
        "\r\n",
        "The line print(\"Hello!\")  is the only line of actual code in the body\r\n",
        "of this function, so greet_user() has just one job: print(\"Hello!\").\r\n",
        "\r\n",
        "\r\n",
        "When you want to use this function, you call it. A function call tells\r\n",
        "Python to execute the code in the function. To call a function, you write\r\n",
        "the name of the function, followed by any necessary information in parentheses, as shown at x. Because no information is needed here, calling our\r\n",
        "function is as simple as entering greet_user(). \r\n",
        "\r\n",
        "As expected, it prints Hello!:"
      ]
    },
    {
      "cell_type": "code",
      "metadata": {
        "id": "sVRVqePt35oj"
      },
      "source": [
        "#Passing Information to a Function\r\n",
        "\r\n",
        "def greet_user(username):\r\n",
        " \"\"\"Display a simple greeting.\"\"\"\r\n",
        " print(f\"Hello!, {username.title()}! \\n\")\r\n",
        "\r\n"
      ],
      "execution_count": null,
      "outputs": []
    },
    {
      "cell_type": "code",
      "metadata": {
        "id": "XDUvMmp85tNM"
      },
      "source": [
        "#call the fuction \r\n",
        "greet_user(\"satyam\")\r\n"
      ],
      "execution_count": null,
      "outputs": []
    },
    {
      "cell_type": "markdown",
      "metadata": {
        "id": "8vHBg6l67KIr"
      },
      "source": [
        "8-1. Message: Write a function called display_message() that prints one sentence telling everyone what you are learning about in this chapter. Call the\r\n",
        "function, and make sure the message displays correctly.\r\n",
        "\r\n",
        " \r\n",
        "8-2. Favorite Book: Write a function called favorite_book() that accepts one\r\n",
        "parameter, title. The function should print a message, such as One of my\r\n",
        "favorite books is Alice in Wonderland. Call the function, making sure to\r\n",
        "include a book title as an argument in the function call."
      ]
    },
    {
      "cell_type": "code",
      "metadata": {
        "id": "M-SdVUOI53hE"
      },
      "source": [
        "def display_message(username):\r\n",
        "  print(f\"{username.title()} !, What you are learning about in this chapter \\n \")\r\n",
        "def favorite_book(book):\r\n",
        "  print(f\"{book.title()} !,One of my favorite book \\n\" )\r\n",
        "  "
      ],
      "execution_count": null,
      "outputs": []
    },
    {
      "cell_type": "code",
      "metadata": {
        "id": "PCZ04Sao8EP8"
      },
      "source": [
        "display_message(\"satyam\")\r\n",
        "favorite_book(\"python\")"
      ],
      "execution_count": null,
      "outputs": []
    },
    {
      "cell_type": "code",
      "metadata": {
        "id": "GidF-ugW8H1_"
      },
      "source": [
        "#Passing Arguments\r\n",
        "\r\n"
      ],
      "execution_count": null,
      "outputs": []
    },
    {
      "cell_type": "markdown",
      "metadata": {
        "id": "JJn5V_S4-QQ2"
      },
      "source": [
        "Because a function definition can have multiple parameters, a function call\r\n",
        "may need multiple arguments. You can pass arguments to your functions\r\n",
        "in a number of ways. You can use positional arguments, \r\n",
        "\r\n",
        "the same order the parameters were written; keyword arguments, where each\r\n",
        "argument consists of a variable name and a value; and lists and dictionaries\r\n",
        "of values. Let’s look at each of these in turn"
      ]
    },
    {
      "cell_type": "code",
      "metadata": {
        "id": "1Crs4K1Q-YCO"
      },
      "source": [
        "#position argument \r\n",
        "#When you call a function, Python must match each argument in the function call with a parameter in the function definition. The simplest way to\r\n",
        "#do this is based on the order of the arguments provided. Values matched up this way are called positional arguments\r\n",
        "\r\n",
        "#displays information about pets. The function tells us what kind of animal each pet is and the pet’s name, as shown her\r\n",
        "\r\n",
        "\r\n",
        "def describe_pet(animal_type, pet_name):\r\n",
        "  print(f\"I have {animal_type.title()}.\\n\")\r\n",
        "\r\n",
        "  print(f\"My {animal_type.title()}'s name is {pet_name.title()}.\\n\")"
      ],
      "execution_count": null,
      "outputs": []
    },
    {
      "cell_type": "code",
      "metadata": {
        "id": "EFPXjVg0ArYR"
      },
      "source": [
        "#Call the  function \r\n",
        "describe_pet(\"dog\", \"shera\")"
      ],
      "execution_count": null,
      "outputs": []
    },
    {
      "cell_type": "code",
      "metadata": {
        "id": "lplAhJoyA7NP"
      },
      "source": [
        "describe_pet(\"cow\",\"lakshmi\")"
      ],
      "execution_count": null,
      "outputs": []
    },
    {
      "cell_type": "markdown",
      "metadata": {
        "id": "C38e-tJaFusV"
      },
      "source": [
        "8-3. T-Shirt: Write a function called make_shirt() that accepts a size and the\r\n",
        "text of a message that should be printed on the shirt. The function should print\r\n",
        "a sentence summarizing the size of the shirt and the message printed on it.\r\n",
        "Call the function once using positional arguments to make a shirt. Call the\r\n",
        "function a second time using keyword arguments.\r\n",
        "\r\n",
        "8-4. Large Shirts: Modify the make_shirt() function so that shirts are large\r\n",
        "by default with a message that reads I love Python. Make a large shirt and a\r\n",
        "medium shirt with the default message, and a shirt of any size with a different\r\n",
        "message.\r\n",
        "\r\n",
        "8-5. Cities: Write a function called describe_city() that accepts the name of\r\n",
        "a city and its country. The function should print a simple sentence, such as\r\n",
        "Reykjavik is in Iceland. Give the parameter for the country a default value.\r\n",
        "Call your function for three different cities, at least one of which is not in the default country"
      ]
    },
    {
      "cell_type": "code",
      "metadata": {
        "id": "8dTKHDK3Bnac"
      },
      "source": [
        "def make_shirt(shirt  , shirt_size):\r\n",
        "  print(f\"I have {shirt.title()} shirt \\n\")\r\n",
        "  print(f\"My {shirt.title()} colour shirt size is {shirt_size} \\n\")"
      ],
      "execution_count": null,
      "outputs": []
    },
    {
      "cell_type": "code",
      "metadata": {
        "id": "NjMwHaOyHkmO"
      },
      "source": [
        "#call the function \r\n",
        "make_shirt(shirt=\"black\",shirt_size=\"18\")"
      ],
      "execution_count": null,
      "outputs": []
    },
    {
      "cell_type": "markdown",
      "metadata": {
        "id": "nAmdj0zDJfdD"
      },
      "source": [
        "#Return Values\r\n",
        "A function doesn’t always have to display its output directly. Instead, it can\r\n",
        "process some data and then return a value or set of values. The value the\r\n",
        "function returns is called a return value. The return statement takes a value\r\n",
        "from inside a function and sends it back to the line that called the function.\r\n",
        "Return values allow you to move much of your program’s grunt work into\r\n",
        "functions, which can simplify the body of your program"
      ]
    },
    {
      "cell_type": "code",
      "metadata": {
        "id": "M76LuAPXH1s9"
      },
      "source": [
        "#Returning a Simple Value Let’s look at a function that takes a first and last name, and returns a neatly\r\n",
        "#formatted full name:\r\n",
        "\r\n",
        "def get_formatted_name(first_name,last_name):\r\n",
        "\r\n",
        "  #display the name \r\n",
        "  full_name= f\"{first_name} {last_name}\"\r\n",
        "  return full_name.title()\r\n",
        "\r\n"
      ],
      "execution_count": null,
      "outputs": []
    },
    {
      "cell_type": "code",
      "metadata": {
        "id": "mywwLHK9Kc7U"
      },
      "source": [
        "get_formatted_name(\"satyam\",\"bhatta\")"
      ],
      "execution_count": null,
      "outputs": []
    },
    {
      "cell_type": "code",
      "metadata": {
        "id": "uUnSawYOKk1w"
      },
      "source": [
        "def get_formatted_name(first_name, middle_name, last_name):\r\n",
        " \"\"\"Return a full name, neatly formatted.\"\"\"\r\n",
        " full_name = f\"{first_name} {middle_name} {last_name}\"\r\n",
        " return full_name.title()"
      ],
      "execution_count": null,
      "outputs": []
    },
    {
      "cell_type": "code",
      "metadata": {
        "id": "7R_BQyvFLG1R"
      },
      "source": [
        "musician = get_formatted_name(\"raj\",\"narayan\",\"bhatt\")\r\n",
        "print(musician)"
      ],
      "execution_count": null,
      "outputs": []
    },
    {
      "cell_type": "markdown",
      "metadata": {
        "id": "CE0tchGrL4Ce"
      },
      "source": [
        "But middle names aren’t always needed, and this function as written\r\n",
        "would not work if you tried to call it with only a first name and a last name.\r\n",
        "To make the middle name optional, we can give the middle_name argument\r\n",
        "an empty default value and ignore the argument unless the user provides a\r\n",
        "value. \r\n",
        "\r\n",
        "To make get_formatted_name() work without a middle name, we set the\r\n",
        "default value of middle_name to an empty string and move it to the end of the\r\n",
        "list of parameters:"
      ]
    },
    {
      "cell_type": "code",
      "metadata": {
        "id": "RIoSQJynLoeI"
      },
      "source": [
        "def get_formatted_name(first_name, last_name, middle_name = ''):\r\n",
        "  if middle_name:\r\n",
        "    full_name= f\"{first_name} {middle_name} {last_name}\"\r\n",
        "  else:\r\n",
        "    full_name= f\"{first_name} {last_name}\"\r\n",
        "  return full_name.title()\r\n",
        "\r\n",
        " \r\n",
        "\r\n"
      ],
      "execution_count": null,
      "outputs": []
    },
    {
      "cell_type": "code",
      "metadata": {
        "id": "K5TxEDujN4JV"
      },
      "source": [
        "get_formatted_name(\"satyam\",\"bhatt\") "
      ],
      "execution_count": null,
      "outputs": []
    },
    {
      "cell_type": "code",
      "metadata": {
        "id": "uuGtRiF9POrG"
      },
      "source": [
        "get_formatted_name(\"raj\",\"bhatt\", \"kumar\")"
      ],
      "execution_count": null,
      "outputs": []
    },
    {
      "cell_type": "code",
      "metadata": {
        "id": "D4NFqxRnRPWy"
      },
      "source": [
        "#Return as dictionay \r\n",
        "\r\n",
        "def build_person(first_name,last_name):\r\n",
        "  \"\"\" Return the dictionay infomation about the person\"\"\"\r\n",
        "  person={'first':first_name,'last':last_name}\r\n",
        "  return person"
      ],
      "execution_count": null,
      "outputs": []
    },
    {
      "cell_type": "code",
      "metadata": {
        "id": "G4HemCgCdAYZ"
      },
      "source": [
        "build_person(\"satyam\",\"Bhatt\")"
      ],
      "execution_count": null,
      "outputs": []
    },
    {
      "cell_type": "code",
      "metadata": {
        "id": "pFO3p3QWdu5T"
      },
      "source": [
        "def build_person(first_name,last_name,age=None):\r\n",
        "  person={'first':first_name,'last':last_name}\r\n",
        "\r\n",
        "  if age:\r\n",
        "    person['age']=age\r\n",
        "  return person\r\n",
        "\r\n"
      ],
      "execution_count": null,
      "outputs": []
    },
    {
      "cell_type": "code",
      "metadata": {
        "id": "qSgF5pR2eChn"
      },
      "source": [
        "build_person(\"Satyam\",\" Bhatt\",age=27)"
      ],
      "execution_count": null,
      "outputs": []
    },
    {
      "cell_type": "code",
      "metadata": {
        "id": "ArpWm-1Gfr6u"
      },
      "source": [
        "\r\n",
        "#Using a Function with a while Loop\r\n"
      ],
      "execution_count": null,
      "outputs": []
    },
    {
      "cell_type": "code",
      "metadata": {
        "id": "ItHQ-RLxhK0w"
      },
      "source": [
        "def get_formatted_name(first_name, last_name):\r\n",
        "  \"\"\"Return a full name, neatly formatted.\"\"\"\r\n",
        "  full_name = f\"{first_name} {last_name}\"\r\n",
        "  return full_name.title()\r\n",
        "while True:\r\n",
        "     print(\"\\nPlease tell me your name:\")\r\n",
        "     print(\"(enter 'q' at any time to quit)\")\r\n",
        "\r\n",
        "     f_name = input(\"First name: \")\r\n",
        "     if f_name == \"q\":\r\n",
        "       break\r\n",
        "     l_name = input(\"Last name: \")\r\n",
        "     if l_name == \"q\":\r\n",
        "       break\r\n",
        "     formatted_name = get_formatted_name(f_name, l_name)\r\n",
        "     print(f\"\\nHello, {formatted_name}!\")\r\n",
        " \r\n"
      ],
      "execution_count": null,
      "outputs": []
    },
    {
      "cell_type": "markdown",
      "metadata": {
        "id": "oK6OuEQhDBNQ"
      },
      "source": [
        "8-6. City Names: Write a function called city_country() that takes in the name\r\n",
        "of a city and its country. The function should return a string formatted like this:\r\n",
        "\"Santiago, Chile\"\r\n",
        "Call your function with at least three city-country pairs, and print the\r\n",
        "values that are returned\r\n"
      ]
    },
    {
      "cell_type": "code",
      "metadata": {
        "id": "4UKDFzU29-J_"
      },
      "source": [
        "def city_country(city,country):\r\n",
        "  full_name=f\"{city},{country}\"\r\n",
        "  return full_name.title()\r\n",
        "  "
      ],
      "execution_count": null,
      "outputs": []
    },
    {
      "cell_type": "code",
      "metadata": {
        "id": "5TdFPKQMD_PL"
      },
      "source": [
        "city_country(\"prayagraj\",\"india\")"
      ],
      "execution_count": null,
      "outputs": []
    },
    {
      "cell_type": "code",
      "metadata": {
        "id": "0GGhA89XEKEp"
      },
      "source": [
        "#album\r\n",
        "\r\n",
        "def make_album(artist_name,album_title):\r\n",
        "  for store_data in (artist_name,album_title):\r\n",
        "    store_data={\"artist\":artist_name,\"album\":album_title}\r\n",
        "  return store_data\r\n",
        "  \r\n",
        "  \r\n"
      ],
      "execution_count": null,
      "outputs": []
    },
    {
      "cell_type": "code",
      "metadata": {
        "id": "tU988-y0J2jy"
      },
      "source": [
        "user =[\"Satyam\",\"Shivam\",\"Shundram\"]\r\n",
        "data =[\"Song\",\"Music\",\"love\"]\r\n",
        "\r\n"
      ],
      "execution_count": null,
      "outputs": []
    },
    {
      "cell_type": "code",
      "metadata": {
        "id": "g_vTyfxZMeer"
      },
      "source": [
        "music_industry=print(make_album(artist_name=user,album_title=data))"
      ],
      "execution_count": null,
      "outputs": []
    },
    {
      "cell_type": "code",
      "metadata": {
        "id": "oagojqO5Md3r"
      },
      "source": [
        "\r\n"
      ],
      "execution_count": null,
      "outputs": []
    },
    {
      "cell_type": "code",
      "metadata": {
        "id": "yhSXP4dUS-4X"
      },
      "source": [
        ""
      ],
      "execution_count": null,
      "outputs": []
    },
    {
      "cell_type": "markdown",
      "metadata": {
        "id": "97yqbTQNEXbj"
      },
      "source": [
        "8-7. Album: Write a function called make_album() that builds a dictionary\r\n",
        "describing a music album. The function should take in an artist name and an\r\n",
        "album title, and it should return a dictionary containing these two pieces of\r\n",
        "information. Use the function to make three dictionaries representing different\r\n",
        "albums. Print each return value to show that the dictionaries are storing the\r\n",
        "album information correctly.\r\n",
        "\r\n",
        "Use None to add an optional parameter to make_album() that allows you to\r\n",
        "store the number of songs on an album. If the calling line includes a value for\r\n",
        "the number of songs, add that value to the album’s dictionary. Make at least\r\n",
        "one new function call that includes the number of songs on an album.\r\n",
        "\r\n",
        "8-8. User Albums: Start with your program from Exercise 8-7. Write a while\r\n",
        "loop that allows users to enter an album’s artist and title. Once you have that\r\n",
        "information, call make_album() with the user’s input and print the dictionary\r\n",
        "that’s created. Be sure to include a quit value in the while loop"
      ]
    },
    {
      "cell_type": "code",
      "metadata": {
        "id": "yv2-IYOtEa35"
      },
      "source": [
        "m1=make_album(\"smith\",\"highway to hell\",song=20)\r\n",
        "m2=make_album(\"dinesh\",\"thunder stuck\",30)\r\n",
        "m3=make_album(\"albama\",\"live on\",40)\r\n",
        "\r\n",
        "m=[m1,m2,m3]\r\n",
        "\r\n",
        "import pandas as pd\r\n",
        "\r\n",
        "pd.DataFrame(m)\r\n"
      ],
      "execution_count": null,
      "outputs": []
    },
    {
      "cell_type": "code",
      "metadata": {
        "id": "6fzCujujPFKG"
      },
      "source": [
        "def greet_user(names):\r\n",
        "  \"\"\"Print the simple user in each user in the list \"\"\"\r\n",
        "  for name in names:\r\n",
        "    msg=f\"Hellow, {name.title()}!\"\r\n",
        "    print(msg)"
      ],
      "execution_count": null,
      "outputs": []
    },
    {
      "cell_type": "code",
      "metadata": {
        "id": "8PseCp2gIKx-"
      },
      "source": [
        "username=[\"satyam\",\"dinesh\",\"suraj\"]\r\n",
        "\r\n",
        "greet_user(username)"
      ],
      "execution_count": null,
      "outputs": []
    },
    {
      "cell_type": "markdown",
      "metadata": {
        "id": "1LZi-yHDQYGr"
      },
      "source": [
        "#Modifying a List in a Function\r\n",
        "When you pass a list to a function, the function can modify the list. Any\r\n",
        "changes made to the list inside the function’s body are permanent, allowing\r\n",
        "you to work efficiently even when you’re dealing with large amounts of data.\r\n",
        "\r\n",
        "\r\n",
        "Consider a company that #**creates_3D** #**printed_models** of designs that\r\n",
        "users submit. Designs that need to be printed are stored in a **list**, and after\r\n",
        "being printed they’re moved to a separate list. The following code does this\r\n",
        "**without using functions:** "
      ]
    },
    {
      "cell_type": "code",
      "metadata": {
        "id": "6Am6o_QeIa1Z"
      },
      "source": [
        "# Start with some designs that need to be printed.\r\n",
        "unprinted_designs = ['phone case', 'robot pendant', 'dodecahedron']\r\n",
        "completed_models = []\r\n",
        "# Simulate printing each design, until none are left.\r\n",
        "# Move each design to completed_models after printing.\r\n",
        "\r\n",
        "while unprinted_designs:\r\n",
        " current_design = unprinted_designs.pop()\r\n",
        " print(f\"Printing model: {current_design}\")\r\n",
        " completed_models.append(current_design)\r\n",
        " \r\n",
        "#Display all completed models.\r\n",
        "print(\"\\nThe following models have been printed:\")\r\n",
        "for completed_model in completed_models:\r\n",
        " print(completed_model)"
      ],
      "execution_count": null,
      "outputs": []
    },
    {
      "cell_type": "code",
      "metadata": {
        "id": "f1jyLUUaRkyl"
      },
      "source": [
        "#Now build the function using def\r\n",
        "\r\n",
        "#1-build the function for print the model\r\n",
        "#2>Simulate printing each design, until none are left.\r\n",
        "#Move each design to completed_models after printing.\r\n",
        "#create the function for show the model\r\n",
        "#Now call the print model, and show the model\r\n"
      ],
      "execution_count": null,
      "outputs": []
    },
    {
      "cell_type": "code",
      "metadata": {
        "id": "XgSywFr_SGwK"
      },
      "source": [
        "def print_model(unprinted_designs,completed_models):\r\n",
        "  while unprinted_designs:\r\n",
        "    current_design=unprinted_designs.pop()\r\n",
        "    print(f\"Printing model: {current_design}\")\r\n",
        "    completed_models.append(current_design)\r\n",
        "\r\n",
        "def show_completed_models(completed_models):\r\n",
        "  print(\"\\n The following have been Printed\")\r\n",
        "  for completed_model in completed_models:\r\n",
        "    print(completed_model)\r\n"
      ],
      "execution_count": null,
      "outputs": []
    },
    {
      "cell_type": "markdown",
      "metadata": {
        "id": "ihFifMP7ev88"
      },
      "source": [
        "Preventing a Function from Modifying a List\r\n",
        "Sometimes you’ll want to prevent a function from modifying a list. For\r\n",
        "example, say that you start with a list of unprinted designs and write a\r\n",
        "function to move them to a list of completed models, as in the previous\r\n",
        "example. You may decide that even though you’ve printed all the designs,\r\n",
        "you want to keep the original list of unprinted designs for your records. \r\n",
        "146 Chapter 8\r\n",
        "But because you moved all the design names out of unprinted_designs, the\r\n",
        "list is now empty, and the empty list is the only version you have; the original is gone. In this case, you can address this issue by passing the function a\r\n",
        "copy of the list, not the original. Any changes the function makes to the list\r\n",
        "will affect only the copy, leaving the original list intact.\r\n",
        "You can send a copy of a list to a function like this:"
      ]
    },
    {
      "cell_type": "code",
      "metadata": {
        "id": "91z3Cf0Jb82Z"
      },
      "source": [
        "#list of the unprinted list and empty model \r\n",
        "\r\n",
        "unprinted_designs[:] = ['phone case', 'robot pendant', 'dodecahedron']\r\n",
        "completed_models = []\r\n"
      ],
      "execution_count": null,
      "outputs": []
    },
    {
      "cell_type": "code",
      "metadata": {
        "id": "r8IXuzYLcJz6"
      },
      "source": [
        "#call the fuction \r\n",
        "\r\n",
        "print_model(unprinted_designs[:],completed_models)\r\n",
        "show_completed_models(completed_models)"
      ],
      "execution_count": null,
      "outputs": []
    },
    {
      "cell_type": "code",
      "metadata": {
        "id": "ebJPfcaccfBv"
      },
      "source": [
        "#Passing an Arbitrary Number of Arguments"
      ],
      "execution_count": null,
      "outputs": []
    },
    {
      "cell_type": "markdown",
      "metadata": {
        "id": "BdY1TAhqxNa1"
      },
      "source": [
        "Sometimes you won’t know ahead of time how many arguments a function\r\n",
        "needs to accept. Fortunately, Python allows a function to collect an arbitrary number of arguments from the calling statement.\r\n",
        "#For example, consider a function that builds a pizza. It needs to accept a\r\n",
        "number of toppings, but you can’t know ahead of time how many toppings\r\n",
        "a person will want. The function in the following example has one parameter, *toppings, but this parameter collects as many arguments as the calling\r\n",
        "line provides:"
      ]
    },
    {
      "cell_type": "code",
      "metadata": {
        "id": "W_9D1MQCxPud"
      },
      "source": [
        "def make_pizza(*topping):#*toppings, but this parameter collects as many arguments as the calling line provides\r\n",
        "  #print list of the topping havebeen requested \r\n",
        "  print(*topping)"
      ],
      "execution_count": null,
      "outputs": []
    },
    {
      "cell_type": "code",
      "metadata": {
        "id": "ZS3GJ08Qx13x"
      },
      "source": [
        "make_pizza(\"chilli\")\r\n",
        "make_pizza(\"tomato\",\"greenpaper\",\"corn\")"
      ],
      "execution_count": null,
      "outputs": []
    },
    {
      "cell_type": "code",
      "metadata": {
        "id": "SV6N17WPx9xZ"
      },
      "source": [
        "#now we use the loop\r\n",
        "\r\n",
        "def make_pizza(*toppings):\r\n",
        "  #summrise the pizza we are about to make \r\n",
        "  print(\"\\n Make a pizza with following step: \")\r\n",
        "  for topping in toppings:\r\n",
        "    print(f\"-{topping}\")"
      ],
      "execution_count": null,
      "outputs": []
    },
    {
      "cell_type": "code",
      "metadata": {
        "id": "tc4tX-qwz2pn"
      },
      "source": [
        "make_pizza('pepperoni')\r\n",
        "make_pizza('mushrooms', 'green peppers', 'extra cheese')"
      ],
      "execution_count": null,
      "outputs": []
    },
    {
      "cell_type": "markdown",
      "metadata": {
        "id": "eOMhYGvd0m9C"
      },
      "source": [
        "#Mixing Positional and Arbitrary Arguments\r\n",
        "If you want a function to accept several different kinds of arguments, the\r\n",
        "parameter that accepts an arbitrary number of arguments must be placed\r\n",
        "last in the function definition. Python matches positional and keyword\r\n",
        "arguments first and then collects any remaining arguments in the final\r\n",
        "parameter.\r\n",
        "\r\n",
        "\r\n",
        "For example, if the function needs to take in a size for the pizza, that\r\n",
        "#parameter must come before the parameter *toppings:\r\n"
      ]
    },
    {
      "cell_type": "code",
      "metadata": {
        "id": "hcfNeKr4z4cQ"
      },
      "source": [
        "def make_pizza(size,*toppings):\r\n",
        "  print(f\"\\n Making a {size} inch pizza with following step\")\r\n",
        "  for topping in toppings:\r\n",
        "    print(f\"-{topping}\")"
      ],
      "execution_count": null,
      "outputs": []
    },
    {
      "cell_type": "code",
      "metadata": {
        "id": "U1gW8o-_13p0"
      },
      "source": [
        "make_pizza(18,\"chilli\",\"tomato\",\"onion\",\"green paper\",\"cheeze\",\"olive\")"
      ],
      "execution_count": null,
      "outputs": []
    },
    {
      "cell_type": "markdown",
      "metadata": {
        "id": "pc4uYHTs2hQt"
      },
      "source": [
        "#Using Arbitrary Keyword Arguments\r\n",
        "\r\n",
        "\r\n",
        "Sometimes you’ll want to accept an arbitrary number of arguments, but you\r\n",
        "won’t know ahead of time what kind of information will be passed to the\r\n",
        "function. In this case, you can write functions that accept as many key-value\r\n",
        "pairs as the calling statement provides. One example involves building user\r\n",
        "\r\n",
        "profiles: you know you’ll get information about a user, but you’re not sure\r\n",
        "what kind of information you’ll receive. The function build_profile() in the \r\n",
        "Functions 149\r\n",
        "following example always takes in a first and last name, but it accepts an\r\n",
        "arbitrary number of keyword arguments as well:\r\n"
      ]
    },
    {
      "cell_type": "code",
      "metadata": {
        "id": "5mQ4ATC018pp"
      },
      "source": [
        "def build_profile(first,last,**user_info):\r\n",
        "  user_info[\"first_name\"]=first\r\n",
        "  user_info[\"last_name\"]=last\r\n",
        "  return user_info\r\n",
        "\r\n"
      ],
      "execution_count": null,
      "outputs": []
    },
    {
      "cell_type": "code",
      "metadata": {
        "id": "-aEP36bA4p1m"
      },
      "source": [
        "user_profile=build_profile(\"Satyam\", \"Bhatt\",location=\"Prayagraj\",job_profile=\"Data Scientist\")\r\n",
        "print(user_profile)"
      ],
      "execution_count": null,
      "outputs": []
    },
    {
      "cell_type": "markdown",
      "metadata": {
        "id": "X6ve5ycL6Uyd"
      },
      "source": [
        "The definition of build_profile() expects a first and last name, and\r\n",
        "then it allows the user to pass in as many name-value pairs as they want. The\r\n",
        "double asterisks before the parameter **user_info cause Python to create\r\n",
        "an empty dictionary called user_info and pack whatever name-value pairs\r\n",
        "it receives into this dictionary. Within the function, you can access the keyvalue pairs in user_info just as you would for any dictionary.\r\n",
        "\r\n",
        "\r\n",
        "In the body of build_profile(), we add the first and last names to the\r\n",
        "user_info dictionary because we’ll always receive these two pieces of information from the user u, and they haven’t been placed into the dictionary\r\n",
        "yet. Then we return the user_info dictionary to the function call line.\r\n",
        "We call build_profile(), passing it the first name 'albert', the last\r\n",
        "name 'einstein', and the two key-value pairs location='princeton' and\r\n",
        "field='physics'. We assign the returned profile to user_profile and print\r\n",
        "user_profile:"
      ]
    },
    {
      "cell_type": "markdown",
      "metadata": {
        "id": "Bn0sG5Y46czq"
      },
      "source": [
        "The returned dictionary contains the user’s first and last names and,\r\n",
        "in this case, the location and field of study as well. The function would\r\n",
        "work no matter how many additional key-value pairs are provided in the\r\n",
        "function call.\r\n",
        "\r\n",
        "You can mix positional, keyword, and arbitrary values in many different ways when writing your own functions. It’s useful to know that all\r\n",
        "these argument types exist because you’ll see them often when you start\r\n",
        "reading other people’s code. It takes practice to learn to use the different\r\n",
        "types correctly and to know when to use each type. For now, remember to\r\n",
        "use the simplest approach that gets the job done. As you progress you’ll\r\n",
        "learn to use the most efficient approach each time."
      ]
    },
    {
      "cell_type": "code",
      "metadata": {
        "id": "KzZvc_4P5LIu"
      },
      "source": [
        ""
      ],
      "execution_count": null,
      "outputs": []
    },
    {
      "cell_type": "markdown",
      "metadata": {
        "id": "ii1UdB8E8FMP"
      },
      "source": [
        "#Storing Your Functions in Modules\r\n",
        "\r\n",
        "One advantage of functions is the way they separate blocks of code from\r\n",
        "your main program. By using descriptive names for your functions, your\r\n",
        "main program will be much easier to follow. You can go a step further by\r\n",
        "storing your functions in a separate file called a module and then importing\r\n",
        "that module into your main program. An import statement tells Python to\r\n",
        "make the code in a module available in the currently running program file.\r\n",
        "Storing your functions in a separate file allows you to hide the details of\r\n",
        "your program’s code and focus on its higher-level logic. It also allows you to\r\n",
        "reuse functions in many different programs. When you store your functions\r\n",
        "in separate files, you can share those files with other programmers without\r\n",
        "having to share your entire program. Knowing how to import functions\r\n",
        "also allows you to use libraries of functions that other programmers have\r\n",
        "written.\r\n",
        "There are several ways to import a module, and I’ll show you each of\r\n",
        "these briefly.\r\n"
      ]
    },
    {
      "cell_type": "code",
      "metadata": {
        "id": "AeO5tZzl9X-k"
      },
      "source": [
        "def make_pizza(*toppings):\r\n",
        "  #summrise the pizza we are about to make \r\n",
        "  print(\"\\n Make a pizza with following step: \")\r\n",
        "  for topping in toppings:\r\n",
        "    print(f\"-{topping}\")\r\n",
        "\r\n",
        "import pizza"
      ],
      "execution_count": null,
      "outputs": []
    },
    {
      "cell_type": "code",
      "metadata": {
        "id": "wgXN8U3Z9toA"
      },
      "source": [
        ""
      ],
      "execution_count": null,
      "outputs": []
    },
    {
      "cell_type": "markdown",
      "metadata": {
        "id": "T1V_2YVE99oX"
      },
      "source": [
        "When Python reads this file, the line import pizza tells Python to open\r\n",
        "the file pizza.py and copy all the functions from it into this program. You\r\n",
        "don’t actually see code being copied between files because Python copies\r\n",
        "the code behind the scenes just before the program runs. All you need\r\n",
        "to know is that any function defined in pizza.py will now be available in\r\n",
        "making_pizzas.py.\r\n",
        "To call a function from an imported module, enter the name of\r\n",
        "the module you imported, pizza, followed by the name of the function,\r\n",
        "make_pizza(), separated by a dot u. This code produces the same output\r\n",
        "as the original program that didn’t import a module:"
      ]
    },
    {
      "cell_type": "code",
      "metadata": {
        "id": "d-SaG-3N9rdf"
      },
      "source": [
        "\r\n",
        "pizza.make_pizza('pepperoni')\r\n",
        "pizza.make_pizza('mushrooms', 'green peppers', 'extra cheese')"
      ],
      "execution_count": null,
      "outputs": []
    },
    {
      "cell_type": "code",
      "metadata": {
        "id": "AJxpExRq-IgG"
      },
      "source": [
        "import os "
      ],
      "execution_count": null,
      "outputs": []
    },
    {
      "cell_type": "code",
      "metadata": {
        "id": "qq6TF9u35vxM"
      },
      "source": [
        "#help(os.listdir)"
      ],
      "execution_count": null,
      "outputs": []
    },
    {
      "cell_type": "code",
      "metadata": {
        "id": "kknpXxED50FL"
      },
      "source": [
        "#dir(os.path)"
      ],
      "execution_count": null,
      "outputs": []
    },
    {
      "cell_type": "markdown",
      "metadata": {
        "id": "wBt0qKlH7OE-"
      },
      "source": [
        "#Class  Object Oriented Programming  "
      ]
    },
    {
      "cell_type": "markdown",
      "metadata": {
        "id": "gLL6Bx_b7v4d"
      },
      "source": [
        "You can model almost anything using classes. Let’s start by writing a simple\r\n",
        "class, Dog, that represents a dog—not one dog in particular, but any dog.\r\n",
        "\r\n",
        "What do we know about most pet dogs? Well, they all have a name and age.\r\n",
        "\r\n",
        "We also know that most dogs sit and roll over. Those two pieces of information (name and age) and those two behaviors (sit and roll over) will go\r\n",
        "in our Dog class because they’re common to most dogs. This class will tell\r\n",
        "Python how to make an object representing a dog. After our class is written,\r\n",
        "we’ll use it to make individual instances, each of which represents one specific dog."
      ]
    },
    {
      "cell_type": "markdown",
      "metadata": {
        "id": "R8tHCmZz2K3M"
      },
      "source": [
        "![5d8350501fa9f72a27a893bf_Oo65m_6e_qkDzypQAEMmPHMgn_mbbZo492Zf-qLCs1Rw1gc6CUAZqLxgmawjN1qdAiIrSqtRU5PpkEYlM2MAhUYjt1SwuvUialeWk2c6mIu0Vwt5F97USlsy1lmLTy_XsHjH5GK0U2BPhz3TEA.png](data:image/png;base64,iVBORw0KGgoAAAANSUhEUgAAAi0AAAGtCAMAAADtb7QFAAADAFBMVEUAAAAAAwV7i2MAAAAAAAAAAADcchoAAAAAAAAAAAAAAAAAAAAAAAAAAAAAAAAAAQEAAAAAAAABZ5QAAQAAAAAAAAAAAAAAAAAAAADzpTsAAAAAAAAAAAAAAAAAAAAAAAAAAAAAAAAAAAAAAADacRkCAgEAAAAAAAAAAAAAAAAAAAAAAAD/mDEAll0AqXEAoGi4YRUAi3dBwNwlndLskC4Ji4A9gUgAwYgAijsBmGMBZ5QpnsIReqvsiysAs3sXg7UAp28Bi1MAkFjXbxkAnWQAaqI1rcwbi8DUbhkCZ5Qhlcsjlrc7t9QAh0/8oDcCZ5QBZpTkgiUEapv4qj4AhUoCZ5UAhkxAwOAAhk46ut8AiE1GyOIBZ5QBZ5Tbgyj9njXnlDIJcKQCZ5S/YBTMaRf6ozkAt3/tnDb/mDHbdBz7ozhDyuANdaW/YhcCZ5QGbJ8fia3/mDEAhUv6ojgAt3+3dSsBbYEBsXrccxv7ojhGyOJGyOIAsXoAr3lGyeIAuIAAu4P8oTfLZxgNkH4Aij4bmK0CZ5S/YRbfjS6ehUQlndISk4wpo9kChEv3qj1AweEAx41GyOMnodcWlZtrml+EkVT3qj4AyI4AhUsoqnFSomcFjmYAPlIAxo06p22CUxvccxu/YBX/mDEAsXoAxo1GyOIoodn4qj4CZ5QAhU0AAAAAj1cAi08KcabNahgAhUoAyY8po91HzOYAtH3BYRQAY5Hrex0DbpzKZhUCa5n/skH/oDMAuoEOhUzleh5J0u68XRPFZBb1jisAgkgHbqQTsXkAXI3hdhy7WQ/RZAMA0JTrhSbSeyQqpuLTbxtXf0YBa4oAgFcAYEGfYx8AAAAAAAAAAAAAAAAAAAAAAAAAAAAAAAAAAAAAAAAAAAAAAAAAAAAAAAAAAAAAAAAAAAAAAAAAAAAAAAAAAAAAAAAAAAAAAAAAAAAAAAAAAAAAAAAAAAAAAAAAAAAAAAAAAAAAAAAAAAAAAAAAAAAAAAAAAAAAAAAAAAAAAAAAAAAAAACkg/qPAAAAoHRSTlMAAgMbJgn+T4W8plk5lvYP3u/8YBRn6bNA/nnIjkad48N+zq1NMnJtLSHY0vv+/f3tGP77DQv3+/727/v8F/T58vv06in+/fusX/v4/OSqeDo4KNP2yKNSOyrImeG1/mr936CCZ0dE/t7LkBXyqItM/cJ+fWf97eaHKOraybGunYJbJfr38dPF/fvt67lWvGzlyoT7+/vmxGv+/e3dsP3VAhq1UwAAT3dJREFUeNrtfQlgHMWZ7l/dPfeMZqQZXaPTh2wZ2AQHmyQ4BFjgkY1JlhwvG0jABAt7MTLBNhZ4MbbsmGdHtnGCjUGOCFZ4BKLcm2xI3iZZsmQTEkhI2A0+hG9bhzUjaTT31fWquufokWZ0zoxmNP2DNd3V1dXVVV9//1HV1QCyyDJZQWkvDk/tQG62CZaRkaxFUCJqcBIk4dHASt2UCIv/xpyMcBq7BKWoBoK0dXO8vpO469zCLsp4fREavTE2LcmRsRVFrDF5gRaORenhtWR1TW9jLOEsSeqWqcull/wzU0uLRSyWFa6AgVOU1AAbxHGywcBWq6rB6A8LaQhzCq6kxgIWD5/iFhBGGm04gMSTyzXVYPFGTgZ48f+FeelpNZXDPJrozlHSpz6haOkhnUnhR5NoUDRu77C+zu+EYs2gR+r5FotPVeSB2YALwkY9E5oKJyK9ocbiq3fy02+DsSSgCgstwtEd3OjxHSI7TVafHYskjPASJ7uXbj3GnQkKaeaD4snNrtrjKDnPLfrKI+dphTFbO/Q0TdjhGXQkyYtwzX641zNBLXHS5mAV6qRFI2x5Bh51THzzOJliTNX4jPaQuLlGrXKg2dBGhqfgS+5JXplk05mcz9KurLWNV90p3kjA9K2H+iin0DPNPR2wYcgy0Alwr8IhGh819kOw44xlQNEBq/gwTdPA2pABGOUhaKq5kBQC7FCTW9jQc1+F1rMWf6AdNrhDyWo9CFDsmeip8pl7ceLJtOgj0aJbRhXtBOifRIsuHhlxTb7fSSucKlGF0RFocYVnAy4qAKN70syifgHWbgnaiju2OMZt2iJucNLgxyjIAMktAANKu7qqKhQAigZNV5cWUeaBmuIuk4rYIIjTdnVpjFQfarrm03MVpUVdVxqTKXZY1FUtnKwv66rT0ZNZQ1fXfJaerO0yKeLnkExqTcP41E6LK1Yk5klStOSYsXYBO5G6QLDkiq7ScXIRTVTUpQYk3aEamzRD9SzoIlLfcoNxkhcm3UY6kBqIihr9uPdIutwyhbuhna8ifxlij/ihxd8XBAh2+1bB0QaB1J3trS4/gScOeVZDJy/Rd8GBAGwPidtIov8IYC+Dnv4qyg5ttrvpyWHnPbBHlaAuhRMITH3e7ohXlliMZP88YAF8kmciWdE0s3CC4/ypyNMvKRNFDscu0d0LPHDxg9JbSKHOFQiFgy3gYnGstPFqLqRJMiJpxoTqjEqHsekYjvU76XMdOzz6egk2iB1atWHSBMELLoTjmRMrQu8ImmMW9GRqBwyY6F8Myo4mm008gus3w2WWXM11BM6FIrl9jwHXGCEtjDGC0FoI064TJd6oviOrTtDfeXtA7YqevAq4imge8QRaASwBWSQ1el/RYjHUkruOHxGkdA94EotGQp1iJeBRZYpHJLtgKgIXLReNvjaCUfcTkxBBbdANRzQgvVjsbJR4J2IjSTJiyWWQtDooMT2SMyE94mEIh1HSlkLxG8BQD36bItKX8UZBCcVSjRKEoA3w6MZKWTvSt80BDiMGGjkIuaJHjjFwxATYoiZGQbTywX5o90sbT6cg2CT9UmE1VJtZKV8JnYdCsON07M4t0BHRuiFoXGQwmFmxJosWzIvcYcWiWrVOEbuvJTp1bfViPZhr3cAbDLVmHHfTFMWwYzhWNE+LxrBoQQ02ltbqsU4rcjbJp7LWzlPRpwtz2moWs+ZqQyllBswaPEPAVNdWC3ugX1yrNlsiLQUN5IZUUJzcKhwhlhZg3QJSH12tSjyb3M/ixliXQMU8g7oGFGptA7EFF+hoxhp6szSfVQ/CfVcsWEwyqmvnkcbHCh1pEIWQrtcuQjRd3RhNN4qQJA2F6WG1EXOlJNkSaym91aBW0Qw1sSZygI8gAURM1Gi1erEMtlpLqo0tpBmsFQqsqtVBuNZQu1jAnFE1r9ZaI9ZOtaAUQ4261kprZzQbDNGOCRvaVdQnwh1Ssh9o6vASe/FFCMQdh9rNe/ukFpG1j9QIsyrBNVnjFNmfdg30CGAaAkcwlt/b2lp7UbC4zP6d9Gezy04rENqzJuKXC8U85ukTnCmLy/4C3V+rMO0G6CBbqySdZu6RFm0Qi77QuZHVH4AHXeZ9cKdoCZftocdXBYnbt3AnbDujpW5Cs9tN9O/zZItY83Cfi97CN4VbUPkFiKn76fVawuGkupso2SHSartXWYy7YbWfOJJDgpPYZFDZhKovCeym+4+oHIceIm7E7i0O9wtwD2Cuuk0o4JHeILnvICnAQ295bcDN1dB6tlwI0/QXN5i1+2i62b7ES894TLSq3Qc2k53i/WtHSv3P0NoKLgZpKT/6Gr3JusCeB6LWKGnYA1tPUv1N22joKNwLgm1qegoeJEjXCU7uo2fYfWLTPkZPqinaTlPXlxwjtajbtQWz+2ljOfyNTCst30jujhRyCYrdBC0XoLnmeKxN1OVQcZrCR8IZx9VgUDrisSK+nR6t373W1KM3mWO2t7lsrdDOmmdos0bF5oELVTSP8XLn+pCr1N0OT1B91Qu6YXLPjX1HWgasPaVtaxu6Ee2/w7DedJZjIMTczR5tdoc4VuLuGb8yumg3rZNDeWCNSU0ONRfbqDvn2LPlYu1wWeeO4zQms3nwxebVBs3uQ00VfcDeXX+5fbVpMKQmF6s4sKOv5LzpCGwiHYAUz8MqrUv5/NpwEiuPeo9ryHNUC0i7u1mhduKKwUPNI8RFIz6j0UGrzuyGR+xQsW9DgKg68jz1QmezgjTUvP71/AiHj+67hzz19BB7dD3r5NqbQwu3rzYMdbatv0x6uQwGrbuF9LWqkQM0fc8qH32sBoWuGAKrYd+ajfxQ55HmxuPkcgp3J2wZ9pk7dxA1EatoX/OhXfdWvYeFR921ZXfpxTDd9MIOQmhPwyomZEWXoeru8n1NChcnsMl+uNesZvqPbKB3YSfo7LzXxA13bO7r4zcqcFtnBHAY7Agz5CdwKu4r2U7DIEuq3qSPp+FSCFbGLQ99P7RqQD8IgTN++6nzMed9+KKoCIkja42fTPWF0MN7Ox/ot/svqohlxGHRNSRddO7IvZfc3e5L69sv0YLqDzQ92H/C73a6oNtvgoDb73ahuJV4bkzRpQCVwHbegy/1Ae0ikm4xdGw85e8eOP7YdqIwu2Hv81v8zp5TDzZ1kEZ0+O1FELjg9pOmqTrQctze7e9/BKgbsego3OO1+533CY+dRCrpXcOigxAmHOAC5b577T02MGoPtRp9fnv/Vug00Kqrtq/90nm3+9TDB46I5ymPrrb3eADOevoH/G7iLGiWYErmnQcf6O9xBuDQiwP3OXtC98JBHcl9GTp3P0jSPU3tL3oecvb4HoHOarEgjfB3+77V7os93ofh0CXBSeuEJ07Z3ee/tH2PxNUNMZvhaL+o2BH0wd4SIW8pOGzghg1Kt//MBQ9pWi+wdtq05ImBRz0Xuk+4Wg+UC8bs7s67PT3nVbD3RbBePDO0ntisQtnFUMkBYywBazChdYyLgDDzSUnKEIQvCkESzsLq1dojcMoGwXaSS4GIvRijpY4SPW020kVnEttb5IN77NTK7rNBOxc7ouxsDgQVSBFUgp5gSLUb9AOCLU6NgUEwKlDM7KVQLEte9JF7fY5gLOBZ0vqYk9RMEXaC1UITWh0OArUBDaiXkFKHvUSpkHJxwz7whUk+0EKbDhuD0OKjl3aVjiKWfqOFVWl3wQ4xPnRkg4d6Hco9cKqbQvjkFggQGOiPgtdN93vWR847ssoZppUm+pBSsrep/bR4YCNpCHDfSx5j8iQEA01QJKavJrcO5BkBro9U71IzDCTUo8UVpLexAWotGLNFcO8JWl336oTISJ92dXNH5wuLVPTK3A4QIkvqvU2Ex0Mw5EAKJMTriW1mEUYJFHtbztLGCg3DBYXQlY/66VXITXiPI+Qogg6xg21rh4zAefSjadfhpjqacHpMioG1UmUVeWhaT/kRDq9tNxcfl4ZF9eD3JA+TFtPnvjkkxKXJLWw3+qOZlOAKUQMdvM2HvhSCcmjtF4cm6Z9K6o2QDVUR9eCZwbBUDUWdW2p/NxV54oN/yAHYIZRphj330aTTPmp7YyPsvS/ivNFyybPW0ifkO75je5FLYxPIjlTwdJOUXDrgqLixKhgWLxKgiom4BxvUfuri4z449CCQHm+uPy7sx8INWq8wIkjgDka3OshC3ckIV1CHRQdrBd8hbAEuakrTdDs0WQlMUFhLnnSpuAWLldg+PRU2UB8Cs0eorikxkHYMqre6D2yHBwgkHSWgrjtOCy45S2uhrzkdjNg0ER42FpNihUbgQe0U0i8I6oSl/UXkbGtrNDTYfidwwUFws+F4zMQMJacJLcZ1IakSIZFeIeav4BwmO68hYEEhDRxs0oYDeAw8CC+zofjJRKsJ1wugSGcGwV/kiDRPCEovlwt1d0LVSQUHftFmTihT9Yzwc3eYFl15IV40A01eagExXolPbvbDkKZc7FahSaCkRyjv0qh6DoNHzBfsIf1lfBr45FHxVuTSncEmn2BE0gvQR77ID2wkGOprPuSjpZW+K+aPhqibquyRUQYVi7Qdos0C4miLkK1I6B7sBhvpBrJVfVx0HdViJS6DISHa7RHwRGrZfhfBGDTbpcQt0c/HQPFgqP3Z+1zkyVzb/iixqEppQBiCOw7BjiHjMalT41JBqYs2Qr8Z2u+j9WvCkU4MiDnOgCQozJEncMh6Ia6kB0l1iXHQ8aArlsaawSmAR3+atgqIoxY9Dxg7RL8j0rwuUGkdghdHfZeYXiN9jBKi0Cwoow45UsFQZxN9gpvUTUQlhCGYxBup2Eh5ThEWipaYoEZ9tOgRqW56GY40DQplNvsEVkshxeATrk2YuilAG+dMslxNHYSayB32xVjzPRBrE+UQRkMrVQbDkQdHHT31ZGT4ynMU1mg2OlCUsrrFixLbE0ZXPvbUC/ZSqpEAwcDQMOGor5bo6xPrYMBMUUeuVA7I6FDvpchCYX41qcJaa48kgoUOQavQWJ1NzcHq40kGkspjSWuLbQxRjh2Sp8l+iDA0XForZUFrqxBIiUcQsYBhu/3uLdC5aEn0kK9pUECYfzNRMDEAhw/AiAOJD00kBSyxZ8YK+P4qt9t9p9tcFQKPjho9Y+TkRR8RJ3GHUxWd2L/wMIqWaR8nnD0ImnU0n5vk09MLzxt/0DaRc4piLcR7oYSOUEVj1r5RQzeeo5vvxv0Xneq0ziEgii76kI6ODVGT7zGooA01DHuKSM97w4KScnoeXtP+tVG3+WC0sSpOjDcUoG63OsgtG1qB5aIRH4UBNhODyOUDrz4WdApAEydpNNHzwcQE8hNHozXWOJjhhShtaADaVLEpUaQhTQL3GotiETZ/dEIAPgtljmNhKseOEWPDD2qLNHbrkIamqfrjkhadGBcxwGCszOA4928GzhbNZ6Pu1mBkID0ZVkYHeR2XIWwUq8odol4BB65IK2pH1YccIR4YMqZ1/EhN1G2UIsdMb8HUeBJunX+M2CaqSPAMoVCPcxXwbPxWcCsUxxoLjz9ybwsBg2xh2FsHwqAChvI9IBhzxDc1GiNpiw+CqRvFPGgJ5SlgIBgf9uX9HWyEJWGBOKSCsW4fbLkg0MrekHgzFQeAi86og2pwNkDcRWZhO5IO1xi5+ICBcGXCewvHFp3QXo4RmM+CYvQgTmJTc4gq/AOq+BhOaA0xDIQoPt8xtqnwmFHZYjhQJFrjxCC00BY7tEDcT7RNQdNBQK8AbA2mEy09TR2c2J7DCUyGRY+S81AFR6rpA66ifQcfuQniKPKwt0H0DwR6PgtuC4zXVhDTCApq2lMXcLeWpd1hrH4K1gv2rH8jHAhwQgDZ2guPXUoy0qbAOAiWeTHbkFQxEgxxPQqtFQ1C/5YqYY0yojp0jTSpUQFr3ouVcqr5UJCNo+HUZmLKxEZrXDCkApwwVNr3KGwXi0bSokc9Ba0qYxCnGvTBpeRRC4r+5YKG2BhOWA+dVgrMmsuT6q7+ZiiiDQSLj8LIMWJQtoJPL9zywcSMPDU1yPXOtadzaNoVBLfQUqrnpfdm1gvPlqXuEOhEhdnUxsEpGv8m5EZ7rA6au6nF364RVFYYDmjHjvglmQpRRc1phvSybT0cra4uLVVXPQWrbFiIdVxaDZ2G2sVmtfVrHTvOj5nYgUDZYK3Q69yta+vjc2aE2DM5+cw9cKBfu9g8T/NM+5rQMfHk9cGd6gr9PG+EvUSEhR1NbQZ1jb6mVKOihhjxRl/UqvQqdTVx/k1NHWWlixuxxDuOF10nKTpq9QrPC3JtJbdDKlezSKPH1IwZ9ZCQx626VEdI6Fxzq6Napa8wl9MQi+8x+Jpmcalhv3Z9ok0+xiwSa+6G7VVWvUr7FVhFq+44BXu1an2N9pnWxDPLNoPFrFdpjjYnGqS+SNRNiLYkMKRCfJp6o/vehOv7xRpUr23XVldUVL/YKp3dEPymRl1aWh3aDRv7hGoeL4XtTfWC4laX6/QV6gFixBADcC0ULV7cgJH/UdhnXVShV1nLucQOjoRBI6qDda4V1C3xaT2PusUZYpuDobBow2LnE/1ieGWtNyiCpSSq2MVGF2u52ROfR6dec+TxbnE6wgMVIp2vDXnEkw3g4NZ8KxKtibu7yA+tkSjOo2dIsn9T0XYhvtHEA+o2wB6ArQkaIGnRsVH1Q3cKVvED+r1iygMuGjAZjOof0LvIY9LfTJ7y1ksO5IINkYlxj9Ao9vCqTjqAtKo+AJaLsdmAOyQ7gmnccZdIYO67F4hX2aikrjTy360R7uRhf8QMbb9TDICo1lJWWXs3S/qfi6sjbdT31RBPWUgPR7zUQ9uOi5cQvCWx2QnQ1G5JDVB3xWMCWa0OSGrXrRDGwEi3qC9FfDhS+ZBQHIPFm72XPFIo5IXtAPdQD3nrcKQR7g7Ri3XcGZlZZot6ZkK11IfWh1B09JU1BbTgYH3h2JR9DBZvscql8DpCkan8avOIM449rmKgyqXyDoYldKX+1j2+yLR/o69U5fKoh8SQHAa12ea3II1f5cU2IVZW39ZyVjhkDIWN4Kn0jjgiE+ZQlctT2eOmLKXFBtWgK3E+ZWLR5J8VsRcEUivVXVaIU7yE2yGF+EOYtWgG3MKFKhw0rEo1pkar504HaTWU5GKqkN1gE4ZFlUqth/eQAgMD0fmmFmPYaY9VAGFdqdcWHUa14IDWWY27IbLPLrxQean0gu6Ftc4QmA2swyZWsPGsUc+9Fy5V6k7SWhTRAsiG+rIYXJoXwD0I63Uj9cdout4SSbci5RlSR9rsdPAVjOK4a6QGpKU4r8ET8Ou/KQxzRVwIc5HPr/d7h8PRSqlejBxGjTafVn/J1C+0FeiwwVnUR0N1bIlPCwrdJdriNTarTWhClYX1CB2lMutPkOyazrv9UWigRJs66RZKNa1KQoTFxeLkNemUndhfycsoCIxXdmkTUscUF9tGMNbqH1X0qA00qozEPyjpxRJflkFjTh+7P+rCsauqu65gpRmRtNjEWsQvkypdWkby2zB3lTWO7RwUzafpKk/SYyle4EhRCzonT0PryEQ89KiTiiVee2IaTrSaY0elUWdNe5UQ14mfjOIn41gKKaesB6pjRyQmOZbs4dFXgFRFj9qQlIljkRIcPQXHJ6YlXDtWP8k18ahACxbLTKwqhpjLoUCgMIM/LM2IpcXG0uMZYunx2mFpYEucPSa9DbEA8XJEcylOjOkVsdPIGdZOUCbOkZO0ARrVWClqB1hBmA2neVIyaanysoqJp3uSDEZtVzEHs/OGTobE2CD4pApDlzCFNdOiaBACOGheV9fi1JezdnUZZvxCKiL8Jc5UZtMKl7A74OUnnpne4Kn7Gvx2EM2h90dJWx5602vUVhgPwsahjN8ZAu3TP7WoNMXmNri3P9X7XfqafbABPDOvTegHgfGskeneBJ5Upnlfhc2qkzCn0IJrGNFFah0YyPydEdOZiTilzNkUOgLh2n2wKpCm11pEozndmMeTuG5DqCcUnlNgEbw5TdgJdWfVjmzcGZ17rHJD7TmDLdXlqGMTsKXF3ECzuIwAGmOLzynJ8p2NczmFIs10gGYLLnNvzYvML24w9csheW0RWXKT5WSRRRZZZJFFFllkkUUWWWSRRRZZZJFFFllkkUUWWWSRRRZZZJFFFllkkUUWWWSRRRZZZJFFFllkkUUWWWSRRRZZZJFFFllkkUUWWWSRRRZZZJFFFllkkSUu8iI4skwKJkmX95bBNVlhCw0w5P8lQR+aFBymBa65LEwh3axqEYsRsDtGfS8N4xSrE9PF2AGZ9ViGS6GhBYGxYldJ5Ka5yFcTBN2kr4kuex//3oCwIL5RRaiXebYksi98lg0m/EqYLHMCLar59eX0g9RdpVGdJB4xLQCpxkExFaTqol+j07NjPhOCZG6Z81KNBg4Kn3T0gF6vIOoFWyoaFaA39jRyigZgGzHiKhroxz4wZvV61mgFY4MRqvV0tevGiiVEZVlItgoOClU1FQxa6Gez2ID4hVNGy32zphGDPsR7i6Bur7pfg58srQ6AZpGvX80SO0ZtNmurlHZgB8LMToIOVtuvslcj8DrUNfy358lrFs99RVTEQXk9AFdUpzJypiuNUKUFjgWLqRwhruuKUgsidgpr0tIPUumMLAfmrgojUVw6QJqyRqTrshLdVMUhdVdFgeoipmDAAuUGBCYHsUQ6+v2OkHd7EUCFMRQGm1VPv/10esCG/WE95y8F9lsPuh3hELjARj/fpwZdp+M4dq+m38oMh7C/aVi2W+a2YOOIU2fytVNVRD9pHwIt9PPYYAHUI2SgX7czXxmuLvMCB0NCJI+Lfn5eQ7IrQHmILQMbycZaZLTMcfHxipDB3uqKkc1ZCJ0Lc5JPwGNdsC90qt9HgDEKDh5B86iAvwwFbbMUDlrYGrvrgivcacFgQEGwNhvAiN3+QdL7UQSZWXtQUaEG/xqWflGbEIoQ6vaBb60SghbFFixSkIyWue4RsdwpUCA4BSWL1jJqQ/2w26YIarUqDYD+oKYG089F4/B8g2L4kCKo9iwxaA0wfzNTbaR2SzjA1RvK9OeIbqJfNG53FKyrUCBo4TTeEP2+cb0Lu4LqiuCgC5DWbAv7ARSlQzyvYFwIV4xYAi7EOIBVMCzvIfsso/DQI3oUru53QMMlfxiQnncj2Yee408FGv85QWM+LT3qc81iLBcV0ENWoNwi3ChOuGEc+wab+O3p6FYsCbB4EhqdIH9RTBZZZJFFlkIzF3LFXpCnamS9radj84xywWTDqWAciqk/oI36BJ5Bs/aUs3IvZgssuBQUCkVtMICmCjK33o2kBSmUqsCswIWRuzFrojvKWiy9EJm2GZvqGZu8iWLpsWmdIolYLbGcoNIB8MoKkEz+RPLkzzmoiDRVozUSiiegMbHA+OYCUzynSUM1gmJ2Jn/Kmih7aFGYhgRFwlWN6I1MgPQ0toRLwsWeJc4SsgtLnOFGzDNhhFltERuEGq0L4QZ3GEq8PjAWa5DWp6jSFDEWp9ZEjqAaVZgJA6sNcsUMz2cDLrImyqJoFAojYYX5rlpL6TeriXekCmkMCznLSFUpU42AVxnOGVVlLK4wKMqNDBjM5Bz/i+K5Bp9SaV4Cyr1D5cNQawbMqRlDxaIKsL5QXa1mDZz8Gsvc4pbyritMdfUslHZpFTCvSw/6LgMCIzI2EJumq4H8W2CBhqIFUE+0DYugvp6cVF0maCJoMIKi2ABwZTkpix6pv4IFY30dKUTDwpJibTZ0kcwtybs2E5bjyBqnoc9HW9wfBCdUAd/qwsiBHd0NpcUwCGo4Z0Pd5t0Ku1pnDGMI0pMcQbFC3Qrd/CJzJFoTDIKu7VQYOWx7VdVgCaNjIX02XkSQ0ZJUsCBpd4ouXPD3hWLXAKUfUzuWXaDQMEJPNAAHPbDAFVKqFo+q0KKQ/pxXwh8qYaaNGureE1EVlD3oWVMaoNLML9enm9xVowjLjwWqUIVOnL8QS6xr6sXOkZGv6MTdyExQ/a5gvw8xcQBriYPCQTGcW5jFhuFkbCRlgRfInya9K72TnvyjSuP3PNxDkuYNh6ESePCBG4LcgOk8Gw4vAqObHWTDjV5M6mAd1kDtMS4wQjyhEXIiMZX7diw8GYSR5sBFEVQBmVtmTei7r00dJekttPyARqOpMotvwAG4IHCPa76mSv+ec355mKgWNQzUa0q0l6D+So1nVQBUxWbNUOgIQE8vDD5mL68rms/B5c4rS0Grg+A50GmuNDtwMcUOMIeyRLqyjGkUfOV2+ru+P43cgrDK6ldBL+dqQGeCoJiHuwEaR1Qjw2F96eVAkd9lfvYuFrGBIDSg4OVAEGF2QfACLDgBKr0d2IXOfo1qJEjUmalPB26EjZzbgG3AlveHEa4ID8j9Nlt2i6arq6irqzatD5M06poQvo0e0HUtkeyihKBvQsgWjZn8maWHXrZbkooFoAM296TXz0KxXxyZrikmRQ5gLXSDIiTO54TYUWF5GRydBCpO9pScK07+xPIchtkkF/2COm1jVvU0ggoNK1sGeepDq41Z7rrZm7Yi+0QzFQVYs3xFjGR1kq/coqiejlpgmDn9+MkzFlKghcehaUwCoMMFDJqzLzLKaEkFl7LSwSmjhWm9KVx2ae4iRvag02gD8ndf1zt067Xlvt28YBLyMrcUCrdg/RS5heE/9T/vb2v5wBKu+/oPXK07L1DM3GIYmVtSicU3VWa5vnzdhhbYAC3XVUIvW1xspRQzpxhGjgalaBe8+Kx/iszwyfUELFTaAFqgsvd3mkHrV+cUYGS0pELLonNTQgvDr/pir2S/jQIGNtzKKHfPHbzIaEkPtxCjpbulrSUhjVIMAcz8a375+hwBDMp2J0zZ2JwttOi0A5OvLTFarvzMhpaxB9ooYL7fU/48PxfwgjJfOE5PUTjLaFEVDUwF2zGjZSxeCGA23Dp4mhIML6Nl8h2Nikam1ukKrWNanDRj4mN4gpZJd+5ooyUpwTC9P5wQLyhdT1dmhM0kSozFKi2D+fj8Hq7zX8NoKiVYgz7x7AalKzO1ZCLvEY/CIwZrkR2PzYdTR1pWpLzGihWw7RefX/7tD330L0Qh4QnwmsPvNGc03qJ5eo0urPT6cPSZWQicX2gSJMzfQZGZQBgka8Dh2DGhj4SJYRiCHiSZ/hNfAm46+Ihv8pBgSwhHPiBu/1l9jhE3/5yYj4meOSbSMp60CATTqzf95K3U/EJaxjKkz+HlVTMcnVNfQqpv3e2PL/QnTA0TXowQ/xefJhz5BfFoZJ/sDmkiZ9qCOIoOHFNvU9NPTBJ8LINb4bgFqk/PH/FqvHT6/I3/JR6pK7v2p+IWnbnQ4NXY5l8Ey2+9b/Gx0vgY5oo/MwFYBLzAhpaP9y678m+p8IKwotz98mbOnrMR4IzHcrGvufw8BhbpHCJdcGQDKzAygm3JyTBGLA4L4GARDgMYXWEL2NhiW+wEyzAKIuw3BjA2uhveC6LG4xzWOcQS8aSZhI927jLQwEds1act3os3wn9BDRx9Cswfjp9wlfDXbv7zsiq7OaEoOwzd+au7Xqt2KylqImXzgtEyMVhEwGxo+Qx8PzVe2KcA9sLd/lyFS8bRgrCG8KtfA4HFJwS7VWMgVMtqRvxmg+flRy8oDIdW+4LY4i/xwojKoazuO7waLLAoZDOF3CT/Yn+g+rwLqr96v0NV1dtXfnFxr8p4cE3DcOlFVHNh/GZl4hgBuP4jNghQiPzXzfQVjQ9HoGGHpygOxoid/j86vdi8UDgFTq641q08/nrEaPnTzZNtDTowcAC+/4nt/Fi8kHuZL2yUny9IK1f/D7+3gfnrL4YNWGGr2fVrr+Wmn/iUYZUPLbYFKva+OPzb/W8CfuNrfyHca/HbgqpQED3zxo9GMD7yUnFRz9E3RlTtP7sU1PlV/uJbX1KY+tiQLzCsqg13Vgx6dSYc4HzjWoR0XO+aBV9Y8o/XLL1Tr7v6inkfXNh4bdkyAWHeiKQ8eSeuHJsYPeWK+sb3VSy8+aoKfQ++ft6GbS2TbpUVK7b9YgNX/3d/xsyYxeQg+Am68e0gKky0dFYHOh4ZbNjX5cD2P7t9lpt+HFR2/DBYYS8eCf7SgZ2/dDg89nfPhmqefdGBw/VP/wA+/e1hDCU/G7bZ4A2/W/WToRCvP/SjQPGt39M/9/pAIADM0R9d4pnn3uy26Q7+ZmS8dl229pqlnx/5ZP2ymoWNZcsoSCYASILcVjneUVpMddnC+T03XR2+d0PLVNqF4GXFB0rCVxzDY9wj48ebPgnwmjNX0ZLhiYHYU/LQeXIRAyiAO2J5j1i5rhYehhliUAbo01RCDrgrIdwUEpwfYlH6aXIpRorgZQsxk8lzNiS8El7k+FKgzEDR7aclnyGWL1we9+JvGW6746q1xWAXJe03R8tce8fnPtvbMsUTqT5a373uej6x+REUrekAWJ+775Fl2G6p7qb62AZ0USQn2AUmU6mDVjwc8W4cBD+k+/WuRce44EUhX0RCUO6ObpddoN8IctfyUNTTEGvihROFzP5fZcbbzz69xQ2ovVvJz+/kpdYLRt3sVnfAhnPWJ8owtziFWFNZUyUEjZ4tWOhfe5FSrYrGaiNLCJzuOEOanW92iejVb+cw1rcp6VfHItJE/h07ET7QeHLyV2/IwvoDT07zvJa2DdfdvOFTCfSCUfikfTh3wZJZtCjoC90Yo2OVT2nnmclOmHAZsvUfPXscgYEq50P0+joThB5WaueVq8KgFRijFxTV1YpV/RDeKxR0GXo7Qks0anV4/TFEtJdY7fBEzNi94heZbj9Ly3TPbGlpg493b1rGJ3SB0ZLLQ0kZtKcQbjxXd1yMtKmqe3AwDEvOsi5FsGb/JuL6LvIRR1GrG0BYbSFWTMUILlV1Q4UjECZOdyXLh9GgAxZf8CDMKaq7dfrLRX4ExW4Ha1FegBpbQCxtnOeQ4T/26zdWPpVZsPTO6PS2lsqfnf1h3JlG2Gjw2XKXWzJpfSNJrFYafy0f8QrbkWMIj81h+RvEzkMJUVsU++ILmiCaS9Dy+Ypv/0NGm2/GKzK1Hdjw0T++JbFeDNXHchctGZ3FHR+Fi4zI0T8W9rmfBIRt2tvin+hCbziyMDnv8cV2xWJiecQTY+njgnXh0//4gR9n0nZ5csVMS1ixrWV5oPJYdKwRgaqfz91RxYzaLfGl2yLLuNF/anS3oD+EY7E/WJKDNJo/cnLkOI7niWZPKD61eB7aGNnamP5/0zdaEqxdYr0AnxfvOGYfxw3cxFSLuDQsukftlldAmzldtPGr6SmHWC8Hh14XtBHCBm+oQH2i5I7KOGCJLjyK07dCo+eujPlF5jSVQ+hl/ZX3R3xpSy5/mTz7b5+NY2zEbN20TAgidsuZzxJD9LZVt2XGwl2RrpJWrNi2oWT+7zGDEWixq0DtlhTGTOru1ZfPr9cB8ZLSycWXb82M85zOwlo2wMc+eX3OGy85VD+EG7QH97S9YE5zuRFdlE4Ll/zZ2JvWSra09a5ftoW4Q/oh2cqdHFoMz9Pfx06nZ9K2aOVSqW+/MfciLUlCL98PfwN0arts5U5K6FrkTTCY9nIv35/+SEv6775lw2d+vwrAB7krOYWWEoKVDtClvVyPLd1+UToiLUng0nLzKtlumaz00ekdYEv/20OeT76W3khLb0buv6UNvrhVC7JPNBlnCYUqV69ZtcmfBhOIrv/GAxyJJmjjE+bSYeWaM9QExNY91pbDcd2cwjHhlEU9M/4SQ+TdDeaapar2V2Jw+Usd7en0jEhn8OsulcWqx3/K5+obsLnFeghb2QszQkvk1fRb5lvDgauCxyRvfvwibX6RpTeDTXCFqu9nb72eo3DJrbWh8IyeW0oqPDDvX24NBT+iAW/JoKfqUoxc7u9Ol9Hy1cw2Qe/HAXIULjnHLfZpvnolksrypUWawFWV4BXm/c4/3XPjpURdlNt6iEZdjr7bduBnr7+Vk3DJNYMqqJ/WXTCUVZau2X7b8Y/d8BHo7R0W002m78X9okWvxc3c6f7JTKQlwdB9l3jSH7cyOWnq5hq3LL7onjK3CI/hLVfrfFT9DEuPzB88tzxOLpYZ6yJiJWfUaIkRzIGDOWnq5hxabPapvgvPU6hoAreOQgpkRBdl1miRwOWHh3OQW9gcw66vwj4FADMIY7z0izefXl1vtbmSxMyLcfC3NTEtZ/5V/UzBYl6RlYZY4Vpe9nsZLROhhTFNHi0MYLz89tvrPrrw2qRQITJk5aA8ZpZqr793hlNd3mrJUku0vb+i6K9Mrg0v5u8nL4gKwre03vaJ6z8y3DucMtfpEuNfq2KGru3LMZKYxr8MDQ8lN3bb4E/355ylm2t2i6ru5GTsFmoBLl9aToyViYzO+YM9742O0U03pJsloyVquny/eHeOWbq5hhZ96ZmJcyHShktvVn9Q4x2euEziFy30xP2iT8wg+B/MamPkYNgl1+yWOn6iZdcQgzHcck/dRxtSGSujTRfve+9zRvs7WG+adu1+cdNwNhtjxbb1zjdzy3LJNbSYvROsXUmxsub2U3dbhye7yOUQGP7jQzG41Ez/dbR/8Id/9vdZBMwKV/XVr+WUpZtrdtSZwfG0I6LRlTVPXH/95t4p9Np8U4Nksmuz9HW0qQRxiZTcN6Kvrs9aY7RV9m7JKUs31+wWi9o5Zu3BeB3JgTXliyqnGk6dP3h+WTxGN+3X0RpcLrDXqW3WsPdsdtqjHn68P5csl5z0oFGi4JgQXvnEDSbvVMs7Pdz+vbgbfcdr0/CGxB+7Hc6dsI+4cVPGCaa+fkk1f0vox7JPNA63sJWXkipqhZYaDg0/3ryX1PgRmDK59NbG/aKyaS7ToSo5F9kSCOZYBilF49TcAHBkzY8eei+XuCXXvn3GDy48Q9/rUgyqwadWqcCv6q0k/0GJ33ngWvjf8H+JOnpnyuQyH07FdJFnmq+jbXwmtklQowd9zbEMIeX0GpDMEpWt3BSCEeb7uCIiGjWAGuyhHnsPx9VwNfoPrp739Be/+Ne/fvGv56exnOzp4SKJLoq9Gj2uZZsYxh0trnMlbv2S9GsfxS0rPgZHiOSkiZBr9cHJvy3zCHsrMVeGTeTftMpN0EVQPx1dtPGZmCYSxEz4ZTBt/EI55fxoTpE10QTsEsUKkqatKbvRKzhC0452JOii9LwaTVfrrnNf5TqbFqQoqJ2Sk4SSw2iROsuiquThlhULK2c8B+k0FH3vszHT5a5XpjEYbT47Bi8u++KR6otz1k7JG7TEwfIIe31vGiaszR+UxOg8D01JF6UchrTDCdDrLWfnOKfkB1oYnr/lwzd40zK5MbkuEnAQ/5MCF+Miy1UyHXrJK07JTZ8oCbEEbuhN09BMUr/oqcQ/UVwkjfun4pdzdqZpyr7P6dM57Pvki0+UiBVKLOkbxiN+kWSJnin7RRu/kfpTAXWDk9ZG9Ul8n1Qi+0RTIZY/3pDOGfZEF52fgV/0yXGOnVvcUz8xXAQvmaif/CKUfEALwy/95LIb0vs6BvGLXrtxrF9ElM0n/Y3wLsBD8bxPwxVwXAX/KrFZxvsKyYk62wRwqRct2vyFSu6ihZi3a8quT/urO/MHvVK/qB38wD8Ez5idYK+DD6np90yisg58UAnmu+y1TzMquHHCos/V2cbnlFvyGyg5jBaqhd5vSv97Xol+0dnblHqCEF8JJQUxTGsexSN2fYlrHZyo1z3N/GKCCM25xR/tSJLcdjjPvOS8s3IFLQQZmaWW+Dqa+px5Uh+5qlODD9mdE+XSHUvCKTPxkmUrdzJgueVD12fqBVJT8JKED2ByX0QTiKduArSY4UJby9zklNxFCzVZim/MFFgS/aIpybmJ4i72xS8ci3HKI7dAfkXe8hItmTJZ4nAZjvtFaRbf4BzllFxFCwHL9ut7Mzqx3hTM1CKj56AG5iSn5ChaGH75x67P7JoXRBf9z7IMkQsMj8xZpAjdk2vO0G03ZHqBlNMlRa9VZajsZ2BOC5NjYFl5YxZW05EuGZVOMcMcFy6nwHLLh7IBFqKLglWXQJZ85hYClmuyARZhmY6M6SIZLVkDy629WbpYZnSRfa6jhcsdsCzNHlhkXZTf3EIN3I/0Zu1ysi7KZ7Qw/PKVN2ZzdZTTppe+J8MlTzURjz5+fW9Wr1jy5Lkhj9z/+amJtmcZLInLF8qSR2hh4JbXer9hMmUXLsQvMssAyEdusTBtwa37v0F92yx50EQXvVRnkQGQnx70NvJv52HV4GaClwybu6bhvYD4bVvZFbITnadoiSLmWa+neDVkEjJ7CVI4C9i22uTuz2e0UHmAcoxeNWi635R+vBBWQVsfV1psgR656/MXLTbdzm2JHPPUPiAck1aKMQ0/jreX2wIyVPIaLTzYq0enbRQ4xg2mzWkCjGl469bHrT0yUuaSJhptxzy1NS1mDMVKK2ScVV6/W0bLbArlmKfAvfkbm4dngpXHnyBYkclhrqMlgphnh2bAMabhtq2cjJU5g5a3J1odkrpK8JQHm+6fRulbSw73yGApFG6RckwbM0VXyTR8uBVk27bw0ALRcIynmL9/sojZj9pkrBQoWqKu0s428+QGCfb9izJ7YDHLaMldxOiFQQJIHfSlWiiQRYvFIKMlKxKaHmKebdOPMxBp2svJWmjuoWXaa5QIrtKzdlySzPI17efWZxUsdTJasiEzW9AmNhCZOEhg2o/WZ9dvPlcvoyU73LJt5nbMU1uJqxTjGAKWh7IcZJG5JTtgWb7oKzr1gzP84GRkIHLzNyjHmB43ZxsshFuOyGjJgiL6+Mplux/vPezadnjdjDnm2SAdJJgFsAB4QUZL5qnlkZUnYYvL8CAcZHaZ8QwBIw4SWCZjs6T7VVSNjJbMg2XN6x8BcInKxHXwyY06lwVmCBn12kmAZW1gV3rxInNLFoyWpU0nIzsEMltcLXAwPPyU5oGZlLpuVtYNlbkl87LympOSPcox6/Ww263e73dZHsT51Joyt2ReDy0cG0JzEcCEH3ZV7NypU68DWWS0RPwhZumik8kOUI5xbXQd9Pj28aU4PyDjkdGSYWrZeM3JlEepGQOww3Xk/l3mB/KgNbUjMloyCpal1eMP5URcpc0Hi3cN8bluxsx1bpn196D/8TrXxJlcLuIqPbxDG/Y+9Swczt3vtWllTZRZajFNcpSYYopopQcPHmS+Ys5VM0a2WzJNLScnnzmCGNfBrY/rNsJh2VkqKLRMgVoSERPe6dqnYnLO8q0blNGSSbl5KtSSgJj1esIx6v3+jYfzK4Ano2W6wsOS6Z9MvetwExSH5QBeQfhEDNzinNFMSOIqgWvjTv5x31M74bDcmXNcE31kWopoDMUIcx3yJIAno2XaiqgmLeVIAnizPA5Z/46Mlox5RDNURGM55mHXwfBONGscc+7vZG7JnMyfuSJK4irtdqsfR/z2sKw45hJaeKjMQKnCXIcWvVMGyxzziaAiM8USV8nVZpX7dm6hZak/UyXr2w7Lb7TOKbQwsPzlDHWpXv+4DJa5xi1FW1wZKnnT7Oghs4yWzIk+Q32q1z8xS8tsf0hGS8ZcooyF0TaWy6vM5b8HLZ30hjDUZugyLnlQOv+4BUUknoIlwmMcgEX6TCiig1tlGzfvuAWP4RWOXwQnkfBRIKfap/7ZczzamQFDt1kpK6I8QwvCnAq0xQQkAfoNPEWxYKucAQUwlFDC9M1TjJ50ZODSe5+RuSXvuMUYUHrU5HeIrik37z2aJKwuF+3Kexuu68lIfH7W3gkwyGiZvrFZfwLc0Z1jY4wa/ncNPS75cZXRIkpxYMxTHjdlcAYJgJe7Nf98IvAnekFEEoGqkkf+ZLTERDVLBMDI3Zp/msimKbjWnOOLFGbyOWyY4Pibygxd+BGZBPIPLd0TubnnM3Rhk/zp3rzklnEGbDCTsbjIrpDcr3mHlgGjcQJAZCbk6lq/S3a25pj/gHgEGQrO6WXDJf/QMjTBcib4XdBn5sqV/Uq5Z/PMg9bPVlDV5frqZCdxRxZXNoOBrl4qRbeWLn7rnNriy14ZLdMWj38iM9aYoZd+9P9nsjnLxRWRvwz/RI2oRLRY4Tuwy0AxoHHaZV7JMFomlsd3Zohc4F8mJhd21zqAx/6px4Neu+fT//59eGuMkv6A4dY/f+tGrLV+Z0O5jJhZR0vGRhb1LeOGXFgIf9evWWr/p9/attD9bUmMOB74t+B1ADrTYuePzHjhd3YZvJqzMloyIhiC1d6+8fPwu9dniFzQtpTkwuLvKEMfHLb/lY8gVsAsHfFEo+0sYZYoBkzRxKx4+IaF3/m6N2SX0ZIJ3sDKgXHRtJzbrgpnyon+PynAwoZ/UMG9jLsiWKAvHuB4lUbXEcdQw/OvE5rZ+aLm9V1clgCzJvfQkillgDDo+eqT9DeVLG944MFMTMulC9I92avmkkzOZTs1zKk3RZWDp/hmACOOm1+/WPP6nhQayTCSPqAcWQxe3x3XF/2Q4ec8WhBWqJ8HaNEcSw2X5Q3/e9ujaQcKHNz6ONqK2KRYaXjnl7Tb8XRfIWEEwOw8v8Banoxg0oEWyihHFg+pz69ZbbTZba8XArcgXPoM/b3XMx5aPh02u1zpQwrsfrJ3H78NESMWIJwEK//xdqS/Z3JnRCsBM/8fliXBy0zRIlCKF3x3rD5z9ffuac29OYAZQ0vtPuH+h1PrIoKW8vSooiil8NtZCLBi2ii0sK8wg7+cOVbiDPOp6mXl/elDS5RSPnb9ojilMLk2a3SW18vFrpkzSoRS/DsIQsLAJjduf8C9AihNbc/TVdB+SPBymyEtHjWllN9EKKU20M6LQCHqki8YbtG9AE0dsNo5riZiwTADVSRQSvNegVLGKJ5wArHUfo0fz+CejkIiXblw9XUJMbupc4uUUr73d3FKwbn5cm7G0ILqvwqwPmxL1Uf0WzNfBOs0VZFAKVuH9/HbIa58UqGF/QH/CqTftSAlMve9tUeijv7unSki5Td0ZOlj1EqpfF1iRuesZNCD5tSV7+GUDzRFy31g6du3fhqUchCa9+KIOZtC4kfYru63mYw8rAQvOwc+G6eXyaJFYBSo9YmUcs+/vpXjlJJxtNDonAiacdEClrMG15QoxXUwSinjD0nGj/7hKchYzIIU3HR9zNqdFFoilKK5YfWZ6tfilILyYWEIlNmiMUyElnWPToFSnuydiFJGg4V95cObIIMBLlL0p65d2j8ptEgoRXF1lFIQkoaTCxctEzWzgBaYjJ0rUoroIcPkZjmEo0EW3SsZDoYy/LIPf/bshGgRKUUDN9Cg24W38sFKyUG0WJo3T0wpO4cnSSmj0CKAJdPGAEHj6k8J86qSo4U6yLDY64P9i6g5630raqRA3q1KNLtoCSgBAinjudKgG0xx4lQ4S8wSNV7uoHAZixaqfH7j9RWfeHFRHlPK7KMF4VtMXwCBXHa4kiqf3dOglAS0ZAksAl4WPlF/Fu4/kogUgVLUTwqU8l+8yCh5Ys/mHLfc8s9inGQUuVAjBQ6qhpMH3aaClu9yWQILjdUtfMJsj6ElSik3UHP27/KeUnICLfeLM/MtTzzsiiOFxvGft0+XUhLQcnFT1kb7Rbh8+ohIKXSyAaWUavuFP8coBeaA5ABaIPDMRlcipQTYmRZP0DL0z0wWo10M33THp6WUEg+6zZ31ZLhpYiyd3WANuvRSSkk1NDi13vtuV1a7iWc6MI26bSWUsvLCWz+HbZEh5Lm09hA3LYDgpEFalOrABGJra8bIPKz/chggTe+M7HvkB2cgu+YkD88rIfhaZFqKMDkT5ppMQRNFGx9hZBnxj+0KmoJgsqwj0URUcbBpgQkBK+wDqL501yv/9FD2fY9lwmsmzNxdy4ydJKZQeTiEojsKZHCjsWCpMVTYJ40/hK9dErt4gJlxzwoL2e3/fUnnyvddtvlvvsl03avAZBkvPT0MQmNWTCs4bkFYoS85Fc2LFbqARxEShw2jjzRwQZVK28cpq7oRjqeKG9J8EfZh+P11bIILMzOo7INHXrnNN/K7PuHlIDfo4NxDwMgLFs4Kt2CVIxihdgSsMhzkBQSISYj+8BD2u2DBwV8PSlMjiExIQSIAbzMxEhUyA90D+wRK+dHFt27+UMOyIBWAYLD0ulcxIy/5PxtoURCAGK0VPpWqzg5sqVbBa5QB0uWWmkA98oAV8zqNocTDuD/1I0YZqAhZdSoPcHVObWWJkyco4eqK/OoAcBVg8AnUkw60EKjs//11zzRc0XPR8TnzNTfcELQH40dluMwaWiidhDgW9KWXTS62MugoLXMS/aG3ni/z6UawRhtQgPPIT+drbvlOhTsYRl5OqfIoDv+k8nKogvWATssQygnqKhxBtsoVRjNFS4RSzNRK+ctbN3/4H5e6RUqRSnDpol/yMlzSGVSaSmbNoO18d5GwNH/d+b9ZqgBZTnvOXAItKA7ww46FAMcuQ/UpFyi9nsEDGMoAnfJY9pRAI6u75PG6WUWf08c5TTM1aDHs3w946DPm3wfet+iqbdvAfcKdLOOJm9ru5OX1UGch3kJlxBdWBAdUvpBrwKMI9ijR4p7ac1yIL3EaV0Vc6mJwEtoY0RUPCqu2M4C6Nw/A2SIntX1KQhwHTuP0+0+kFLj91yvVJ34Am9ZUX3SPm//ETTz/HdnWnR20jJHhjvWEKNhLANZTkj5laxifjqoC0IsjQFWqY9RW0X/1XgNJMvVP1/PZD7cvHv7Ma6/+Y7UOrgK3+8REp5y4uXrFi2/KcJl9tFhGwATFxwFo58dHkcmW1jOAoUmS1TvQSD8L4Wr2ekjufpGGdFONuhFKMY3s2aSjlOKe5JknYEVg4csyvWTXbklcVFQwXWxs0fH1DKdQcEaIrSA3BBoE4SCjUHdIviTfz44sQawlYCmzKIycQjQ8T04aKvv2nyBWyide9S+47qptkMpKSamNTj69nJeXc8+qB63Supmjr4+wfAnvA03ZEMtrvvFzj39Ep1AqNS5kDyEovvkXXvyTb/z7vMvzvJW+fx8JFN/2qgsBEw5iU0nvvEDpJVYXZFHFMBZ8og/XTOQTEUrZ97vfmbv+17WBF1cUVa9YQTzk4JRv0X7rVbriv2GQvaMZy2THiZDOF0K6mmMIc2o30B285IKb9GeDD3pRUF9NNJLCHLIBKleMOCyaIVfjeyGjxutAWE8zI11QwY5ghSpYXHycdhvDb7xuglgu0T2Lj6sDP6NWintGd7n4RM+fXp5TcwdyGy0QGTWMvk4W2YjtxYoblRrJNTrfuGihlALESrnJNPKzB6l54575fS4+Yfv9yyADJktWLhJMTUyHZCQbkY9SCduRGQsAklQxOZoPYzRBKE4cG7z9VytFSqm+yp0OqIjWbue+N7/Ly4DJErek2bwewy0ipTxyWKAU6jC503tFXfXFbvaPL4umfT7PpZbRQs2U23/194RSfLBtoqDb9PUR/Iph//jem3K/5x1anrNI0UIo5efDAqWAO4OXXQyw5k7lfzHf4eUQTB6hBeHPfzY+G+r8jzJJKWMQc+IiMH96WcZLHnFL5O0zKvMf3AzubF5dV/2E+gcyWqbcabN1YR4cyrjfvOVwdq/ufmK+3Pd5hBZg3oyNJljA+aV2XVavPiJ3fV6hBeDvoxs2AMPqndm8dOcGuevzDC3f64wugXy80anWZ49cdP/3Cbnn8wstGH5pkIxpOlsOZwsuup2r++WezzO0MFAh3c+e6bJTUy53fN5pIuhJmC9h+PLOrMBFZ9kjU0seouXEd6Vjz87Qv2QDLrr2NTJY8g8tPPN2gioCp/pf3BmHi26n6DzfVCN3fn5xC/S8AoEEuBzOOFzc+j1yr+cjWjB0KcMJX252bsk0XHSdT8p6KD/RwvAfHZWUabjIRkseayJoFwN03/12HC6qDJq6xGiRned8RQuxczWiE90jNXUzBxditMjUkr/cAswrwo9VauruylSYTjZa8hotGF5hxrwc4uS/nJlBgDFGC8NMZXoPI7/ANstoYYAZ+/6bM/SlTEx3GWO08DyPGUEmBgrJw8uTp9jZrsD/4CsY+O/iSmlaAD564D9vDab5SsH/3i2lFr70iqtufBNjcZ04BlEZ+x6AkC7muXO15aNvFvYLj7P9FU6EmWSAdW7xta9N79xL3WGp0fKcZ9c10PPu1+3FbzAl8KyUN5i4Ec6L7x4xDwzy3LX9V1/dUeDvIqHZvj6Gz32OfWn+B0YfMHBPrUqv0bJasvdcgC7FbyD/OQHeQOwpWPYGgUkJPJPILA8MAv+htxaErzCQnCTrv36noCfzolmvAP586POvjEUL6cg217b00ct+jcR5Ln/M0+qUXMlA6cz5N9IaZQD2yFI0C8wAlzFcaQUBKILr9svhZwoZLrOOFmD4z30uGVpILzIH06eN2hP0EGp2JrmegJpRKhESMlo7XoICfssxF9CytPq+3ydDCxicz67VpQUvusNPJBgtjzqnW1JB66LZjyHw6O2VKQ45oUXVDmmIvSRGWp4LrJs2WKwLHyzgdQ9z4M4xrHs51TGn+p72mQ8EJEZayr0Gw7SL6rllGGRumVVtyA9C8bqU9LLr8EzpZdTwkHaNc/pl9Xz8nwp3VTI2JyB7qmjxynUp9FFA+cED//PhmYTqdC+0SvXQq/cHZlJZq3LBHws1RsflQiV45lXlupRHnbDF+dQMnGndzn9JMFq8M6tsz/v+WLC6KCe4hZguJ5RPrE5l7EIA/v7Wp3813aGA4F/ukCBt2bubAjOrrLNB8bcCJZfcQAswmOttTQ0XCCg+ePPBq3XTwYuu4ytSavnTA86ZVtbgfV+B6qIcQQtmLrEl6+8bBy7EfIHnpoEXXfv9EmZ5znN/YMaVDbz/d/+NkYyW2YRL7+C47ELwopsGXnQ7+Q9LjRb3dWmobMHqolxBC4XL/BM7x2GX6eEl+N+749RSvmTGRkth66IcIlSGv0N/950TzIMygO+IbdvkF5LqfGLC4aFpudEdLxWiJsol9Uvg8p8vTwQXghdmj2uSeBk1TUF5V9rqanipEMeL2ByqC2aOrfn2wXGVkWjvrri17Z33TUYh7ZEaLeX/br8tkK66qgpSF+USWghc3vj0xHAheFGsWPLMX391q3IiwEiNFnC/u8mZtqoKfpHMLbOsGN+45vjOCeFC8AI3H3pmLyGY8QCj69ghNVr+88vONNa0IP2iXAsbMPyntV/4wqSm/Bvg7it0tk0pvy+SOaNFvPwfCm8eXa4Np/LMDzxvv7RuUk+38/CWN3e1t+/UJR2iji69ETFavL2G9NbUWYBzF9hcqxBm3h08t2v1ykllDqxUrrjW9+OSoiQaKZhotBzf5ExzTZ0f4AtNF+VgAJvhlzfe5Vg36RfQDOD8bTf7xVEaKX1zK2VdlLvcIowZvWOuSTnfJZnJe+UHD5oIw0CcYkYNDynvC6S/ooH39/+msLglB9FCP2n1B/eRl+9bOfl+C6y8csWmL3z9HUOlUikgZg8vmaZQ/vOh2zKAFnDOKzBdxOZmtZju2463rl45lQddsGEq9vy16PB1hGIS3mLVv7XJmZFqqjzV/11IcMnRgXeE+KVXTcV4kRgxxj1qNpxxo0UU63/shAKSHOUWOiRNjJcv3rdyiucRI0a54oP/Pq9KApbAPwcyVc0C00W5ihYCF/wHd3fr6n+bKl4IYAJ/sCySGC3u2zKGlgLTRTmLFgIX1L3wxM6b162c+rlStOxXtjgzV8vA1SO/kbklF+CCmXffcf7H11dPGS7Fv4mjJS1zK2VdFHE+crlyPAM/LvvmS7BuiucNSY2WdZmu5YI7C+ZdVy6na8cD86Plzw289AWY5tJi5V6TwZnZOjpv/Y+CGS9ic7x+mLl04pp3dt0yNeslZrfsVz7gzHQVnfOu/UWB6KJcRws1do8dt19s9U8FL1G0ZNpoifhFJwvFL8p9jcvzDP+q57swdfNl5m+xTlYXNRSILmLzoI4YmHffDr2z4rP3TTL4EvWJXjduCmQFLu+7ujB0EZsXtcQMPn7cpnjwFkPTZPDiEzXRc1kwWiJSILooP9BC6YV/b+REUHXfpPhFQMtzyrsDWapeocTouHypKI/Qm6B65sWXHOsm506XB+yGbFEL9NxUvKEAJkax+VNVoo407wwHfvj1W9ZNxC+UW9L6Qoisi/KLWwR15POcfPvTzxleYoYmnMuQvrdYJ+kXFUKMLo+4BRAs7uHxsRNsN1N8l388gvmD5dfZM1oKyC/i8qy+PDDw9ts9FsvKl5g7xzFgvFk0WiJwGbjz5bluuuQbWhCmeHkTGGdJgCqkVIAxtWQZLAWhi1BeIYXjfOImfYiXVuh/lQIw6zZ9fxNdhj1biBEutd+qm+vrLuQXWozGC1HTgMEYmE/WVsw3JgWM8d/OBJU9m4TPPWQeKfutAffy25jDP5bRkku1remNv5PIUOJffh0evN0IjnWQiBjSh8W3v/SL7uHink2QGcyIpe63DpkaQt/+KQwBJ6Mld9ESB4zT+RkjA2MpxlAMQ07jv3Fv6pQg8kwaUBN9nbrVCoRQQisdwlVoSrGMlpxGS0QjwfIqXHTq+EsCxYwiGYFlYIh5cln3sA5sAJsiHe6cFkoImQBYAwpoeOuJUDGdpRcrZ93Lcx4t+eYThca61NRHepMYvR98dejUS3RvCKQs4xT+N2yhXesE45NvUtQAIRvYJF11wWkY+5/kcCsQKgFwmxquW+mgpAW3DoETCkzyjFv0KlvSj0kJKgmYO3hsXvhT2M5TyxeSedcC0wBVUPDkMoBuGAbhmxO2JIVaKTyIMw4NAG89Dl94UTgzJUYKgFvybJFgdSiU4tNjCCMkfjLzDt5fuXDfS4wImcOpFQvt/OiM7wgEjMJfR4LyiWabiElktOQPWsS7QYCFw0vneSsX/vQhI+34FCyTXqEXkdEyvRLpuuZ46ufhmaJFJBkmAplPexuG8O3FQEgG1mUQMQIcjUQbfu1VGS1TLA/Hem3K5018yiTQEuEYMQqPrp5HIXN6Ow8EMpDEZZo5Toiu4pkdtx8bQZfelK3cKRWHxY63qIddU4ELGouVJDXDk0VLImRgaZ2/weW89BDpVhB5ZsaYEXEilvdTVNyt+jGe8hNS6GhB2FjudoPV2fPy1pNTaDqS1VxxSWfzIwkyksmikb6p9QgT8bIBlocIZoZ8qtPEmhHc7EifTx450tzF1HPfMd+vHgmozv0Fi1ea8xNcUHrB0tgH5WfB3A8vPziAIr2OEn5SnGh+lv4+1De2Zpw2suEifWQIXZjO8yvpyaV1dScbXMElPz1OqEGM1gxBwssnh5O/ikI1TiT/OmisUhd3g+rcX/lo+VielztlZunzh04A9IjFYjERS8yYlF0tOqusqj764Z/YXKZo8NZRNQRa2/ReEOJFvUS33n4b4FVAy0I3/v6ksm4IfEvfPX0c4t94YHgjvMRIz4zIF6Bx/hVvq6H4XOCjzJmzf+Il3FUob7amN5Zb0Vt/DEVxUsR5MdbbAFkYMJ0ONl4Klaq6U8GFtnpTh8k3GF3ktkwXjhi2A+Kv6rwQ8piuaRAFrQAaHr8Jb0cg/t68ijL4+UlQApiFyMtt8Iu4Va0gf/TnKHY/Coznu3/lE8wiwIW1Ym560XK+5BiKKh1wKzjQOBVBlXYw7AmxTMjs7095pptgpQMc9ljCheQ+9kztSIyjXnbE0RfIJoEgXxvxL4/u/Ykfi2qB/XgoxE9xphEtCKN5folpgojW0HXeF9SEaRTU1PqFi6kNFyhq7gBoNYxnRwkdnR7rAEe6GseUiUTteIoGRnnCTGzJDUHn4HHMcBktk+8E1CPZC7K1/Q5QubztjwT6wLGmIWy3paAGjLq5jczlYHg2XFB+lGEdKh6IVyOibgr38/JjPcx0YQXOlxkxitiTUGPwIOrP+B8IP21QhFwXLusqUn28EqPQxfO+8CzHKzAe49kkSZLRkq7m3quLt69C1+8WHk37pS89z0DI6dKbx4EaFbljCgctGLke/ZqBY9kKC+12v5td4gEfqDhjNSiWqCwYnx7/uZbBkuOS1rfPEAz/uoTXm41+z2ffsOMaL3h+VW5X6oyh13u9aoOiv96W82PeCKwwjGRgZKOpESi4hkYLQo0WAGMDCxwLRq6B7CC2gUN5MEECQYMBZLRkq7ElyBF2UWwnL2bTELRUy2jJhgcNkdCVEKDDYjRNTBl/mEiWAkVLFBA4/q9wg1myT1QA4pCbQEbLpOnWiLBsuMgyOSuXVStkM1fmlknKorGvuMkiS0puQTK3yNwyWW6xyG0gy6S5pZqVuUXmlklKmNfLjSCjZVLUghWLkJ+VXeikwslNkAgWtmwXwBpXSJ5rk0RYuQkSrZaqA+TnE28NyeQia6KJJQhN5K9abggZLZMQJ3SQv8NyQ8homYxHJPyVvaIUilqWRDGHUVGwB2QrV5bJiMJilJ8iWSZHtghiE0NlkTXRJJpE1kKyyCKLLLLIIosssswRR0gW2Sea+OaxNBKHZH9IlvGeFEIsDQ0y8UxGCnicCGFFqVZrZQmZKMPRV7atpWOzyWwTFa6AwcItwhowhFQX6HdlxHn+KOSC+Cvb4ga3IOUKaLIUjBoymjSUTzRFHFRVRVWTxRjRPCimqeZ1ITnmLQpbuGgx+308QtgUNo8UDYYqVBZvGFDYzyPMapU8T23fCg3Ci5w/qPNpfTJcCttuUQfDdL0QW0gJivm1WqODY6HoxQrApY2YN+gAL9Hwhroa7O3geLeMlMJWRIoyg6hu5nVBeZcVgb6rFhRFatDX1RD1U8dC/RUsICOoiyyyIpLREkGLugg0V9CN6iIj6lJDbRXbyNV0qRq69ILtK6Ol4DURRkFFSIylGEugxEPx4O1wCZ+OcSqd5Wxr2TA16gSYDMk4KXi7RdfZSFeu4g4q6Ux/sulu1lNw9Ae9LtfQpQseqIzMdCmWcSJ70CZilwB7xRUW0HSpALguAyiIJtIVEbsFFGCpq1LQr7jO65Lfiy50DxqQr35ExSsqL112w+LXRqpM+HsaD/uZH4ZCypA5VB4IeopYHtUOh0p/rmDUfhkvBa2JMDp+yVFR3OcjfvTZoEKFAiH6CfESAGcQV+gZQBfcigpFDepWjihH5MFGWRlFflAsoaarJj6KiBJ+ZJFnLIBgyEY2jH5NyWmMomv+Sr4IKTOLLKOxo9Ba5QUKZZHJNj3y/wH8+KoeOI9cOwAAAABJRU5ErkJggg==)"
      ]
    },
    {
      "cell_type": "code",
      "metadata": {
        "id": "hnrwlDpX6Pqt"
      },
      "source": [
        "#Creating the Dog Class\r\n",
        "\r\n",
        "#Each instance created from the Dog class will store a name and an age, and\r\n",
        "#we’ll give each dog the ability to sit() and roll_over():"
      ],
      "execution_count": null,
      "outputs": []
    },
    {
      "cell_type": "code",
      "metadata": {
        "id": "Vv2eIxlyBHEz"
      },
      "source": [
        "#\"__init__\" is a reseved method in python classes. ... \r\n",
        "#This method is called when an object is created from a class and it allows the class to initialize the attributes of the class."
      ],
      "execution_count": null,
      "outputs": []
    },
    {
      "cell_type": "code",
      "metadata": {
        "id": "ub-ft16r8SG0"
      },
      "source": [
        "class Dog:\r\n",
        "#\"\"\"A simple attempt to model a dog.\"\"\" \r\n",
        "  def __init__(self,name,age):\r\n",
        "#\"\"\"Initialize name and age attributes.\"\"\"\r\n",
        "    self.name=name\r\n",
        "    self.age=age\r\n",
        "\r\n",
        "  def sit(self):\r\n",
        "#\"\"\"Simulate a dog sitting in response to a command.\"\"\"\r\n",
        "    print(f\"{self.name} is now sitting\")\r\n",
        "  \r\n",
        "  def roll_over(self):\r\n",
        "#\"\"\"Simulate rolling over in response to a command.\"\"\"    \r\n",
        "    print(f\"{self.name} rolled over!\")\r\n"
      ],
      "execution_count": null,
      "outputs": []
    },
    {
      "cell_type": "code",
      "metadata": {
        "id": "hzfvmpyENY3a"
      },
      "source": [
        "#instance of the obeject \r\n",
        "\r\n",
        "my_dog=Dog(\"Shera\",5)\r\n",
        "\r\n",
        "print(f\"my dog name is {my_dog.name}.\")\r\n",
        "print(f\"my dog age is {my_dog.age} year old\")\r\n",
        "\r\n",
        "\r\n"
      ],
      "execution_count": null,
      "outputs": []
    },
    {
      "cell_type": "code",
      "metadata": {
        "id": "YXZrz10ZONY4"
      },
      "source": [
        "\r\n",
        "#Accessing the attribute \r\n",
        "\r\n",
        "my_dog.name\r\n"
      ],
      "execution_count": null,
      "outputs": []
    },
    {
      "cell_type": "code",
      "metadata": {
        "id": "ef8YV0XZPxtm"
      },
      "source": [
        "#Calling Method \r\n",
        "\r\n",
        "my_dog.sit()\r\n",
        "my_dog.roll_over()"
      ],
      "execution_count": null,
      "outputs": []
    },
    {
      "cell_type": "markdown",
      "metadata": {
        "id": "DzgnU7yf9D8o"
      },
      "source": [
        "#1\r\n",
        "define a class called Dog. By convention, capitalized names refer to classes\r\n",
        "in Python. There are no parentheses in the class definition because we’re\r\n",
        "creating this class from scratch. At\r\n",
        "#2\r\n",
        "we write a docstring describing what\r\n",
        "this class does.\r\n",
        "The __init__() Method\r\n",
        "A function that’s part of a class is a method. Everything you learned about\r\n",
        "functions applies to methods as well; the only practical difference for now is\r\n",
        "the way we’ll call methods. The __init__() method a\r\n",
        "\r\n",
        "#3\r\n",
        "that Python runs automatically whenever we create a new instance based\r\n",
        "on the Dog class. This method has two leading underscores and two trailing underscores, a convention that helps prevent Python’s default method\r\n",
        "names from conflicting with your method names. Make sure to use two\r\n",
        "underscores on each side of __init__(). If you use just one on each side, the\r\n",
        "method won’t be called automatically when you use your class, which can\r\n",
        "result in errors that are difficult to identify.\r\n",
        "We define the __init__() method to have three parameters: self, name,\r\n",
        "and age. The self parameter is required in the method definition, and it\r\n",
        "must come first before the other parameters. It must be included in the definition because when Python calls this method later (to create an instance\r\n",
        "of Dog), the method call will automatically pass the self argument. Every\r\n",
        "method call associated with an instance automatically passes self, which is\r\n",
        "a reference to the instance itself; it gives the individual instance access to\r\n",
        "the attributes and methods in the class. When we make an instance of Dog,\r\n",
        "Python will call the __init__() method from the Dog class. We’ll pass Dog()\r\n",
        "a name and an age as arguments; self is passed automatically, so we don’t\r\n",
        "need to pass it. Whenever we want to make an instance from the Dog class,\r\n",
        "we’ll provide values for only the last two parameters, name and age\r\n",
        "#4\r\n",
        " each have the prefix self. Any variable\r\n",
        "prefixed with self is available to every method in the class, and we’ll also be\r\n",
        "able to access these variables through any instance created from the class.\r\n",
        "The line self.name = name takes the value associated with the parameter name\r\n",
        "and assigns it to the variable name, which is then attached to the instance\r\n",
        "being created. The same process happens with self.age = age. Variables that\r\n",
        "are accessible through instances like this are called attributes.\r\n",
        "\r\n",
        "#5\r\n",
        "The Dog class has two other methods defined: sit() and roll_over() y.\r\n",
        "Because these methods don’t need additional information to run, we just\r\n",
        "define them to have one parameter, self. The instances we create later\r\n",
        "will have access to these methods. In other words, they’ll be able to sit and\r\n",
        "roll over. For now, sit() and roll_over() don’t do much. They simply print\r\n",
        "a message saying the dog is sitting or rolling over. But the concept can be\r\n",
        "extended to realistic situations: if this class were part of an actual computer game, these methods would contain code to make an animated dog\r\n",
        "sit and roll over. If this class was written to control a robot, these methods\r\n",
        "would direct movements that cause a robotic dog to sit and roll over.\r\n"
      ]
    },
    {
      "cell_type": "code",
      "metadata": {
        "id": "p0vrsHOCQadv"
      },
      "source": [
        "#Creating the multiple Instance \r\n",
        "\r\n",
        "my_dog =Dog(\"Shera\",10)\r\n",
        "your_dog= Dog(\"Jack\",5)"
      ],
      "execution_count": null,
      "outputs": []
    },
    {
      "cell_type": "code",
      "metadata": {
        "id": "M8NxLSMtRKEo"
      },
      "source": [
        "print(f\"My dog name is {my_dog.name}\")\r\n",
        "print(f\"My dog age is {my_dog.age} year old.\")\r\n",
        "my_dog.sit()\r\n",
        "\r\n",
        "print(f\"Your dog name is {your_dog.name}\")\r\n",
        "print(f\"my dog age is {your_dog.age} year old\")\r\n",
        "your_dog.sit()\r\n",
        "\r\n"
      ],
      "execution_count": null,
      "outputs": []
    },
    {
      "cell_type": "markdown",
      "metadata": {
        "id": "jtcCFtgc0HME"
      },
      "source": [
        "![images.png](data:image/png;base64,iVBORw0KGgoAAAANSUhEUgAAATkAAAChCAMAAACLfThZAAABCFBMVEX/////5+cAAAD/7u67vLz/8vJnW1v/7Oypqant7u5/f3/Nzc3/5+b/6enKyspNTU1KQEB4eXmtnJxdX1/Brq7m5+fz8/P5+fnT09MtLS3f399jY2M7OzuWlpZsbGwhISGJiYn13t6oqKizs7NWVlZEREQaGhopKSn/9ef88ez+4NMyMjKRkZGdnZ3m0dFeVVUfFQgTExObjI383NjYxMRSSkr///ffysv61M6Nf4B1a2uol5f66OKBdnX//e+3paZURDzKt7ero5o0NzeEf3V7cHIjFxb/![5d8350501fa9f72a27a893bf_Oo65m_6e_qkDzypQAEMmPHMgn_mbbZo492Zf-qLCs1Rw1gc6CUAZqLxgmawjN1qdAiIrSqtRU5PpkEYlM2MAhUYjt1SwuvUialeWk2c6mIu0Vwt5F97USlsy1lmLTy_XsHjH5GK0U2BPhz3TEA.png](data:image/png;base64,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)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)![download.jpeg](data:image/jpeg;base64,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)"
      ]
    },
    {
      "cell_type": "markdown",
      "metadata": {
        "id": "ld1zpBHy2GhU"
      },
      "source": [
        "![images.png](data:image/png;base64,iVBORw0KGgoAAAANSUhEUgAAATkAAAChCAMAAACLfThZAAABCFBMVEX/////5+cAAAD/7u67vLz/8vJnW1v/7Oypqant7u5/f3/Nzc3/5+b/6enKyspNTU1KQEB4eXmtnJxdX1/Brq7m5+fz8/P5+fnT09MtLS3f399jY2M7OzuWlpZsbGwhISGJiYn13t6oqKizs7NWVlZEREQaGhopKSn/9ef88ez+4NMyMjKRkZGdnZ3m0dFeVVUfFQgTExObjI383NjYxMRSSkr///ffysv61M6Nf4B1a2uol5f66OKBdnX//e+3paZURDzKt7ero5o0NzeEf3V7cHIjFxb/6NldTEhPOTbOxrofDgvdzcYtHhogHRlRTETn4NMfFwgPAABwZlmdj4aWhn/BqaASFRQiHaWuAAAVCElEQVR4nO2dCWPiNhbH7WeME2IBIYANIYBJCIcTM9zhSChJs91tp53p7Hb7/b/JvieZIwlgYICZyfrfqSE+9KSfnp7kS0iSL1++fPny5cuXL1++fPny9e5khkLmgtUJw+tAI5Q/mn5P7DRPqzVn91AK5ABlZ18UMwBw+XbXW6gnPVIzALLu1+Mc3L7ZHuLWiheeVbCmEvkIQOosIQGc7yjJtVUAV+m5la/JhfMpXJ4DnHikNkfOBIi82X7mGiu+QGfe2F5VslgXIrU6kct6775bHQEEpGQe4HRu5WtyWLG4TN4EvFKbIycFbo7fbEf4x1LiimzOKQuwlRMSuBszHS68sHsoIbkwfgBc4dJIm7zVuuQSJv/TOCmiS5pS2hTBz10tJU7SUtJMi0Ib6ZN0UpQgwTcn+V7mSYL2n7gUkkvOKiZtckc30RPDZtI8McnWiUFHkaVj03TZoyVu5eQkKblZpLXobW44dslh/idbE2b6eJYvsULkIokp7CJaCHLCcjiDeclOipbO1AGuswblkESeh9sSp9e0GrN1A5FLPKJIeU3jRgw1lM7NNeRueWu9kaQ65G9x/0x4Ss6QjFMAPCaNf0AkLRkZES2uaFuYspPgLSBfwhBWoDJnMSPFE16/RyE0fiESQ5fLS/Pkwjamk8sjliQdQlGZKp0SS1KuM+Tpl0+45mI35C6TVIgw5Tqbv6ZQy8klIXuRJbPHEcxGJiJdEbkkZuUMv10lMefXcH3NY7NRBPv2LEQlACjxqGny/KVwnxKuuE5MyGVPi1DCIhzb2FNkoJQ0zin54vERHZWno8IUUENQz2cpW8kIpl3kKQClhqmbk8QmcVeQM+H09oqbPcWDQzYaKUHxNnIhGeeQu7iiA9OY/YuiZ9hZjxwPspjWFVkPUP5FcyIHExHuarIkXJQzrPkCfT0/TmdobYI7GC/BtWnwfSbk4NZIhtzNVFjeQQTIY56wHrihU558mqJfkfqVC0glE7wtnGMQOYLcsWTUKTU8NGDcTlwtM+vWJq0VU0lBahJ8uOOT11KBEnTAKZXXq5vbjFzJpNIXz8959BbkAld8U0Iy5shlIJfgpTwjclj5ecp/EglFLiclOCZPnZCzDT5CiUzIBcKFHCVvQ+n8jPs0kUtyEvlEvRgB7DGyOASC87NzbH5o9jp7hn55RkDO5nqhKxGi58hdUtuE6yTZsW/RcAKbxFWAW8A0cggVswXZnbDjdYDJpYzEZHxyKchh3iO3kdfk6mBjiEvUoThPTkpQnq+MBeSesABGCjITcknOvS5NrGWn5PKQDcBtFswcVt7NZLv05H6JvCZ3M+tQxTp07fPbFJEzsnQEZtTMcBPn09TEADa/G3JhbtNM5qYJcnI8myFOLjIjd8Zx4Q6hF+QQB3eBt+RKx7zRnL4kR65UnOQhK8iFoRgC8xZucujWgWlTPMVadXd8SY6SOZojJzqWCJHDPORdPiZmPn0hLAhRR7KDzlWQC1AgomhkmoHwlFzGDF/zAIEFDl0KcrgpYlJNmi9aayFN0W0RObgKB0qTdkU9kUltKi9d4q5hM0zDE0wie3RMYEp20oQU73PQ/KVpFo6pvzgL4I7Ga3J8PBe5vbzJT8lFEpe8tRbMZJiKdHyUNrBYaYQcCZgnRziouUwkz3ZCrjAZlUSk4+KkVXByeX5axskFQHgJVdzNpEnPkzP5ngtba53vnhfWJucQONahNjppUu45zDk/WiQubPIhcx7cePuanHQrEscehK/jTTRFoxH6oCMCPF9o7VakYdIpZGk3rfXSTpE7ZJ8yOLI6usoUTzGv4VSKer9i5DJsl2g8cZkthmgfcvmTUOQqTy2pYKeQ3IVdSkuJ2zM7izVqlJ5CNBaw89jJ2bdELmOGIqeTSH4RyWQy5zciQgeymUyW4rgUzhZpgBiwbYrmT098CJO+KWaEofApHnSLtnMZbI7ChlDi9rR4dVowJL4ueZO5Ch/ZxWPpKJu5usFUEhdXT1nyVskMZTJneFZj5iOZ010MSvYt0UP42lxiVOJrc+VmHaOvjXST39m1OF++fPny5cuXL1++fPny5cuXL1++fPnan5LHu9e3LtMhdJyFPej8kE/OfhsloN9V1B1LcZ5h0XPL70p/N1Qm71qMqQPY7nnYH0aXoO6eGy0U++3j2u9KoZ4my/rO4emyNjj4s+e7VqezautpTNs5Ni4tfnaoEu5L5fIqdD655SqXyyu2Ernd9xD/L+T2Ig9ynVWZ+k60NjnGdKZ7dBfuRia/dlR9but65L57dAaSqyzfPCOnu0gWi+n6HBc2t3yxam1y5dXh9zsQ1m25PBwufcjmhc+hFGUxPNyk86X7N+7HZJ0xTdPd7YqyIbnv/MGfsiC31Oum5Bhzul1L6UedRehwI65nVlds1cV+DPk0LL6GWdEg26C1fvc+R221XBlWluZSkMOBq9OvA+TUDDgI4DU8XRtBEd2qDw2NmrWuRIEzxM8WozXMghJtYpNot5ocNYXKd+10nNywsjwcu+SYdQ3RRuNeJSLUBgmLpuAHE0sLwGIWccWNGiNyuB4dtaXTPppmQYrvPWm9K8l1PFrCd6CHB+mhMpQ6D8t2EOSY9gzPiqIp3JeseCNmIaFxY4Qf497IQl8KwkhpQVRl+qjR4vuNGg7TYthaFSfWGHNyWqsx0pnrcyvOvh5IleF30b0mCkcLVHh8PIoNBoXCY+GosGiPy4gb50C0PvI5pQc1gK4ehDa05BoucRM212e1ATHFAYhCD/ejF+EstQRdZYDf7mUkx3cuicCnxZ8uF2XJzRZq8Pi4IEuFQ1/YC0M+9FY//3zv6ucFW0m2G+cA+KiDfEmTrTEGNAvqjsYcyOFSp+aasZChGoSxUwM5Cg0nCDHVhq4DKYyN6HNqDI+KgagLLZ5blCM3XzxnoQWZyk/fDDsYubcvkkvUKoYV0rCyrLmGRGtlJWhR2OLkRvV6Ce7R9aBvyc+0RC9S2jDOtRVVXPJ1COIAGkjOQV4qY0QuyN9CuVe8WisGjw7mSXpY0HFFvg9yleGQ0A2XB2N3VKL1oO3oukWtFZ3NGmH5tW4fl6wbBLoSpQ2gDwMFUY0dp8uoVQty3THUZIWT66EjophX34pjuQpl6WFBoPtOyEmeHb9Ljlk21NvtmsHJwaiNgSs4uoe/rP7omYYi2IsCNl/sErAP7jXUOXJyCtrBGJLDHqR+36jJXuQ62K0KLXC6b06uIy7LdZCdgQMnz3MIZjWiUA+qbWqtpVSjfo9RLdezsFnm+GBXV2yo4aeGVO3elFym3tWsPkBPBxu71n69XrO8yJWn5Mpvg8i3J1dGdB2j3FGxtRoUVPDDeDv4nJ1D0G0cRVZU7Efxi6rQCjzF4ktxwqUqNNLVlNl+Gv8U+6iqLM/tvYKcQSEEM1NZFEO+PbnOA8KT8B+Bq1RU3k9Ib7K6yVUmtsll922vz31zcry5dmipGoahIjPkp75ttZuQ0ze5X7GQXEecrJYxgmCN0vKNvj25NbUuOR3/a1b19b1usc+VsRV0OuWHjmgJFfdjbo93R47YVavV9a+8LyZHIYTTU4eSiL/4z/hRya0HA90Nya3fXleNSmiB/b1hTJcz/Ujk1mWxEbnV10pW6Mch11C8MQgWnNz6cS72zskV/rHmYyU8zFXvmuuiU6M3W2XohyFnwGjJnYdF4Kp3d811OgnG1Dhs9wzdD0NOCsPAUbylar+Q7qpDPJXw2ldVrBhsOd3Dj0NOOinmouvoJ9Q///XTT2vt/MfTtgB+IHI07d4aCv968uvjb/Sxjsyt7878UOTW0kNHevj4uyTt+2bf+yNXxtH+x9876qoHBnahd0eOX1P7+HtlONyz0707cnRFXpBbftd7J3p35Ay1YkjpnLTg4uhu9e7I8dN0JLd3vSNyD2V+S6MsqRXzH9hsDX5faG+e947ISZ1OufMglR+kysc/pIp7/7ayry72PZF7oFsadDUSyXWQ2FBFcG/vaOxI74ncTH6c21Y+uW3lk9tWPrlt5ZPbVj65beWT21bvktyv74Xcp4OT+3QAIwcg1zkkuUQ6nf78+OkzfqT3diJORtKBXGKPRgxK+/OnR/o4zAPqYo78D7S42hu5k9mEGpk9TW1g8F9U+TKZ8P8QOgWof/izLn5XYF/KT8ntbToN+o2VDx/+hJc/ZbZPJQH+/PDhg/vbO/vSBNx2Dz2spQIvyBc43IQdAawqtPivvRoxBTh7nzY+fcFy/Haotop6+PeXD39+gY/7tXK637ZK+vwFfQ6Ch3t/8+EzNdb/LH0tbjeiH7qCkPd+X6GH/8CHL7993nNB5lTuPAL8VNn3q3vYiZf2eufLKHc+fYHHw82OgAY7NWhJC97L2K1O9/w6W7ks/Qr/NDoHe90aLVU+/lXBzz3fC03st63ytzf++liRdvAERiCz42nh+Ej2ZddFP6+1e52+GFgYee8jvtbGC4UgZnlP9jb8pUmqNqvV4Rpzw1mxF2H+GIKt3c8/1+rP/6TxmjZ+EQVB/bJGQV7ZeKFLsFY/icr4fAP63d1ds2k18WONh3gZU6z53xe2e9qaz/VvIqY0csYLGyvmQuGPbeOiyQvSxI+m7pUlPsFAI7fY64yn0TrPjdPbWDpjjK01GxpN86CMZj/pFQBto9e51hXTSoWZDeEAS2joc5sYlUTX2Vp1qSupxWdNCbA8EtCrVQ5MZ0252WRyk2pu9TF8uhZr9vRzqLfuU/0biclaIztvY2WudPGihV5lTV3HgjR1Pn+HZ4UqS+a4S3hOR6hX9epQxwA35F7e5Es07WVRnV0aoDdJ9uByL97B8bKh84LQf1XdLYf49CrIsrdVvMnJRK4q4//NO53+ufJC8YrcrsXjxityK6SL13uq3A1caHcCH1vtq19BDmtL14c02RQ1VP6/rnu/J7NfciJirE+OH6LzovAPDDwy8fN+sXFrcmhnWiViuiTeX3hb3DO5anMjn+Pi3iX4MXk2TRtbWZRtyE0SFLbcGdB0d9PX+hybJLKoqXgmruO4srmJz+mTVPVJ/bOZ7ZUT4m1EbjLz26r278luDZ9bMK3VvIFVFihkeZNbo4LnAC7WZj5HIzcdR4HLx5XMc3DnRU7YoAnlFlphroXFYuhzVeZBjifAlCW+yCYWmMZ0RVk6LN7M55jlWJYWC46XWdUs3GN1XXm1VrIhW8H7xUM9ZpGFZeiY8Dm2kpwmkwWnv8SCbPFCMtYaWErweemwdhNyzOnjqW5QuYfRklbGRlHcY/wV5DRuo29BaVG50N97uDm3pDy6GGDcNVeR01pBTKLRhdLiSK7Q5lKPKW2Iq3D91eSoq+8CRHvPDbUHcY1mfaPzFI0mVOKzwtFO9wDPvaDjziHHNDHN4wbkJjYssLGdaPzkjFKjxDTyNKUHvXENeorGJ5wTxqfdk/sy5x1bTk6LA7R7/ZEDtsoTpbhNCQkLTFZqEItHYaQ4ccxrzhKruZG15lVc5HNtaPCXJNHnFGsci1O2x7GRw2T8g3CNsYpUjILMGcVaGrn7ePymYa0ixyY2iBzrYip06jSOjS2FkpQ5ubjagqA6HjiaM4hrSotsi8Ndl7ur6kvJ0SyBI7LQRXJ6azRysIaseKylK61RrCtzcl1jBD01PnKInBUboN/FKSuvqmA9cuhfXahz18XMj9T2dRSiTO5DBmIsiEtswMoz8NfLdQsyJTRN01C9PWtcSc61gSe3ttqF6B8wUKw2RIHFIWdT8yKfi0frLfUZq2+MBHtoezxxBkGuupycjrXb5gM2IoffAeKKk4NMisUgVQoqnNxgZOdofq0WkatBQ7NssKls2/gcumoLcipdWyJyiuWM2zDuQqqryy2IOhYO7NBmHE8SMV9WN17PWTGoN1pvwsRKcmRD5xPO2YrsdEdQRzxty1LbELMs0VpRdku9xyIjOQWgO+2S6CwaXQ5PpJb6nDbCY2SXHFpoQJtqGNMuwVhYqJGFqIMmkZzdQ2JKH+JO7dU1kLVbK83HRf6A5Ki1Dkr1OozQ2+pBR67Bdd/hG3oKH1T06zmgueF6C97TX0nOoRk1+QUVW7WClIqGPpdqKCMsDPVLSG5gxaFk3but9h7q0/5iiGefFOWq1eXkxhC1aEpdIudE69dYVeRzI62B8W8syI0x61GNk6sDtDQVO6UcfZl3uk3iXA3uZVHt8RY6ArkeG/ehrcnxPtQUyhW06BrPAHq6mFVvQQe5Os7V4JlOTYjcPbpZjq7gUbxWu40czeTK45xSgi4SVOLoPwrmoK+4Llel65N4wv7LijhXggaFeiKHjFrYxWrWqISUWj24dnAIh3FOZQAyJ4cBJyqrJRi1Wq0tfY66c2wmwRrvW7EJxW0YWb3xCNpObxyDNoYIhiOKWrDm9OAeW+oW5KY2iFwQGgMApdtDNvFBbExz4DIk9xwLYmlG8EewjuSex40ZuTtX1f8uIcfn7IRosMb7VixBD8mNGxR5GvHxdR1bDvLsDdqYMidXsoI8Yrdjg4G2LTkcaz1jBHhWaTyHFtEnnBSislolHOXxJsDHc9ddjKpBrLkBLLpy6TWe4zYsqKvdKASxbxhjg+lhpAE7ptCFcgpz9w51TqVRvcZsdAtHdOAzcnfLyNG1XD6eG2BfpLZycJ8DFVmWBujtEKURPpmCTE9WM9znrC51IgMs4rOyNbnZNHEan+vN/ZibJo5pdHuDViiKin8sGs2uJqcLGzShHKVCieHf3JDKd+Y3YxTG99OmE9WJSzVWUxYXxJePStxSKBpZ4HPd8Q9V010LOv9C85CjbfxfZ7Ra4wV/WcfbX5/bUru/ysSvrvEvNN8/dc0rye1I74Ecv7JPV1lxIEfXpvHf6EyqSGrFJ+epKp+3CYdznJve/G+t404t55NbIfcmTLOJS/lOplsJ8XOaZfGdkVP2fQeHzs/Xv/e1tR12aHJsz/e+uDa8D/G1Nl6RW+9W98Zi8hy5hsdd5G01N/9caO057jaTro0Wkzv+e9l136+UNv57+jxGIaXu5Ua1rLbzUxtLLmB+rXS1ll8ETpLy0T08K0PXEDOz58uTODrfhxFlPPPrQ9h4qWSm5rA15obbTLJTy8w9oRjAU9+d21CsOBwd1sYrdOfQDu5abci+eHYqkEvt3EbN/vvyhY1SqbZvG6+UDuxerx/XM8K7txE2Dm/Dly9fvnz58uXLly9fvnz58uXLl6+v1v8AFgWfNyF6MOIAAAAASUVORK5CYII=)"
      ]
    },
    {
      "cell_type": "markdown",
      "metadata": {
        "id": "MDbRpaKP4O9j"
      },
      "source": [
        "#Encapsulation \r\n",
        "![image.png](data:image/png;base64,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)"
      ]
    },
    {
      "cell_type": "code",
      "metadata": {
        "id": "LHBhiKSwUtzA"
      },
      "source": [
        "#Working with Classes and Instances\r\n",
        "\r\n"
      ],
      "execution_count": null,
      "outputs": []
    },
    {
      "cell_type": "code",
      "metadata": {
        "id": "F04iMx3l0w3p"
      },
      "source": [
        "#Working with instance \r\n",
        "\r\n",
        "class Car:\r\n",
        "  #A simple a attempt to the simplest car \r\n",
        "\r\n",
        "  def __init__(self,make ,model ,year):\r\n",
        "    self.make=make\r\n",
        "    self.model=model\r\n",
        "    self.year=year\r\n",
        "\r\n",
        "  def get_descriptive_name(self):\r\n",
        "\r\n",
        "    long_name=f\"{self.make},{self.model},{self.year}\"\r\n",
        "    return long_name.title()\r\n"
      ],
      "execution_count": null,
      "outputs": []
    },
    {
      "cell_type": "code",
      "metadata": {
        "id": "sMeaTri_2I11"
      },
      "source": [
        "#make a instance \r\n",
        "\r\n",
        "my_new_car=Car(\"audi\", \"a4\" , \"2019\")\r\n",
        "print(my_new_car.get_descriptive_name())"
      ],
      "execution_count": null,
      "outputs": []
    },
    {
      "cell_type": "code",
      "metadata": {
        "id": "Mpvc1Z8I4Qfy"
      },
      "source": [
        "#Setting a Default Value for an Attribute\r\n",
        "\r\n",
        "\r\n",
        "\r\n",
        "class Car:\r\n",
        "  #A simple a attempt to the simplest car \r\n",
        "\r\n",
        "  def __init__(self,make ,model ,year):\r\n",
        "    self.make=make\r\n",
        "    self.model=model\r\n",
        "    self.year=year\r\n",
        "    self.odometer=0\r\n",
        "\r\n",
        "  def get_descriptive_name(self):\r\n",
        "\r\n",
        "    long_name=f\"{self.make},{self.model},{self.year}\"\r\n",
        "    return long_name.title()\r\n",
        "\r\n",
        "  def read_odometer(self):\r\n",
        "    #print showing the car milage \r\n",
        "    print(f\"This car has {self.odometer} mile on it.\")"
      ],
      "execution_count": null,
      "outputs": []
    },
    {
      "cell_type": "code",
      "metadata": {
        "id": "PVSaENUzZuTV"
      },
      "source": [
        "#make a instance and call the function\r\n",
        "my_new_car=Car(\"audi\", \"a4\" , \"2019\")\r\n",
        "print(my_new_car.get_descriptive_name())\r\n",
        "my_new_car.read_odometer()"
      ],
      "execution_count": null,
      "outputs": []
    },
    {
      "cell_type": "code",
      "metadata": {
        "id": "tKinQ-WuZvix"
      },
      "source": [
        "#Modify the attribute value directly \r\n",
        "my_new_car.odometer=23\r\n",
        "my_new_car.read_odometer()"
      ],
      "execution_count": null,
      "outputs": []
    },
    {
      "cell_type": "code",
      "metadata": {
        "id": "1yTfKBe190A8"
      },
      "source": [
        "#Class \r\n",
        "#consturctor  Python relies on the constructor to perform tasks such as initializing \r\n",
        "#(assigning values to) any instance variables that the object will need when it starts.\r\n",
        "\r\n",
        "\r\n",
        "\r\n",
        "\r\n",
        "\r\n",
        "\r\n",
        "#Attribute of the class\r\n",
        "#Behaviour of the class \r\n",
        "#Instance of the class \r\n",
        "#Call the instance method \r\n",
        "\r\n",
        "\r\n",
        "\r\n",
        "\r\n",
        "\r\n",
        "\r\n",
        "\r\n",
        "#Inheritance :       Parents classs\r\n",
        "                     #Child class\r\n",
        "\r\n",
        "#Multiple class :     Parents classs\r\n",
        "                     #Child class \r\n",
        "                     # Grand Child class \r\n",
        "\r\n",
        "                     \r\n",
        "#Encapsulation :     Public \r\n",
        "                    #private \r\n",
        "\r\n"
      ],
      "execution_count": null,
      "outputs": []
    },
    {
      "cell_type": "code",
      "metadata": {
        "id": "ZZhJjazZlECs"
      },
      "source": [
        "#Modifying an Attribute’s Value Through a Method\r\n",
        "\r\n",
        "\r\n",
        "class Car:\r\n",
        "  #A simple a attempt to the simplest car \r\n",
        "\r\n",
        "  def __init__(self,make ,model ,year):    #attribute and object \r\n",
        "    self.make=make\r\n",
        "    self.model=model\r\n",
        "    self.year=year\r\n",
        "    self.odometer=0\r\n",
        "\r\n",
        "  def get_descriptive_name(self):    #method \r\n",
        "\r\n",
        "    long_name=f\"{self.make},{self.model},{self.year}\"\r\n",
        "    return long_name.title()\r\n",
        "  \r\n",
        "  def read_odometer(self):\r\n",
        "    #print showing the car milage \r\n",
        "    print(f\"This car has {self.odometer} mile on it.\")\r\n",
        "\r\n",
        "  def update_odometer(self,mileage):\r\n",
        "    #set odometer reading value \r\n",
        "\r\n",
        "    self.odometer=mileage"
      ],
      "execution_count": null,
      "outputs": []
    },
    {
      "cell_type": "code",
      "metadata": {
        "id": "rXX1S9xEmPxX"
      },
      "source": [
        "#instance \r\n",
        "\r\n",
        "my_best_car=Car(\"Range_Rover\" , \"Velar\" , 2021)\r\n",
        "\r\n",
        "print(my_best_car.get_descriptive_name())\r\n",
        "\r\n",
        "my_best_car.update_odometer(15)\r\n",
        "my_best_car.read_odometer()\r\n",
        "\r\n",
        "\r\n",
        "\r\n",
        "\r\n"
      ],
      "execution_count": null,
      "outputs": []
    },
    {
      "cell_type": "code",
      "metadata": {
        "id": "k9q7dYt7nhK0"
      },
      "source": [
        "\r\n",
        "class Car:\r\n",
        "  #A simple a attempt to the simplest car \r\n",
        "\r\n",
        "  def __init__(self,make ,model ,year):    #attribute and object \r\n",
        "    self.make=make\r\n",
        "    self.model=model\r\n",
        "    self.year=year\r\n",
        "    self.odometer=0\r\n",
        "\r\n",
        "  def get_descriptive_name(self):    #method \r\n",
        "\r\n",
        "    long_name=f\"{self.make},{self.model},{self.year}\"\r\n",
        "    return long_name.title()\r\n",
        "  \r\n",
        "  def read_odometer(self):\r\n",
        "    #print showing the car milage \r\n",
        "    print(f\"This car has {self.odometer} mile on it.\")\r\n",
        "\r\n",
        "  def update_odometer(self,mileage):\r\n",
        "    #set odometer reading value \r\n",
        "    #self.odometer=mileage\r\n",
        "\r\n",
        "    if mileage>=self.odometer:\r\n",
        "      self.odometer=mileage\r\n",
        "    \r\n",
        "    else:\r\n",
        "      print(\"you can not rollback an odometer !\")\r\n",
        "\r\n",
        "\r\n",
        "  \r\n",
        "  #set the odometer to given reading value #Reject the changes the if it is attempt to roll_back\r\n",
        "\r\n",
        "  \r\n"
      ],
      "execution_count": null,
      "outputs": []
    },
    {
      "cell_type": "code",
      "metadata": {
        "id": "0oarZFohLKUr"
      },
      "source": [
        "my_car=Car(\"Range_rover\",\"Velar\",2021)\r\n",
        "\r\n"
      ],
      "execution_count": null,
      "outputs": []
    },
    {
      "cell_type": "code",
      "metadata": {
        "id": "PKK1-ySAPNAI"
      },
      "source": [
        "print(my_car.get_descriptive_name())\r\n",
        "my_car.update_odometer(20)\r\n",
        "my_car.read_odometer()"
      ],
      "execution_count": null,
      "outputs": []
    },
    {
      "cell_type": "markdown",
      "metadata": {
        "id": "nCS5NNUdQHRc"
      },
      "source": [
        "#Incrementing an Attribute’s Value Through a Method\r\n"
      ]
    },
    {
      "cell_type": "code",
      "metadata": {
        "id": "nNio5EC4PkSE"
      },
      "source": [
        "class Car:\r\n",
        "  #A simple a attempt to the simplest car \r\n",
        "\r\n",
        "  def __init__(self,make ,model ,year):    #attribute and object \r\n",
        "    self.make=make\r\n",
        "    self.model=model\r\n",
        "    self.year=year\r\n",
        "    self.odometer=0\r\n",
        "\r\n",
        "  def get_descriptive_name(self):    #method \r\n",
        "\r\n",
        "    long_name=f\"{self.make},{self.model},{self.year}\"\r\n",
        "    return long_name.title()\r\n",
        "  \r\n",
        "  def read_odometer(self):\r\n",
        "    #print showing the car milage \r\n",
        "    print(f\"This car has {self.odometer} mile on it.\")\r\n",
        "\r\n",
        "  def update_odometer(self,mileage):\r\n",
        "    #set odometer reading value \r\n",
        "    if mileage>=self.odometer:\r\n",
        "      self.odometer=mileage\r\n",
        "    else:\r\n",
        "      print(\"you can not rollback an odometer !\")\r\n",
        "\r\n",
        "  def increment_odometer(self, miles):\r\n",
        "    self.odometer +=miles"
      ],
      "execution_count": null,
      "outputs": []
    },
    {
      "cell_type": "code",
      "metadata": {
        "id": "z4YmLHaIQdKU"
      },
      "source": [
        "#instance \r\n",
        "my_used_car = Car('subaru', 'outback', 2015)\r\n",
        "print(my_used_car.get_descriptive_name())"
      ],
      "execution_count": null,
      "outputs": []
    },
    {
      "cell_type": "code",
      "metadata": {
        "id": "i_u5L7XDQlCw"
      },
      "source": [
        "#updating the odometer through the data calling the value \r\n",
        "my_used_car.update_odometer(23_500)\r\n",
        "my_used_car.read_odometer()"
      ],
      "execution_count": null,
      "outputs": []
    },
    {
      "cell_type": "code",
      "metadata": {
        "id": "56kYSAAOQsvb"
      },
      "source": [
        "#incrememt the data for method \r\n",
        "\r\n",
        "my_used_car.increment_odometer(100)\r\n",
        "my_used_car.read_odometer()"
      ],
      "execution_count": null,
      "outputs": []
    },
    {
      "cell_type": "markdown",
      "metadata": {
        "id": "FJgDH1P7W6Po"
      },
      "source": [
        "#Inheritance"
      ]
    },
    {
      "cell_type": "markdown",
      "metadata": {
        "id": "MVAnSoXSXMiX"
      },
      "source": [
        "You don’t always have to start from scratch when writing a class. If the class\r\n",
        "you’re writing is a specialized version of another class you wrote, you can\r\n",
        "use inheritance. When one class inherits from another, it takes on the attributes and methods of the first class. The original class is called the parent\r\n",
        "\r\n",
        "class, and the new class is the child class. The child class can inherit any\r\n",
        "or all of the attributes and methods of its parent class, but it’s also free to\r\n",
        "define new attributes and methods of its own."
      ]
    },
    {
      "cell_type": "code",
      "metadata": {
        "id": "aAorpYSAQyG9"
      },
      "source": [
        "class Car:\r\n",
        "  #A simple a attempt to the simplest car \r\n",
        "\r\n",
        "  def __init__(self,make ,model ,year):    #attribute and object \r\n",
        "    self.make=make\r\n",
        "    self.model=model\r\n",
        "    self.year=year\r\n",
        "    self.odometer=0\r\n",
        "\r\n",
        "  def get_descriptive_name(self):    #method \r\n",
        "\r\n",
        "    long_name=f\"{self.make},{self.model},{self.year}\"\r\n",
        "    return long_name.title()\r\n",
        "  \r\n",
        "  def read_odometer(self):\r\n",
        "    #print showing the car milage \r\n",
        "    print(f\"This car has {self.odometer} mile on it.\")\r\n",
        "\r\n",
        "  def update_odometer(self,mileage):\r\n",
        "    #set odometer reading value \r\n",
        "    if mileage>=self.odometer:\r\n",
        "      self.odometer=mileage\r\n",
        "    else:\r\n",
        "      print(\"you can not rollback an odometer !\")\r\n",
        "\r\n",
        "  def increment_odometer(self, miles):\r\n",
        "    self.odometer +=miles"
      ],
      "execution_count": null,
      "outputs": []
    },
    {
      "cell_type": "code",
      "metadata": {
        "id": "2nTt3bIcXi8Q"
      },
      "source": [
        "class ElectricCar(Car):\r\n",
        " #\"\"\"Represent aspects of a car, specific to electric vehicles.\"\"\"\r\n",
        "\r\n",
        " def __init__(self, make, model, year):\r\n",
        " #\"\"\"Initialize attributes of the parent class.\"\"\"\r\n",
        "     super().__init__(make, model, year)"
      ],
      "execution_count": null,
      "outputs": []
    },
    {
      "cell_type": "code",
      "metadata": {
        "id": "oMMVXAfPYr6y"
      },
      "source": [
        "my_tesla = ElectricCar('tesla', 'model s', 2019)\r\n",
        "print(my_tesla.get_descriptive_name())"
      ],
      "execution_count": null,
      "outputs": []
    },
    {
      "cell_type": "code",
      "metadata": {
        "id": "k9kmRzLHYzuk"
      },
      "source": [
        "#Defining Attributes and Methods for the Child Class\r\n",
        "\r\n",
        "\r\n",
        "class ElectricCar(Car):\r\n",
        " #\"\"\"Represent aspects of a car, specific to electric vehicles.\"\"\"\r\n",
        "\r\n",
        " def __init__(self, make, model, year):\r\n",
        " #\"\"\"Initialize attributes of the parent class.\"\"\"\r\n",
        "     super().__init__(make, model, year)\r\n",
        "     self.battery_size=75\r\n",
        " def describe_battery(self):\r\n",
        " #\"\"\"Print a statement describing the battery size.\"\"\"\r\n",
        "    print(f\"This car has a {self.battery_size}-kWh battery.\")   "
      ],
      "execution_count": null,
      "outputs": []
    },
    {
      "cell_type": "code",
      "metadata": {
        "id": "5le8Wt67cB8f"
      },
      "source": [
        "my_tesla = ElectricCar('tesla', 'models', 2019)\r\n",
        "print(my_tesla.get_descriptive_name())\r\n",
        "my_tesla.describe_battery()"
      ],
      "execution_count": null,
      "outputs": []
    },
    {
      "cell_type": "code",
      "metadata": {
        "id": "3qsrBL3EcJTJ"
      },
      "source": [
        "#Overriding Methods from the Parent Class\r\n",
        "#def fill_gas_tank(self):\r\n",
        " #\"\"\"Electric cars don't have gas tanks.\"\"\"\r\n",
        " #print(\"This car doesn't need a gas tank!\")"
      ],
      "execution_count": null,
      "outputs": []
    },
    {
      "cell_type": "code",
      "metadata": {
        "id": "ZFayD6indRfa"
      },
      "source": [
        "#INSTANCE OF ATTRIBUTES \r\n",
        "\r\n",
        "class Car:\r\n",
        "  #A simple a attempt to the simplest car \r\n",
        "\r\n",
        "  def __init__(self,make ,model ,year):    #attribute and object \r\n",
        "    self.make=make\r\n",
        "    self.model=model\r\n",
        "    self.year=year\r\n",
        "    self.odometer=0\r\n",
        "\r\n",
        "  def get_descriptive_name(self):    #method \r\n",
        "\r\n",
        "    long_name=f\"{self.make},{self.model},{self.year}\"\r\n",
        "    return long_name.title()\r\n",
        "  \r\n",
        "  def read_odometer(self):\r\n",
        "    #print showing the car milage \r\n",
        "    print(f\"This car has {self.odometer} mile on it.\")\r\n",
        "\r\n",
        "  def update_odometer(self,mileage):\r\n",
        "    #set odometer reading value \r\n",
        "    if mileage>=self.odometer:\r\n",
        "      self.odometer=mileage\r\n",
        "    else:\r\n",
        "      print(\"you can not rollback an odometer !\")\r\n",
        "\r\n",
        "  def increment_odometer(self, miles):\r\n",
        "    self.odometer +=miles"
      ],
      "execution_count": null,
      "outputs": []
    },
    {
      "cell_type": "code",
      "metadata": {
        "id": "WKJByoSCd1G1"
      },
      "source": [
        "class Battery:\r\n",
        " #\"\"\"A simple attempt to model a battery for an electric car.\"\"\"\r\n",
        " def __init__(self, battery_size=75):\r\n",
        " #\"\"\"Initialize the battery's attributes.\"\"\"\r\n",
        "  self.battery_size = battery_size\r\n",
        "\r\n",
        "\r\n",
        " def describe_battery(self):\r\n",
        " #\"\"\"Print a statement describing the battery size.\"\"\"\r\n",
        "  print(f\"This car has a {self.battery_size}-kWh battery.\")\r\n",
        "#fix ing the range of the battery\r\n",
        "\r\n",
        "\r\n",
        " def get_range(self):\r\n",
        "    if self.battery_size==75:\r\n",
        "      range=270\r\n",
        "    elif self.battery_size==100:\r\n",
        "      range=350\r\n",
        "\r\n",
        "    print(f\" This car can not go about {range} miles on the full charge.\")\r\n",
        "\r\n",
        "      "
      ],
      "execution_count": null,
      "outputs": []
    },
    {
      "cell_type": "code",
      "metadata": {
        "id": "nuUL-gZmoIJs"
      },
      "source": [
        ""
      ],
      "execution_count": null,
      "outputs": []
    },
    {
      "cell_type": "code",
      "metadata": {
        "id": "Rg4ITumyeKuV"
      },
      "source": [
        "class ElectricCar(Car):\r\n",
        " #\"\"\"Represent aspects of a car, specific to electric vehicles.\"\"\"\r\n",
        " def __init__(self, make, model, year):\r\n",
        " #\"\"\"\r\n",
        " #Initialize attributes of the parent class.\r\n",
        " #Then initialize attributes specific to an electric \r\n",
        "  super().__init__(make, model, year)\r\n",
        "  self.battery = Battery()\r\n"
      ],
      "execution_count": null,
      "outputs": []
    },
    {
      "cell_type": "code",
      "metadata": {
        "id": "YE2-1t8YeaDs"
      },
      "source": [
        "my_tesla = ElectricCar('tesla', 'models', 2021)\r\n",
        "print(my_tesla.get_descriptive_name())\r\n",
        "my_tesla.battery.describe_battery()\r\n",
        "my_tesla.battery.get_range()\r\n"
      ],
      "execution_count": null,
      "outputs": []
    },
    {
      "cell_type": "code",
      "metadata": {
        "id": "AicFtHFee0Qy"
      },
      "source": [
        "  "
      ],
      "execution_count": null,
      "outputs": []
    }
  ]
}