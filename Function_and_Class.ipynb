{
  "nbformat": 4,
  "nbformat_minor": 0,
  "metadata": {
    "colab": {
      "name": "Function and Class.ipynb",
      "private_outputs": true,
      "provenance": [],
      "collapsed_sections": [
        "BdY1TAhqxNa1",
        "eOMhYGvd0m9C",
        "pc4uYHTs2hQt"
      ],
      "authorship_tag": "ABX9TyMba0zcFva2PUjTFgjUfSJ+",
      "include_colab_link": true
    },
    "kernelspec": {
      "name": "python3",
      "display_name": "Python 3"
    }
  },
  "cells": [
    {
      "cell_type": "markdown",
      "metadata": {
        "id": "view-in-github",
        "colab_type": "text"
      },
      "source": [
        "<a href=\"https://colab.research.google.com/github/satyambhatt5/Python-source-code-/blob/main/Function_and_Class.ipynb\" target=\"_parent\"><img src=\"https://colab.research.google.com/assets/colab-badge.svg\" alt=\"Open In Colab\"/></a>"
      ]
    },
    {
      "cell_type": "markdown",
      "metadata": {
        "id": "fw9ygmtRMtqb"
      },
      "source": [
        "#Functions,\r\n",
        "\r\n",
        "[https://ipgp.github.io/scientific_python_cheat_sheet/](https://)\r\n",
        "which are named blocks of code that are designed to do one specific job.\r\n",
        "\r\n",
        "When you want to perform a particular task\r\n",
        "**bold text**\r\n",
        "that you’ve defined in a function, you call the function\r\n",
        "responsible for it. If you need to perform that task\r\n",
        "\r\n",
        "\r\n"
      ]
    },
    {
      "cell_type": "code",
      "metadata": {
        "id": "LFM7pAzwf_FO"
      },
      "source": [
        "def greet_user():\r\n",
        " \"\"\"Display a simple greeting.\"\"\"\r\n",
        " print(\"Hello!\")\r\n",
        "\r\n"
      ],
      "execution_count": null,
      "outputs": []
    },
    {
      "cell_type": "code",
      "metadata": {
        "id": "loXSXTGt5kk3"
      },
      "source": [
        "#call the fuction \r\n",
        "greet_user()"
      ],
      "execution_count": null,
      "outputs": []
    },
    {
      "cell_type": "markdown",
      "metadata": {
        "id": "-rT81_Gc4ZqE"
      },
      "source": [
        "This example shows the simplest structure of a function. The line at u\r\n",
        "uses the keyword def to inform Python that you’re defining a function. This\r\n",
        "is the function definition, which tells Python the name of the function and, if\r\n",
        "applicable, what kind of information the function needs to do its job. The\r\n",
        "parentheses hold that information. In this case, the name of the function\r\n",
        "is greet_user(), and it needs no information to do its job, so its parentheses\r\n",
        "are empty. (Even so, the parentheses are required.) Finally, the definition\r\n",
        "ends in a colon.\r\n",
        "\r\n",
        "Any indented lines that follow def greet_user(): make up the body of\r\n",
        "the function. The text at v is a comment called a docstring, which describes\r\n",
        "what the function does. Docstrings are enclosed in triple quotes, which\r\n",
        "Python looks for when it generates documentation for the functions in your\r\n",
        "programs.\r\n",
        "\r\n",
        "The line print(\"Hello!\")  is the only line of actual code in the body\r\n",
        "of this function, so greet_user() has just one job: print(\"Hello!\").\r\n",
        "\r\n",
        "\r\n",
        "When you want to use this function, you call it. A function call tells\r\n",
        "Python to execute the code in the function. To call a function, you write\r\n",
        "the name of the function, followed by any necessary information in parentheses, as shown at x. Because no information is needed here, calling our\r\n",
        "function is as simple as entering greet_user(). \r\n",
        "\r\n",
        "As expected, it prints Hello!:"
      ]
    },
    {
      "cell_type": "code",
      "metadata": {
        "id": "sVRVqePt35oj"
      },
      "source": [
        "#Passing Information to a Function\r\n",
        "\r\n",
        "def greet_user(username):\r\n",
        " \"\"\"Display a simple greeting.\"\"\"\r\n",
        " print(f\"Hello!, {username.title()}! \\n\")\r\n",
        "\r\n"
      ],
      "execution_count": null,
      "outputs": []
    },
    {
      "cell_type": "code",
      "metadata": {
        "id": "XDUvMmp85tNM"
      },
      "source": [
        "#call the fuction \r\n",
        "greet_user(\"satyam\")\r\n"
      ],
      "execution_count": null,
      "outputs": []
    },
    {
      "cell_type": "markdown",
      "metadata": {
        "id": "8vHBg6l67KIr"
      },
      "source": [
        "8-1. Message: Write a function called display_message() that prints one sentence telling everyone what you are learning about in this chapter. Call the\r\n",
        "function, and make sure the message displays correctly.\r\n",
        "\r\n",
        " \r\n",
        "8-2. Favorite Book: Write a function called favorite_book() that accepts one\r\n",
        "parameter, title. The function should print a message, such as One of my\r\n",
        "favorite books is Alice in Wonderland. Call the function, making sure to\r\n",
        "include a book title as an argument in the function call."
      ]
    },
    {
      "cell_type": "code",
      "metadata": {
        "id": "M-SdVUOI53hE"
      },
      "source": [
        "def display_message(username):\r\n",
        "  print(f\"{username.title()} !, What you are learning about in this chapter \\n \")\r\n",
        "def favorite_book(book):\r\n",
        "  print(f\"{book.title()} !,One of my favorite book \\n\" )\r\n",
        "  "
      ],
      "execution_count": null,
      "outputs": []
    },
    {
      "cell_type": "code",
      "metadata": {
        "id": "PCZ04Sao8EP8"
      },
      "source": [
        "display_message(\"satyam\")\r\n",
        "favorite_book(\"python\")"
      ],
      "execution_count": null,
      "outputs": []
    },
    {
      "cell_type": "code",
      "metadata": {
        "id": "GidF-ugW8H1_"
      },
      "source": [
        "#Passing Arguments\r\n",
        "\r\n"
      ],
      "execution_count": null,
      "outputs": []
    },
    {
      "cell_type": "markdown",
      "metadata": {
        "id": "JJn5V_S4-QQ2"
      },
      "source": [
        "Because a function definition can have multiple parameters, a function call\r\n",
        "may need multiple arguments. You can pass arguments to your functions\r\n",
        "in a number of ways. You can use positional arguments, \r\n",
        "\r\n",
        "the same order the parameters were written; keyword arguments, where each\r\n",
        "argument consists of a variable name and a value; and lists and dictionaries\r\n",
        "of values. Let’s look at each of these in turn"
      ]
    },
    {
      "cell_type": "code",
      "metadata": {
        "id": "1Crs4K1Q-YCO"
      },
      "source": [
        "#position argument \r\n",
        "#When you call a function, Python must match each argument in the function call with a parameter in the function definition. The simplest way to\r\n",
        "#do this is based on the order of the arguments provided. Values matched up this way are called positional arguments\r\n",
        "\r\n",
        "#displays information about pets. The function tells us what kind of animal each pet is and the pet’s name, as shown her\r\n",
        "\r\n",
        "\r\n",
        "def describe_pet(animal_type, pet_name):\r\n",
        "  print(f\"I have {animal_type.title()}.\\n\")\r\n",
        "\r\n",
        "  print(f\"My {animal_type.title()}'s name is {pet_name.title()}.\\n\")"
      ],
      "execution_count": null,
      "outputs": []
    },
    {
      "cell_type": "code",
      "metadata": {
        "id": "EFPXjVg0ArYR"
      },
      "source": [
        "describe_pet(\"dog\", \"shera\")"
      ],
      "execution_count": null,
      "outputs": []
    },
    {
      "cell_type": "code",
      "metadata": {
        "id": "lplAhJoyA7NP"
      },
      "source": [
        "describe_pet(\"cow\",\"lakshmi\")"
      ],
      "execution_count": null,
      "outputs": []
    },
    {
      "cell_type": "markdown",
      "metadata": {
        "id": "C38e-tJaFusV"
      },
      "source": [
        "8-3. T-Shirt: Write a function called make_shirt() that accepts a size and the\r\n",
        "text of a message that should be printed on the shirt. The function should print\r\n",
        "a sentence summarizing the size of the shirt and the message printed on it.\r\n",
        "Call the function once using positional arguments to make a shirt. Call the\r\n",
        "function a second time using keyword arguments.\r\n",
        "\r\n",
        "8-4. Large Shirts: Modify the make_shirt() function so that shirts are large\r\n",
        "by default with a message that reads I love Python. Make a large shirt and a\r\n",
        "medium shirt with the default message, and a shirt of any size with a different\r\n",
        "message.\r\n",
        "\r\n",
        "8-5. Cities: Write a function called describe_city() that accepts the name of\r\n",
        "a city and its country. The function should print a simple sentence, such as\r\n",
        "Reykjavik is in Iceland. Give the parameter for the country a default value.\r\n",
        "Call your function for three different cities, at least one of which is not in the default country"
      ]
    },
    {
      "cell_type": "code",
      "metadata": {
        "id": "8dTKHDK3Bnac"
      },
      "source": [
        "def make_shirt(shirt  , shirt_size):\r\n",
        "  print(f\"I have {shirt.title()} shirt \\n\")\r\n",
        "  print(f\"My {shirt.title()} colour shirt size is {shirt_size} \\n\")"
      ],
      "execution_count": null,
      "outputs": []
    },
    {
      "cell_type": "code",
      "metadata": {
        "id": "NjMwHaOyHkmO"
      },
      "source": [
        "make_shirt(shirt=\"black\",shirt_size=\"18\")"
      ],
      "execution_count": null,
      "outputs": []
    },
    {
      "cell_type": "markdown",
      "metadata": {
        "id": "nAmdj0zDJfdD"
      },
      "source": [
        "#Return Values\r\n",
        "A function doesn’t always have to display its output directly. Instead, it can\r\n",
        "process some data and then return a value or set of values. The value the\r\n",
        "function returns is called a return value. The return statement takes a value\r\n",
        "from inside a function and sends it back to the line that called the function.\r\n",
        "Return values allow you to move much of your program’s grunt work into\r\n",
        "functions, which can simplify the body of your program"
      ]
    },
    {
      "cell_type": "code",
      "metadata": {
        "id": "M76LuAPXH1s9"
      },
      "source": [
        "#Returning a Simple Value Let’s look at a function that takes a first and last name, and returns a neatly\r\n",
        "#formatted full name:\r\n",
        "\r\n",
        "def get_formatted_name(first_name,last_name):\r\n",
        "\r\n",
        "  #display the name \r\n",
        "  full_name= f\"{first_name} {last_name}\"\r\n",
        "  return full_name.title()\r\n",
        "\r\n"
      ],
      "execution_count": null,
      "outputs": []
    },
    {
      "cell_type": "code",
      "metadata": {
        "id": "mywwLHK9Kc7U"
      },
      "source": [
        "get_formatted_name(\"satyam\",\"bhatta\")"
      ],
      "execution_count": null,
      "outputs": []
    },
    {
      "cell_type": "code",
      "metadata": {
        "id": "uUnSawYOKk1w"
      },
      "source": [
        "def get_formatted_name(first_name, middle_name, last_name):\r\n",
        " \"\"\"Return a full name, neatly formatted.\"\"\"\r\n",
        " full_name = f\"{first_name} {middle_name} {last_name}\"\r\n",
        " return full_name.title()"
      ],
      "execution_count": null,
      "outputs": []
    },
    {
      "cell_type": "code",
      "metadata": {
        "id": "7R_BQyvFLG1R"
      },
      "source": [
        "musician = get_formatted_name(\"raj\",\"narayan\",\"bhatt\")\r\n",
        "print(musician)"
      ],
      "execution_count": null,
      "outputs": []
    },
    {
      "cell_type": "markdown",
      "metadata": {
        "id": "CE0tchGrL4Ce"
      },
      "source": [
        "But middle names aren’t always needed, and this function as written\r\n",
        "would not work if you tried to call it with only a first name and a last name.\r\n",
        "To make the middle name optional, we can give the middle_name argument\r\n",
        "an empty default value and ignore the argument unless the user provides a\r\n",
        "value. \r\n",
        "\r\n",
        "To make get_formatted_name() work without a middle name, we set the\r\n",
        "default value of middle_name to an empty string and move it to the end of the\r\n",
        "list of parameters:"
      ]
    },
    {
      "cell_type": "code",
      "metadata": {
        "id": "RIoSQJynLoeI"
      },
      "source": [
        "def get_formatted_name(first_name, last_name, middle_name = ''):\r\n",
        "  if middle_name:\r\n",
        "    full_name= f\"{first_name} {middle_name} {last_name}\"\r\n",
        "  else:\r\n",
        "    full_name= f\"{first_name} {last_name}\"\r\n",
        "  return full_name.title()\r\n",
        "\r\n",
        " \r\n",
        "\r\n"
      ],
      "execution_count": null,
      "outputs": []
    },
    {
      "cell_type": "code",
      "metadata": {
        "id": "K5TxEDujN4JV"
      },
      "source": [
        "get_formatted_name(\"satyam\",\"bhatt\") "
      ],
      "execution_count": null,
      "outputs": []
    },
    {
      "cell_type": "code",
      "metadata": {
        "id": "uuGtRiF9POrG"
      },
      "source": [
        "get_formatted_name(\"raj\",\"bhatt\", \"kumar\")"
      ],
      "execution_count": null,
      "outputs": []
    },
    {
      "cell_type": "code",
      "metadata": {
        "id": "D4NFqxRnRPWy"
      },
      "source": [
        "#Return as dictionay \r\n",
        "\r\n",
        "def build_person(first_name,last_name):\r\n",
        "  \"\"\" Return the dictionay infomation about the person\"\"\"\r\n",
        "  person={'first':first_name,'last':last_name}\r\n",
        "  return person"
      ],
      "execution_count": null,
      "outputs": []
    },
    {
      "cell_type": "code",
      "metadata": {
        "id": "G4HemCgCdAYZ"
      },
      "source": [
        "build_person(\"satyam\",\"Bhatt\")"
      ],
      "execution_count": null,
      "outputs": []
    },
    {
      "cell_type": "code",
      "metadata": {
        "id": "pFO3p3QWdu5T"
      },
      "source": [
        "def build_person(first_name,last_name,age=None):\r\n",
        "  person={'first':first_name,'last':last_name}\r\n",
        "\r\n",
        "  if age:\r\n",
        "    person['age']=age\r\n",
        "  return person\r\n",
        "\r\n"
      ],
      "execution_count": null,
      "outputs": []
    },
    {
      "cell_type": "code",
      "metadata": {
        "id": "qSgF5pR2eChn"
      },
      "source": [
        "build_person(\"Satyam\",\" Bhatt\",age=27)"
      ],
      "execution_count": null,
      "outputs": []
    },
    {
      "cell_type": "code",
      "metadata": {
        "id": "ArpWm-1Gfr6u"
      },
      "source": [
        "\r\n",
        "#Using a Function with a while Loop\r\n"
      ],
      "execution_count": null,
      "outputs": []
    },
    {
      "cell_type": "code",
      "metadata": {
        "id": "ItHQ-RLxhK0w"
      },
      "source": [
        "def get_formatted_name(first_name, last_name):\r\n",
        "  \"\"\"Return a full name, neatly formatted.\"\"\"\r\n",
        "  full_name = f\"{first_name} {last_name}\"\r\n",
        "  return full_name.title()\r\n",
        "while True:\r\n",
        "     print(\"\\nPlease tell me your name:\")\r\n",
        "     print(\"(enter 'q' at any time to quit)\")\r\n",
        "\r\n",
        "     f_name = input(\"First name: \")\r\n",
        "     if f_name == \"q\":\r\n",
        "       break\r\n",
        "     l_name = input(\"Last name: \")\r\n",
        "     if l_name == \"q\":\r\n",
        "       break\r\n",
        "     formatted_name = get_formatted_name(f_name, l_name)\r\n",
        "     print(f\"\\nHello, {formatted_name}!\")\r\n",
        " \r\n"
      ],
      "execution_count": null,
      "outputs": []
    },
    {
      "cell_type": "markdown",
      "metadata": {
        "id": "oK6OuEQhDBNQ"
      },
      "source": [
        "8-6. City Names: Write a function called city_country() that takes in the name\r\n",
        "of a city and its country. The function should return a string formatted like this:\r\n",
        "\"Santiago, Chile\"\r\n",
        "Call your function with at least three city-country pairs, and print the\r\n",
        "values that are returned\r\n"
      ]
    },
    {
      "cell_type": "code",
      "metadata": {
        "id": "4UKDFzU29-J_"
      },
      "source": [
        "def city_country(city,country):\r\n",
        "  full_name=f\"{city},{country}\"\r\n",
        "  return full_name.title()\r\n",
        "  "
      ],
      "execution_count": null,
      "outputs": []
    },
    {
      "cell_type": "code",
      "metadata": {
        "id": "5TdFPKQMD_PL"
      },
      "source": [
        "city_country(\"prayagraj\",\"india\")"
      ],
      "execution_count": null,
      "outputs": []
    },
    {
      "cell_type": "code",
      "metadata": {
        "id": "0GGhA89XEKEp"
      },
      "source": [
        "#album\r\n",
        "\r\n",
        "def make_album(artist_name,album_title):\r\n",
        "  for store_data in (artist_name,album_title):\r\n",
        "    store_data={\"artist\":artist_name,\"album\":album_title}\r\n",
        "  return store_data\r\n",
        "  \r\n",
        "  \r\n"
      ],
      "execution_count": null,
      "outputs": []
    },
    {
      "cell_type": "code",
      "metadata": {
        "id": "tU988-y0J2jy"
      },
      "source": [
        "user =[\"Satyam\",\"Shivam\",\"Shundram\"]\r\n",
        "data =[\"Song\",\"Music\",\"love\"]\r\n",
        "\r\n"
      ],
      "execution_count": null,
      "outputs": []
    },
    {
      "cell_type": "code",
      "metadata": {
        "id": "g_vTyfxZMeer"
      },
      "source": [
        "music_industry=print(make_album(artist_name=user,album_title=data))"
      ],
      "execution_count": null,
      "outputs": []
    },
    {
      "cell_type": "code",
      "metadata": {
        "id": "oagojqO5Md3r"
      },
      "source": [
        "\r\n"
      ],
      "execution_count": null,
      "outputs": []
    },
    {
      "cell_type": "code",
      "metadata": {
        "id": "yhSXP4dUS-4X"
      },
      "source": [
        ""
      ],
      "execution_count": null,
      "outputs": []
    },
    {
      "cell_type": "code",
      "metadata": {
        "id": "I2pXuu-cQSY5"
      },
      "source": [
        ""
      ],
      "execution_count": null,
      "outputs": []
    },
    {
      "cell_type": "code",
      "metadata": {
        "id": "fcG9b5fHRFsr"
      },
      "source": [
        "def make_album(artist_name,album_title,song=None):\r\n",
        "  song_data={'artist':artist_name,\"album\":album_title}\r\n",
        "  if song:\r\n",
        "    song_data[\"song\"]=song\r\n",
        "    return song_data\r\n"
      ],
      "execution_count": null,
      "outputs": []
    },
    {
      "cell_type": "markdown",
      "metadata": {
        "id": "97yqbTQNEXbj"
      },
      "source": [
        "8-7. Album: Write a function called make_album() that builds a dictionary\r\n",
        "describing a music album. The function should take in an artist name and an\r\n",
        "album title, and it should return a dictionary containing these two pieces of\r\n",
        "information. Use the function to make three dictionaries representing different\r\n",
        "albums. Print each return value to show that the dictionaries are storing the\r\n",
        "album information correctly.\r\n",
        "\r\n",
        "Use None to add an optional parameter to make_album() that allows you to\r\n",
        "store the number of songs on an album. If the calling line includes a value for\r\n",
        "the number of songs, add that value to the album’s dictionary. Make at least\r\n",
        "one new function call that includes the number of songs on an album.\r\n",
        "\r\n",
        "8-8. User Albums: Start with your program from Exercise 8-7. Write a while\r\n",
        "loop that allows users to enter an album’s artist and title. Once you have that\r\n",
        "information, call make_album() with the user’s input and print the dictionary\r\n",
        "that’s created. Be sure to include a quit value in the while loop"
      ]
    },
    {
      "cell_type": "code",
      "metadata": {
        "id": "yv2-IYOtEa35"
      },
      "source": [
        "m1=make_album(\"smith\",\"highway to hell\",song=20)\r\n",
        "m2=make_album(\"dinesh\",\"thunder stuck\",30)\r\n",
        "m3=make_album(\"albama\",\"live on\",40)\r\n",
        "\r\n",
        "m=[m1,m2,m3]\r\n",
        "\r\n",
        "import pandas as pd\r\n",
        "\r\n",
        "pd.DataFrame(m)\r\n"
      ],
      "execution_count": null,
      "outputs": []
    },
    {
      "cell_type": "code",
      "metadata": {
        "id": "6fzCujujPFKG"
      },
      "source": [
        "def greet_user(names):\r\n",
        "  \"\"\"Print the simple user in each user in the list \"\"\"\r\n",
        "  for name in names:\r\n",
        "    msg=f\"Hellow, {name.title()}!\"\r\n",
        "    print(msg)"
      ],
      "execution_count": null,
      "outputs": []
    },
    {
      "cell_type": "code",
      "metadata": {
        "id": "8PseCp2gIKx-"
      },
      "source": [
        "username=[\"satyam\",\"dinesh\",\"suraj\"]\r\n",
        "\r\n",
        "greet_user(username)"
      ],
      "execution_count": null,
      "outputs": []
    },
    {
      "cell_type": "markdown",
      "metadata": {
        "id": "1LZi-yHDQYGr"
      },
      "source": [
        "#Modifying a List in a Function\r\n",
        "When you pass a list to a function, the function can modify the list. Any\r\n",
        "changes made to the list inside the function’s body are permanent, allowing\r\n",
        "you to work efficiently even when you’re dealing with large amounts of data.\r\n",
        "\r\n",
        "\r\n",
        "Consider a company that #**creates_3D** #**printed_models** of designs that\r\n",
        "users submit. Designs that need to be printed are stored in a **list**, and after\r\n",
        "being printed they’re moved to a separate list. The following code does this\r\n",
        "**without using functions:** "
      ]
    },
    {
      "cell_type": "code",
      "metadata": {
        "id": "6Am6o_QeIa1Z"
      },
      "source": [
        "# Start with some designs that need to be printed.\r\n",
        "unprinted_designs = ['phone case', 'robot pendant', 'dodecahedron']\r\n",
        "completed_models = []\r\n",
        "# Simulate printing each design, until none are left.\r\n",
        "# Move each design to completed_models after printing.\r\n",
        "\r\n",
        "while unprinted_designs:\r\n",
        " current_design = unprinted_designs.pop()\r\n",
        " print(f\"Printing model: {current_design}\")\r\n",
        " completed_models.append(current_design)\r\n",
        " \r\n",
        "#Display all completed models.\r\n",
        "print(\"\\nThe following models have been printed:\")\r\n",
        "for completed_model in completed_models:\r\n",
        " print(completed_model)"
      ],
      "execution_count": null,
      "outputs": []
    },
    {
      "cell_type": "code",
      "metadata": {
        "id": "f1jyLUUaRkyl"
      },
      "source": [
        "#Now build the function using def\r\n",
        "\r\n",
        "#1-build the function for print the model\r\n",
        "#2>Simulate printing each design, until none are left.\r\n",
        "#Move each design to completed_models after printing.\r\n",
        "#create the function for show the model\r\n",
        "#Now call the print model, and show the model\r\n"
      ],
      "execution_count": null,
      "outputs": []
    },
    {
      "cell_type": "code",
      "metadata": {
        "id": "XgSywFr_SGwK"
      },
      "source": [
        "def print_model(unprinted_designs,completed_models):\r\n",
        "  while unprinted_designs:\r\n",
        "    current_design=unprinted_designs.pop()\r\n",
        "    print(f\"Printing model: {current_design}\")\r\n",
        "    completed_models.append(current_design)\r\n",
        "\r\n",
        "def show_completed_models(completed_models):\r\n",
        "  print(\"\\n The following have been Printed\")\r\n",
        "  for completed_model in completed_models:\r\n",
        "    print(completed_model)\r\n"
      ],
      "execution_count": null,
      "outputs": []
    },
    {
      "cell_type": "markdown",
      "metadata": {
        "id": "ihFifMP7ev88"
      },
      "source": [
        "Preventing a Function from Modifying a List\r\n",
        "Sometimes you’ll want to prevent a function from modifying a list. For\r\n",
        "example, say that you start with a list of unprinted designs and write a\r\n",
        "function to move them to a list of completed models, as in the previous\r\n",
        "example. You may decide that even though you’ve printed all the designs,\r\n",
        "you want to keep the original list of unprinted designs for your records. \r\n",
        "146 Chapter 8\r\n",
        "But because you moved all the design names out of unprinted_designs, the\r\n",
        "list is now empty, and the empty list is the only version you have; the original is gone. In this case, you can address this issue by passing the function a\r\n",
        "copy of the list, not the original. Any changes the function makes to the list\r\n",
        "will affect only the copy, leaving the original list intact.\r\n",
        "You can send a copy of a list to a function like this:"
      ]
    },
    {
      "cell_type": "code",
      "metadata": {
        "id": "91z3Cf0Jb82Z"
      },
      "source": [
        "#list of the unprinted list and empty model \r\n",
        "\r\n",
        "unprinted_designs[:] = ['phone case', 'robot pendant', 'dodecahedron']\r\n",
        "completed_models = []\r\n"
      ],
      "execution_count": null,
      "outputs": []
    },
    {
      "cell_type": "code",
      "metadata": {
        "id": "r8IXuzYLcJz6"
      },
      "source": [
        "#call the fuction \r\n",
        "\r\n",
        "print_model(unprinted_designs[:],completed_models)\r\n",
        "show_completed_models(completed_models)"
      ],
      "execution_count": null,
      "outputs": []
    },
    {
      "cell_type": "code",
      "metadata": {
        "id": "ebJPfcaccfBv"
      },
      "source": [
        "#Passing an Arbitrary Number of Arguments"
      ],
      "execution_count": null,
      "outputs": []
    },
    {
      "cell_type": "markdown",
      "metadata": {
        "id": "BdY1TAhqxNa1"
      },
      "source": [
        "Sometimes you won’t know ahead of time how many arguments a function\r\n",
        "needs to accept. Fortunately, Python allows a function to collect an arbitrary number of arguments from the calling statement.\r\n",
        "#For example, consider a function that builds a pizza. It needs to accept a\r\n",
        "number of toppings, but you can’t know ahead of time how many toppings\r\n",
        "a person will want. The function in the following example has one parameter, *toppings, but this parameter collects as many arguments as the calling\r\n",
        "line provides:"
      ]
    },
    {
      "cell_type": "code",
      "metadata": {
        "id": "W_9D1MQCxPud"
      },
      "source": [
        "def make_pizza(*topping):#*toppings, but this parameter collects as many arguments as the calling line provides\r\n",
        "  #print list of the topping havebeen requested \r\n",
        "  print(*topping)"
      ],
      "execution_count": null,
      "outputs": []
    },
    {
      "cell_type": "code",
      "metadata": {
        "id": "ZS3GJ08Qx13x"
      },
      "source": [
        "make_pizza(\"chilli\")\r\n",
        "make_pizza(\"tomato\",\"greenpaper\",\"corn\")"
      ],
      "execution_count": null,
      "outputs": []
    },
    {
      "cell_type": "code",
      "metadata": {
        "id": "SV6N17WPx9xZ"
      },
      "source": [
        "#now we use the loop\r\n",
        "\r\n",
        "def make_pizza(*toppings):\r\n",
        "  #summrise the pizza we are about to make \r\n",
        "  print(\"\\n Make a pizza with following step: \")\r\n",
        "  for topping in toppings:\r\n",
        "    print(f\"-{topping}\")"
      ],
      "execution_count": null,
      "outputs": []
    },
    {
      "cell_type": "code",
      "metadata": {
        "id": "tc4tX-qwz2pn"
      },
      "source": [
        "make_pizza('pepperoni')\r\n",
        "make_pizza('mushrooms', 'green peppers', 'extra cheese')"
      ],
      "execution_count": null,
      "outputs": []
    },
    {
      "cell_type": "markdown",
      "metadata": {
        "id": "eOMhYGvd0m9C"
      },
      "source": [
        "#Mixing Positional and Arbitrary Arguments\r\n",
        "If you want a function to accept several different kinds of arguments, the\r\n",
        "parameter that accepts an arbitrary number of arguments must be placed\r\n",
        "last in the function definition. Python matches positional and keyword\r\n",
        "arguments first and then collects any remaining arguments in the final\r\n",
        "parameter.\r\n",
        "\r\n",
        "\r\n",
        "For example, if the function needs to take in a size for the pizza, that\r\n",
        "#parameter must come before the parameter *toppings:\r\n"
      ]
    },
    {
      "cell_type": "code",
      "metadata": {
        "id": "hcfNeKr4z4cQ"
      },
      "source": [
        "def make_pizza(size,*toppings):\r\n",
        "  print(f\"\\n Making a {size} inch pizza with following step\")\r\n",
        "  for topping in toppings:\r\n",
        "    print(f\"-{topping}\")"
      ],
      "execution_count": null,
      "outputs": []
    },
    {
      "cell_type": "code",
      "metadata": {
        "id": "U1gW8o-_13p0"
      },
      "source": [
        "make_pizza(18,\"chilli\",\"tomato\",\"onion\",\"green paper\",\"cheeze\",\"olive\")"
      ],
      "execution_count": null,
      "outputs": []
    },
    {
      "cell_type": "markdown",
      "metadata": {
        "id": "pc4uYHTs2hQt"
      },
      "source": [
        "#Using Arbitrary Keyword Arguments\r\n",
        "\r\n",
        "\r\n",
        "Sometimes you’ll want to accept an arbitrary number of arguments, but you\r\n",
        "won’t know ahead of time what kind of information will be passed to the\r\n",
        "function. In this case, you can write functions that accept as many key-value\r\n",
        "pairs as the calling statement provides. One example involves building user\r\n",
        "\r\n",
        "profiles: you know you’ll get information about a user, but you’re not sure\r\n",
        "what kind of information you’ll receive. The function build_profile() in the \r\n",
        "Functions 149\r\n",
        "following example always takes in a first and last name, but it accepts an\r\n",
        "arbitrary number of keyword arguments as well:\r\n"
      ]
    },
    {
      "cell_type": "code",
      "metadata": {
        "id": "5mQ4ATC018pp"
      },
      "source": [
        "def build_profile(first,last,**user_info):\r\n",
        "  user_info[\"first_name\"]=first\r\n",
        "  user_info[\"last_name\"]=last\r\n",
        "  return user_info\r\n",
        "\r\n"
      ],
      "execution_count": null,
      "outputs": []
    },
    {
      "cell_type": "code",
      "metadata": {
        "id": "-aEP36bA4p1m"
      },
      "source": [
        "user_profile=build_profile(\"Satyam\", \"Bhatt\",location=\"Prayagraj\",job_profile=\"Data Scientist\")\r\n",
        "print(user_profile)"
      ],
      "execution_count": null,
      "outputs": []
    },
    {
      "cell_type": "markdown",
      "metadata": {
        "id": "X6ve5ycL6Uyd"
      },
      "source": [
        "The definition of build_profile() expects a first and last name, and\r\n",
        "then it allows the user to pass in as many name-value pairs as they want. The\r\n",
        "double asterisks before the parameter **user_info cause Python to create\r\n",
        "an empty dictionary called user_info and pack whatever name-value pairs\r\n",
        "it receives into this dictionary. Within the function, you can access the keyvalue pairs in user_info just as you would for any dictionary.\r\n",
        "\r\n",
        "\r\n",
        "In the body of build_profile(), we add the first and last names to the\r\n",
        "user_info dictionary because we’ll always receive these two pieces of information from the user u, and they haven’t been placed into the dictionary\r\n",
        "yet. Then we return the user_info dictionary to the function call line.\r\n",
        "We call build_profile(), passing it the first name 'albert', the last\r\n",
        "name 'einstein', and the two key-value pairs location='princeton' and\r\n",
        "field='physics'. We assign the returned profile to user_profile and print\r\n",
        "user_profile:"
      ]
    },
    {
      "cell_type": "markdown",
      "metadata": {
        "id": "Bn0sG5Y46czq"
      },
      "source": [
        "The returned dictionary contains the user’s first and last names and,\r\n",
        "in this case, the location and field of study as well. The function would\r\n",
        "work no matter how many additional key-value pairs are provided in the\r\n",
        "function call.\r\n",
        "\r\n",
        "You can mix positional, keyword, and arbitrary values in many different ways when writing your own functions. It’s useful to know that all\r\n",
        "these argument types exist because you’ll see them often when you start\r\n",
        "reading other people’s code. It takes practice to learn to use the different\r\n",
        "types correctly and to know when to use each type. For now, remember to\r\n",
        "use the simplest approach that gets the job done. As you progress you’ll\r\n",
        "learn to use the most efficient approach each time."
      ]
    },
    {
      "cell_type": "code",
      "metadata": {
        "id": "KzZvc_4P5LIu"
      },
      "source": [
        ""
      ],
      "execution_count": null,
      "outputs": []
    },
    {
      "cell_type": "markdown",
      "metadata": {
        "id": "ii1UdB8E8FMP"
      },
      "source": [
        "#Storing Your Functions in Modules\r\n",
        "\r\n",
        "One advantage of functions is the way they separate blocks of code from\r\n",
        "your main program. By using descriptive names for your functions, your\r\n",
        "main program will be much easier to follow. You can go a step further by\r\n",
        "storing your functions in a separate file called a module and then importing\r\n",
        "that module into your main program. An import statement tells Python to\r\n",
        "make the code in a module available in the currently running program file.\r\n",
        "Storing your functions in a separate file allows you to hide the details of\r\n",
        "your program’s code and focus on its higher-level logic. It also allows you to\r\n",
        "reuse functions in many different programs. When you store your functions\r\n",
        "in separate files, you can share those files with other programmers without\r\n",
        "having to share your entire program. Knowing how to import functions\r\n",
        "also allows you to use libraries of functions that other programmers have\r\n",
        "written.\r\n",
        "There are several ways to import a module, and I’ll show you each of\r\n",
        "these briefly.\r\n"
      ]
    },
    {
      "cell_type": "code",
      "metadata": {
        "id": "AeO5tZzl9X-k"
      },
      "source": [
        "def make_pizza(*toppings):\r\n",
        "  #summrise the pizza we are about to make \r\n",
        "  print(\"\\n Make a pizza with following step: \")\r\n",
        "  for topping in toppings:\r\n",
        "    print(f\"-{topping}\")\r\n",
        "\r\n",
        "import pizza"
      ],
      "execution_count": null,
      "outputs": []
    },
    {
      "cell_type": "code",
      "metadata": {
        "id": "wgXN8U3Z9toA"
      },
      "source": [
        ""
      ],
      "execution_count": null,
      "outputs": []
    },
    {
      "cell_type": "markdown",
      "metadata": {
        "id": "T1V_2YVE99oX"
      },
      "source": [
        "When Python reads this file, the line import pizza tells Python to open\r\n",
        "the file pizza.py and copy all the functions from it into this program. You\r\n",
        "don’t actually see code being copied between files because Python copies\r\n",
        "the code behind the scenes just before the program runs. All you need\r\n",
        "to know is that any function defined in pizza.py will now be available in\r\n",
        "making_pizzas.py.\r\n",
        "To call a function from an imported module, enter the name of\r\n",
        "the module you imported, pizza, followed by the name of the function,\r\n",
        "make_pizza(), separated by a dot u. This code produces the same output\r\n",
        "as the original program that didn’t import a module:"
      ]
    },
    {
      "cell_type": "code",
      "metadata": {
        "id": "d-SaG-3N9rdf"
      },
      "source": [
        "\r\n",
        "pizza.make_pizza('pepperoni')\r\n",
        "pizza.make_pizza('mushrooms', 'green peppers', 'extra cheese')"
      ],
      "execution_count": null,
      "outputs": []
    },
    {
      "cell_type": "code",
      "metadata": {
        "id": "AJxpExRq-IgG"
      },
      "source": [
        ""
      ],
      "execution_count": null,
      "outputs": []
    }
  ]
}