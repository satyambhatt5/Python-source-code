{
 "cells": [
  {
   "cell_type": "code",
   "execution_count": null,
   "metadata": {},
   "outputs": [],
   "source": [
    "# here you are going to write a code | Set of intruction "
   ]
  },
  {
   "cell_type": "code",
   "execution_count": null,
   "metadata": {},
   "outputs": [],
   "source": [
    "# Cheat sheet - Short Cuts of jupyter\n",
    "\n",
    "\n",
    "# In Python \n",
    "\n",
    "\n",
    "# Commenting has to be done with the \n",
    "\n",
    "# ----------------------------- \n",
    "# making a piece of your code inactive\n",
    "# mutlilin commenting \n",
    "# [ctrl + /]"
   ]
  },
  {
   "cell_type": "markdown",
   "metadata": {},
   "source": [
    "# this is the very first time I am getting my hands dirty\n",
    "## sub heading\n",
    "#### sub sub heading\n",
    "\n",
    "~~striking \n",
    "\n",
    "normal text\n",
    "code is below\n",
    "3+7"
   ]
  },
  {
   "cell_type": "code",
   "execution_count": 2,
   "metadata": {},
   "outputs": [
    {
     "data": {
      "text/plain": [
       "10"
      ]
     },
     "execution_count": 2,
     "metadata": {},
     "output_type": "execute_result"
    }
   ],
   "source": [
    "3+7"
   ]
  },
  {
   "cell_type": "code",
   "execution_count": null,
   "metadata": {},
   "outputs": [],
   "source": []
  },
  {
   "cell_type": "code",
   "execution_count": null,
   "metadata": {},
   "outputs": [],
   "source": []
  },
  {
   "cell_type": "code",
   "execution_count": 6,
   "metadata": {},
   "outputs": [
    {
     "data": {
      "text/plain": [
       "8"
      ]
     },
     "execution_count": 6,
     "metadata": {},
     "output_type": "execute_result"
    }
   ],
   "source": [
    "3+5"
   ]
  },
  {
   "cell_type": "code",
   "execution_count": 20,
   "metadata": {},
   "outputs": [
    {
     "ename": "SyntaxError",
     "evalue": "invalid syntax (<ipython-input-20-98a0690d781d>, line 5)",
     "output_type": "error",
     "traceback": [
      "\u001b[1;36m  File \u001b[1;32m\"<ipython-input-20-98a0690d781d>\"\u001b[1;36m, line \u001b[1;32m5\u001b[0m\n\u001b[1;33m    9xx1  = 10\u001b[0m\n\u001b[1;37m       ^\u001b[0m\n\u001b[1;31mSyntaxError\u001b[0m\u001b[1;31m:\u001b[0m invalid syntax\n"
     ]
    }
   ],
   "source": [
    "# Some basic rules of programing in Python | to create the objects\n",
    "#____________________________________________________________\n",
    "\n",
    "X_x1 = 3 + 5\n",
    "9xx1  = 10\n",
    "print(X_x1)\n",
    "print(9xx1)"
   ]
  },
  {
   "cell_type": "code",
   "execution_count": 16,
   "metadata": {},
   "outputs": [
    {
     "name": "stdout",
     "output_type": "stream",
     "text": [
      "8\n"
     ]
    }
   ],
   "source": [
    "X = 5 + 10"
   ]
  },
  {
   "cell_type": "code",
   "execution_count": 9,
   "metadata": {},
   "outputs": [
    {
     "data": {
      "text/plain": [
       "8"
      ]
     },
     "execution_count": 9,
     "metadata": {},
     "output_type": "execute_result"
    }
   ],
   "source": [
    "# BASIC RULES FOR INC : INDENTIFIER NAMING CONVENTIONS\n",
    "#-----------------------------------------------------------\n",
    "# 1- : its a case sensitive Language\n",
    "# 2-: its not a syntax free language\n",
    "# 3 : Any name could be alphanumeric [A-Z | a-z | 0-9| _]\n",
    "# 4: Object(variable) should not start other then alphabet"
   ]
  },
  {
   "cell_type": "code",
   "execution_count": null,
   "metadata": {},
   "outputs": [],
   "source": [
    "# OPERATORS AND OPERANDS\n",
    "\n",
    "#________________________________________\n",
    "# MATHEMATICAL ARITHMATIC  : + - * / % ** () //\n",
    "\n",
    "# lOGICAL OPERATOR : AND & OR |  NOT ! \n",
    "\n",
    "# RELATIONAL OPERATOR/ CONDITIONAL OPERATOR : < > <= >= == != <>\n",
    "\n",
    "# ASSIGNMENT OPERATOR  [=]  \n",
    "    "
   ]
  },
  {
   "cell_type": "code",
   "execution_count": null,
   "metadata": {},
   "outputs": [],
   "source": []
  },
  {
   "cell_type": "code",
   "execution_count": 27,
   "metadata": {},
   "outputs": [
    {
     "data": {
      "text/plain": [
       "bool"
      ]
     },
     "execution_count": 27,
     "metadata": {},
     "output_type": "execute_result"
    }
   ],
   "source": [
    "X = 2>5\n",
    "type(X)\n",
    "#print(X)"
   ]
  },
  {
   "cell_type": "code",
   "execution_count": null,
   "metadata": {},
   "outputs": [],
   "source": [
    "# DATA TYPES: \n",
    "# BASE python ---  pandas --- numpy\n",
    "# _____________________________________\n",
    "int -----------  int64     -- INT\n",
    "float ---------- float64   -- FLOAT\n",
    "str ------------ object\n",
    "complex--------- NA\n",
    "bool ----------- bool64\n",
    "NA ------------- DATETIME64\n",
    "\n",
    "# DATA structres: \n",
    "\n",
    "# BASE python --- pandas -- numpy \n",
    "*tupple ---------- SERIES    NDAARY\n",
    "****list              DATAFRAME NDARRAY(2)\n",
    "**set\n",
    "***dictionary"
   ]
  },
  {
   "cell_type": "code",
   "execution_count": 78,
   "metadata": {},
   "outputs": [
    {
     "data": {
      "text/plain": [
       "6"
      ]
     },
     "execution_count": 78,
     "metadata": {},
     "output_type": "execute_result"
    }
   ],
   "source": [
    "# x = 10\n",
    "\n",
    "# multile elements of same or different dataypes in 1d or 2d manner\n",
    "\n",
    "#Base python data structures :1D heterogenous  DS\n",
    "# tupple: () | immutable - its values can not be changes\n",
    "\n",
    "t1=(12,34,4,556,67,\"a\") \n",
    "type(t1)\n",
    "\n",
    "len(t1)"
   ]
  },
  {
   "cell_type": "code",
   "execution_count": 46,
   "metadata": {},
   "outputs": [
    {
     "ename": "TypeError",
     "evalue": "'tuple' object does not support item assignment",
     "output_type": "error",
     "traceback": [
      "\u001b[1;31m---------------------------------------------------------------------------\u001b[0m",
      "\u001b[1;31mTypeError\u001b[0m                                 Traceback (most recent call last)",
      "\u001b[1;32m<ipython-input-46-a734fa481f71>\u001b[0m in \u001b[0;36m<module>\u001b[1;34m()\u001b[0m\n\u001b[0;32m      2\u001b[0m \u001b[1;31m#    of which we can slice, dice, filter the data\u001b[0m\u001b[1;33m\u001b[0m\u001b[1;33m\u001b[0m\u001b[0m\n\u001b[0;32m      3\u001b[0m \u001b[1;31m# t1[ element position<0-(n-1)     ]\u001b[0m\u001b[1;33m\u001b[0m\u001b[1;33m\u001b[0m\u001b[0m\n\u001b[1;32m----> 4\u001b[1;33m \u001b[0mt1\u001b[0m\u001b[1;33m[\u001b[0m\u001b[1;36m1\u001b[0m\u001b[1;33m]\u001b[0m \u001b[1;33m=\u001b[0m \u001b[1;36m999\u001b[0m\u001b[1;33m\u001b[0m\u001b[0m\n\u001b[0m",
      "\u001b[1;31mTypeError\u001b[0m: 'tuple' object does not support item assignment"
     ]
    }
   ],
   "source": [
    "# Indexing - its feature in Python and R with the help \n",
    "#    of which we can slice, dice, filter the data\n",
    "# t1[ element position<0-(n-1)     ]\n",
    "t1[1] = 999"
   ]
  },
  {
   "cell_type": "code",
   "execution_count": 51,
   "metadata": {},
   "outputs": [
    {
     "ename": "NameError",
     "evalue": "name 'L1' is not defined",
     "output_type": "error",
     "traceback": [
      "\u001b[1;31m---------------------------------------------------------------------------\u001b[0m",
      "\u001b[1;31mNameError\u001b[0m                                 Traceback (most recent call last)",
      "\u001b[1;32m<ipython-input-51-6c89d7ccbfd5>\u001b[0m in \u001b[0;36m<module>\u001b[1;34m()\u001b[0m\n\u001b[0;32m      2\u001b[0m \u001b[0ml1\u001b[0m \u001b[1;33m=\u001b[0m \u001b[1;33m[\u001b[0m\u001b[1;36m12\u001b[0m\u001b[1;33m,\u001b[0m\u001b[1;36m34\u001b[0m\u001b[1;33m,\u001b[0m\u001b[1;36m4\u001b[0m\u001b[1;33m,\u001b[0m\u001b[1;36m556\u001b[0m\u001b[1;33m,\u001b[0m\u001b[1;36m67\u001b[0m\u001b[1;33m,\u001b[0m\u001b[1;34m\"a\"\u001b[0m\u001b[1;33m]\u001b[0m\u001b[1;33m\u001b[0m\u001b[0m\n\u001b[0;32m      3\u001b[0m \u001b[0ml1\u001b[0m\u001b[1;33m\u001b[0m\u001b[0m\n\u001b[1;32m----> 4\u001b[1;33m \u001b[0mL1\u001b[0m\u001b[1;33m\u001b[0m\u001b[0m\n\u001b[0m",
      "\u001b[1;31mNameError\u001b[0m: name 'L1' is not defined"
     ]
    }
   ],
   "source": [
    "# list: [] | mutable - can be changes\n",
    "l1 = [12,34,4,556,67,\"a\"]\n",
    "l1\n"
   ]
  },
  {
   "cell_type": "code",
   "execution_count": 49,
   "metadata": {},
   "outputs": [
    {
     "data": {
      "text/plain": [
       "[12, 34, 999, 556, 67, 'a']"
      ]
     },
     "execution_count": 49,
     "metadata": {},
     "output_type": "execute_result"
    }
   ],
   "source": [
    "l1[2] = 999\n",
    "l1"
   ]
  },
  {
   "cell_type": "code",
   "execution_count": 52,
   "metadata": {},
   "outputs": [
    {
     "data": {
      "text/plain": [
       "{12, 34, 55, 66, 77, 89}"
      ]
     },
     "execution_count": 52,
     "metadata": {},
     "output_type": "execute_result"
    }
   ],
   "source": [
    "# SET : {} | this is ordered, unique DS (SET Theory)\n",
    "# This is used to handle the data from two different DS\n",
    "s1 = {12,34,55,66,77,89,12,34}\n",
    "s1"
   ]
  },
  {
   "cell_type": "code",
   "execution_count": 56,
   "metadata": {},
   "outputs": [
    {
     "data": {
      "text/plain": [
       "{'ename': ['rahul', 'Ram', 'Shyam']}"
      ]
     },
     "execution_count": 56,
     "metadata": {},
     "output_type": "execute_result"
    }
   ],
   "source": [
    "# Dictionary : DS with the combination of Key | Values\n",
    "dict1 = {'ename': 'rahul'}\n",
    "\n",
    "\n",
    "\n",
    "dict2 = {'ename': ['rahul','Ram','Shyam']}\n",
    "dict2"
   ]
  },
  {
   "cell_type": "code",
   "execution_count": 73,
   "metadata": {},
   "outputs": [],
   "source": [
    "x = 8\n",
    "y = 10\n",
    "z = 10.5\n",
    "c = 5+10j\n",
    "s1 = \"mango\"\n",
    "s2 = 'banana'"
   ]
  },
  {
   "cell_type": "code",
   "execution_count": 69,
   "metadata": {},
   "outputs": [
    {
     "data": {
      "text/plain": [
       "'MANGO'"
      ]
     },
     "execution_count": 69,
     "metadata": {},
     "output_type": "execute_result"
    }
   ],
   "source": [
    "s.upper()"
   ]
  },
  {
   "cell_type": "code",
   "execution_count": 72,
   "metadata": {},
   "outputs": [
    {
     "data": {
      "text/plain": [
       "5.0"
      ]
     },
     "execution_count": 72,
     "metadata": {},
     "output_type": "execute_result"
    }
   ],
   "source": [
    "c.real"
   ]
  },
  {
   "cell_type": "code",
   "execution_count": 74,
   "metadata": {},
   "outputs": [
    {
     "name": "stdout",
     "output_type": "stream",
     "text": [
      "['__add__', '__class__', '__contains__', '__delattr__', '__dir__', '__doc__', '__eq__', '__format__', '__ge__', '__getattribute__', '__getitem__', '__getnewargs__', '__gt__', '__hash__', '__init__', '__init_subclass__', '__iter__', '__le__', '__len__', '__lt__', '__mod__', '__mul__', '__ne__', '__new__', '__reduce__', '__reduce_ex__', '__repr__', '__rmod__', '__rmul__', '__setattr__', '__sizeof__', '__str__', '__subclasshook__', 'capitalize', 'casefold', 'center', 'count', 'encode', 'endswith', 'expandtabs', 'find', 'format', 'format_map', 'index', 'isalnum', 'isalpha', 'isdecimal', 'isdigit', 'isidentifier', 'islower', 'isnumeric', 'isprintable', 'isspace', 'istitle', 'isupper', 'join', 'ljust', 'lower', 'lstrip', 'maketrans', 'partition', 'replace', 'rfind', 'rindex', 'rjust', 'rpartition', 'rsplit', 'rstrip', 'split', 'splitlines', 'startswith', 'strip', 'swapcase', 'title', 'translate', 'upper', 'zfill']\n"
     ]
    }
   ],
   "source": [
    "print(dir(s1))"
   ]
  },
  {
   "cell_type": "code",
   "execution_count": 75,
   "metadata": {},
   "outputs": [
    {
     "name": "stdout",
     "output_type": "stream",
     "text": [
      "['__add__', '__class__', '__contains__', '__delattr__', '__dir__', '__doc__', '__eq__', '__format__', '__ge__', '__getattribute__', '__getitem__', '__getnewargs__', '__gt__', '__hash__', '__init__', '__init_subclass__', '__iter__', '__le__', '__len__', '__lt__', '__mod__', '__mul__', '__ne__', '__new__', '__reduce__', '__reduce_ex__', '__repr__', '__rmod__', '__rmul__', '__setattr__', '__sizeof__', '__str__', '__subclasshook__', 'capitalize', 'casefold', 'center', 'count', 'encode', 'endswith', 'expandtabs', 'find', 'format', 'format_map', 'index', 'isalnum', 'isalpha', 'isdecimal', 'isdigit', 'isidentifier', 'islower', 'isnumeric', 'isprintable', 'isspace', 'istitle', 'isupper', 'join', 'ljust', 'lower', 'lstrip', 'maketrans', 'partition', 'replace', 'rfind', 'rindex', 'rjust', 'rpartition', 'rsplit', 'rstrip', 'split', 'splitlines', 'startswith', 'strip', 'swapcase', 'title', 'translate', 'upper', 'zfill']\n"
     ]
    }
   ],
   "source": [
    "print(dir(s2))"
   ]
  },
  {
   "cell_type": "code",
   "execution_count": null,
   "metadata": {},
   "outputs": [],
   "source": [
    "t1\n",
    "l1\n",
    "s1\n",
    "dict1"
   ]
  },
  {
   "cell_type": "code",
   "execution_count": 85,
   "metadata": {},
   "outputs": [],
   "source": [
    "l1.insert(3,99999)"
   ]
  },
  {
   "cell_type": "code",
   "execution_count": 89,
   "metadata": {},
   "outputs": [
    {
     "name": "stdout",
     "output_type": "stream",
     "text": [
      "['__class__', '__contains__', '__delattr__', '__delitem__', '__dir__', '__doc__', '__eq__', '__format__', '__ge__', '__getattribute__', '__getitem__', '__gt__', '__hash__', '__init__', '__init_subclass__', '__iter__', '__le__', '__len__', '__lt__', '__ne__', '__new__', '__reduce__', '__reduce_ex__', '__repr__', '__setattr__', '__setitem__', '__sizeof__', '__str__', '__subclasshook__', 'clear', 'copy', 'fromkeys', 'get', 'items', 'keys', 'pop', 'popitem', 'setdefault', 'update', 'values']\n"
     ]
    }
   ],
   "source": [
    "print(dir(dict1))"
   ]
  },
  {
   "cell_type": "markdown",
   "metadata": {},
   "source": [
    "#### Packages | libraries"
   ]
  },
  {
   "cell_type": "code",
   "execution_count": 90,
   "metadata": {},
   "outputs": [],
   "source": [
    "import pandas as pd"
   ]
  },
  {
   "cell_type": "code",
   "execution_count": 91,
   "metadata": {},
   "outputs": [],
   "source": [
    "hr = pd.read_csv(\"C:\\\\Users\\\\aagarwal\\\\Desktop\\\\DataSetsR\\\\Human Resource_employees2.csv\")"
   ]
  },
  {
   "cell_type": "code",
   "execution_count": 94,
   "metadata": {},
   "outputs": [],
   "source": [
    "df1 = pd.read_excel(\"C:\\\\Users\\\\aagarwal\\\\Desktop\\\\DataSetsR\\\\Sample - Superstore.xls\", header=0)"
   ]
  },
  {
   "cell_type": "code",
   "execution_count": 97,
   "metadata": {},
   "outputs": [],
   "source": [
    "df2 = pd.read_excel(\"C:\\\\Users\\\\aagarwal\\\\Desktop\\\\DataSetsR\\\\Sample - Superstore.xls\", header=1)"
   ]
  },
  {
   "cell_type": "code",
   "execution_count": 110,
   "metadata": {},
   "outputs": [],
   "source": [
    "l1 = [12, 34, 4, 99999, 556, 67,\"a\"]\n",
    "\n",
    "ser1 = pd.Series(l1)\n",
    "\n",
    "\n",
    "\n",
    "l2 = [12, 34, 4, 99999, 556, 67]\n",
    "\n",
    "ser2 = pd.Series(l2)"
   ]
  },
  {
   "cell_type": "code",
   "execution_count": 108,
   "metadata": {},
   "outputs": [
    {
     "data": {
      "text/plain": [
       "pandas.core.series.Series"
      ]
     },
     "execution_count": 108,
     "metadata": {},
     "output_type": "execute_result"
    }
   ],
   "source": [
    "type(ser1)"
   ]
  },
  {
   "cell_type": "code",
   "execution_count": 112,
   "metadata": {},
   "outputs": [
    {
     "data": {
      "text/plain": [
       "0       12\n",
       "1       34\n",
       "2        4\n",
       "3    99999\n",
       "4      556\n",
       "5       67\n",
       "6        a\n",
       "dtype: object"
      ]
     },
     "execution_count": 112,
     "metadata": {},
     "output_type": "execute_result"
    }
   ],
   "source": [
    "ser1"
   ]
  },
  {
   "cell_type": "code",
   "execution_count": 113,
   "metadata": {},
   "outputs": [],
   "source": [
    "import numpy as np"
   ]
  },
  {
   "cell_type": "code",
   "execution_count": 60,
   "metadata": {},
   "outputs": [],
   "source": [
    "import pandas as pd"
   ]
  },
  {
   "cell_type": "code",
   "execution_count": 4,
   "metadata": {},
   "outputs": [
    {
     "data": {
      "text/plain": [
       "pandas.core.series.Series"
      ]
     },
     "execution_count": 4,
     "metadata": {},
     "output_type": "execute_result"
    }
   ],
   "source": [
    "# pd.read_csv Sheetname argument will not be there ofcourse\n",
    "# pd.read_excel | sheetname\n",
    "type(hr.DESIGNATION)"
   ]
  },
  {
   "cell_type": "code",
   "execution_count": 10,
   "metadata": {},
   "outputs": [],
   "source": [
    "hr = pd.read_csv(\"C:\\\\Users\\\\aagarwal\\\\Desktop\\\\DataSetsR\\\\Human Resource_employees2.csv\")"
   ]
  },
  {
   "cell_type": "code",
   "execution_count": 14,
   "metadata": {},
   "outputs": [
    {
     "data": {
      "text/plain": [
       "float64    4\n",
       "int64      2\n",
       "object     7\n",
       "dtype: int64"
      ]
     },
     "execution_count": 14,
     "metadata": {},
     "output_type": "execute_result"
    }
   ],
   "source": [
    "# EDA - Understanding the data.\n",
    "# All those activites with the help of which I can understand the data in detail:\n",
    "    \n",
    "hr.shape\n",
    "hr.columns\n",
    "hr.head()\n",
    "hr.tail()\n",
    "hr.info()\n",
    "hr.describe()\n",
    "hr.describe().T\n",
    "hr.get_dtype_counts()\n",
    "\n",
    "hr.DESIGNATION.clip_upper? Google | stackoverflow\n",
    "\n",
    "# ....... look for the other relative funtionalities so that you can understand the data further..."
   ]
  },
  {
   "cell_type": "code",
   "execution_count": 17,
   "metadata": {},
   "outputs": [
    {
     "data": {
      "text/plain": [
       "0      Analyst\n",
       "1    Associate\n",
       "2      Analyst\n",
       "3      Analyst\n",
       "4      Analyst\n",
       "Name: DESIGNATION, dtype: object"
      ]
     },
     "execution_count": 17,
     "metadata": {},
     "output_type": "execute_result"
    }
   ],
   "source": [
    "# Data manipulations\n",
    "\n",
    "# How to access the data\n",
    "hr.DESIGNATION.head()\n",
    "\n",
    "# Indexing concept on Dataset - 2D Object [<Row level conditional> , <Column level> ]"
   ]
  },
  {
   "cell_type": "code",
   "execution_count": 29,
   "metadata": {},
   "outputs": [
    {
     "data": {
      "text/plain": [
       "Index(['FIRST NAME', 'LAST NAME', 'SEX', 'DOJ', 'CURRENT DATE', 'DESIGNATION',\n",
       "       'AGE', 'SALARY', 'UNIT', 'LEAVES USED', 'LEAVES REMAINING', 'RATINGS',\n",
       "       'PAST EXP'],\n",
       "      dtype='object')"
      ]
     },
     "execution_count": 29,
     "metadata": {},
     "output_type": "execute_result"
    }
   ],
   "source": [
    "hr.columns"
   ]
  },
  {
   "cell_type": "code",
   "execution_count": 30,
   "metadata": {},
   "outputs": [
    {
     "data": {
      "text/html": [
       "<div>\n",
       "<style scoped>\n",
       "    .dataframe tbody tr th:only-of-type {\n",
       "        vertical-align: middle;\n",
       "    }\n",
       "\n",
       "    .dataframe tbody tr th {\n",
       "        vertical-align: top;\n",
       "    }\n",
       "\n",
       "    .dataframe thead th {\n",
       "        text-align: right;\n",
       "    }\n",
       "</style>\n",
       "<table border=\"1\" class=\"dataframe\">\n",
       "  <thead>\n",
       "    <tr style=\"text-align: right;\">\n",
       "      <th></th>\n",
       "      <th>FIRST NAME</th>\n",
       "      <th>DESIGNATION</th>\n",
       "      <th>SALARY</th>\n",
       "    </tr>\n",
       "  </thead>\n",
       "  <tbody>\n",
       "    <tr>\n",
       "      <th>0</th>\n",
       "      <td>TOMASA</td>\n",
       "      <td>Analyst</td>\n",
       "      <td>44570</td>\n",
       "    </tr>\n",
       "    <tr>\n",
       "      <th>2</th>\n",
       "      <td>OLIVE</td>\n",
       "      <td>Analyst</td>\n",
       "      <td>40955</td>\n",
       "    </tr>\n",
       "    <tr>\n",
       "      <th>3</th>\n",
       "      <td>CHERRY</td>\n",
       "      <td>Analyst</td>\n",
       "      <td>45550</td>\n",
       "    </tr>\n",
       "    <tr>\n",
       "      <th>4</th>\n",
       "      <td>LEON</td>\n",
       "      <td>Analyst</td>\n",
       "      <td>43161</td>\n",
       "    </tr>\n",
       "    <tr>\n",
       "      <th>5</th>\n",
       "      <td>VICTORIA</td>\n",
       "      <td>Analyst</td>\n",
       "      <td>48736</td>\n",
       "    </tr>\n",
       "    <tr>\n",
       "      <th>6</th>\n",
       "      <td>ELLIOT</td>\n",
       "      <td>Analyst</td>\n",
       "      <td>40339</td>\n",
       "    </tr>\n",
       "    <tr>\n",
       "      <th>7</th>\n",
       "      <td>JACQUES</td>\n",
       "      <td>Analyst</td>\n",
       "      <td>40058</td>\n",
       "    </tr>\n",
       "    <tr>\n",
       "      <th>9</th>\n",
       "      <td>LILIAN</td>\n",
       "      <td>Analyst</td>\n",
       "      <td>43110</td>\n",
       "    </tr>\n",
       "    <tr>\n",
       "      <th>10</th>\n",
       "      <td>BELLE</td>\n",
       "      <td>Analyst</td>\n",
       "      <td>41590</td>\n",
       "    </tr>\n",
       "    <tr>\n",
       "      <th>12</th>\n",
       "      <td>WELDON</td>\n",
       "      <td>Analyst</td>\n",
       "      <td>44828</td>\n",
       "    </tr>\n",
       "    <tr>\n",
       "      <th>13</th>\n",
       "      <td>BOYD</td>\n",
       "      <td>Analyst</td>\n",
       "      <td>45830</td>\n",
       "    </tr>\n",
       "    <tr>\n",
       "      <th>14</th>\n",
       "      <td>BART</td>\n",
       "      <td>Analyst</td>\n",
       "      <td>43457</td>\n",
       "    </tr>\n",
       "    <tr>\n",
       "      <th>15</th>\n",
       "      <td>CORINNE</td>\n",
       "      <td>Analyst</td>\n",
       "      <td>44812</td>\n",
       "    </tr>\n",
       "    <tr>\n",
       "      <th>16</th>\n",
       "      <td>ALONZO</td>\n",
       "      <td>Analyst</td>\n",
       "      <td>47636</td>\n",
       "    </tr>\n",
       "    <tr>\n",
       "      <th>17</th>\n",
       "      <td>ROYCE</td>\n",
       "      <td>Analyst</td>\n",
       "      <td>48651</td>\n",
       "    </tr>\n",
       "    <tr>\n",
       "      <th>18</th>\n",
       "      <td>BURTON</td>\n",
       "      <td>Analyst</td>\n",
       "      <td>40411</td>\n",
       "    </tr>\n",
       "    <tr>\n",
       "      <th>19</th>\n",
       "      <td>PHILLIP</td>\n",
       "      <td>Analyst</td>\n",
       "      <td>44665</td>\n",
       "    </tr>\n",
       "    <tr>\n",
       "      <th>20</th>\n",
       "      <td>ORVILLE</td>\n",
       "      <td>Analyst</td>\n",
       "      <td>46941</td>\n",
       "    </tr>\n",
       "    <tr>\n",
       "      <th>21</th>\n",
       "      <td>KORY</td>\n",
       "      <td>Analyst</td>\n",
       "      <td>47734</td>\n",
       "    </tr>\n",
       "    <tr>\n",
       "      <th>22</th>\n",
       "      <td>NETTIE</td>\n",
       "      <td>Analyst</td>\n",
       "      <td>40541</td>\n",
       "    </tr>\n",
       "    <tr>\n",
       "      <th>23</th>\n",
       "      <td>WENDI</td>\n",
       "      <td>Analyst</td>\n",
       "      <td>43920</td>\n",
       "    </tr>\n",
       "    <tr>\n",
       "      <th>24</th>\n",
       "      <td>BRENT</td>\n",
       "      <td>Analyst</td>\n",
       "      <td>45832</td>\n",
       "    </tr>\n",
       "    <tr>\n",
       "      <th>25</th>\n",
       "      <td>HARRIETTE</td>\n",
       "      <td>Analyst</td>\n",
       "      <td>48102</td>\n",
       "    </tr>\n",
       "    <tr>\n",
       "      <th>26</th>\n",
       "      <td>GARLAND</td>\n",
       "      <td>Analyst</td>\n",
       "      <td>48662</td>\n",
       "    </tr>\n",
       "    <tr>\n",
       "      <th>27</th>\n",
       "      <td>OSWALDO</td>\n",
       "      <td>Analyst</td>\n",
       "      <td>49685</td>\n",
       "    </tr>\n",
       "    <tr>\n",
       "      <th>29</th>\n",
       "      <td>ROXANNE</td>\n",
       "      <td>Analyst</td>\n",
       "      <td>45410</td>\n",
       "    </tr>\n",
       "    <tr>\n",
       "      <th>30</th>\n",
       "      <td>CLAUD</td>\n",
       "      <td>Analyst</td>\n",
       "      <td>43030</td>\n",
       "    </tr>\n",
       "    <tr>\n",
       "      <th>31</th>\n",
       "      <td>MARIANNA</td>\n",
       "      <td>Analyst</td>\n",
       "      <td>42388</td>\n",
       "    </tr>\n",
       "    <tr>\n",
       "      <th>34</th>\n",
       "      <td>TORI</td>\n",
       "      <td>Analyst</td>\n",
       "      <td>47008</td>\n",
       "    </tr>\n",
       "    <tr>\n",
       "      <th>35</th>\n",
       "      <td>KELLEY</td>\n",
       "      <td>Analyst</td>\n",
       "      <td>49898</td>\n",
       "    </tr>\n",
       "    <tr>\n",
       "      <th>...</th>\n",
       "      <td>...</td>\n",
       "      <td>...</td>\n",
       "      <td>...</td>\n",
       "    </tr>\n",
       "    <tr>\n",
       "      <th>2602</th>\n",
       "      <td>CLARK</td>\n",
       "      <td>Analyst</td>\n",
       "      <td>41222</td>\n",
       "    </tr>\n",
       "    <tr>\n",
       "      <th>2604</th>\n",
       "      <td>ALTHEA</td>\n",
       "      <td>Analyst</td>\n",
       "      <td>42250</td>\n",
       "    </tr>\n",
       "    <tr>\n",
       "      <th>2605</th>\n",
       "      <td>KYLIE</td>\n",
       "      <td>Analyst</td>\n",
       "      <td>49075</td>\n",
       "    </tr>\n",
       "    <tr>\n",
       "      <th>2606</th>\n",
       "      <td>TERRANCE</td>\n",
       "      <td>Analyst</td>\n",
       "      <td>49217</td>\n",
       "    </tr>\n",
       "    <tr>\n",
       "      <th>2609</th>\n",
       "      <td>ANTONIO</td>\n",
       "      <td>Analyst</td>\n",
       "      <td>43228</td>\n",
       "    </tr>\n",
       "    <tr>\n",
       "      <th>2612</th>\n",
       "      <td>MAMIE</td>\n",
       "      <td>Analyst</td>\n",
       "      <td>46432</td>\n",
       "    </tr>\n",
       "    <tr>\n",
       "      <th>2613</th>\n",
       "      <td>DINAH</td>\n",
       "      <td>Analyst</td>\n",
       "      <td>44599</td>\n",
       "    </tr>\n",
       "    <tr>\n",
       "      <th>2614</th>\n",
       "      <td>KELLIE</td>\n",
       "      <td>Analyst</td>\n",
       "      <td>42418</td>\n",
       "    </tr>\n",
       "    <tr>\n",
       "      <th>2615</th>\n",
       "      <td>LINA</td>\n",
       "      <td>Analyst</td>\n",
       "      <td>41498</td>\n",
       "    </tr>\n",
       "    <tr>\n",
       "      <th>2616</th>\n",
       "      <td>WINIFRED</td>\n",
       "      <td>Analyst</td>\n",
       "      <td>41515</td>\n",
       "    </tr>\n",
       "    <tr>\n",
       "      <th>2617</th>\n",
       "      <td>JEANNA</td>\n",
       "      <td>Analyst</td>\n",
       "      <td>48541</td>\n",
       "    </tr>\n",
       "    <tr>\n",
       "      <th>2619</th>\n",
       "      <td>KENDRA</td>\n",
       "      <td>Analyst</td>\n",
       "      <td>44676</td>\n",
       "    </tr>\n",
       "    <tr>\n",
       "      <th>2620</th>\n",
       "      <td>MOLLY</td>\n",
       "      <td>Analyst</td>\n",
       "      <td>41378</td>\n",
       "    </tr>\n",
       "    <tr>\n",
       "      <th>2621</th>\n",
       "      <td>PATRICIA</td>\n",
       "      <td>Analyst</td>\n",
       "      <td>42369</td>\n",
       "    </tr>\n",
       "    <tr>\n",
       "      <th>2622</th>\n",
       "      <td>AUDRA</td>\n",
       "      <td>Analyst</td>\n",
       "      <td>42662</td>\n",
       "    </tr>\n",
       "    <tr>\n",
       "      <th>2623</th>\n",
       "      <td>JC</td>\n",
       "      <td>Analyst</td>\n",
       "      <td>41760</td>\n",
       "    </tr>\n",
       "    <tr>\n",
       "      <th>2624</th>\n",
       "      <td>JOSPEH</td>\n",
       "      <td>Analyst</td>\n",
       "      <td>45364</td>\n",
       "    </tr>\n",
       "    <tr>\n",
       "      <th>2625</th>\n",
       "      <td>FRANCES</td>\n",
       "      <td>Analyst</td>\n",
       "      <td>49892</td>\n",
       "    </tr>\n",
       "    <tr>\n",
       "      <th>2626</th>\n",
       "      <td>LEE</td>\n",
       "      <td>Analyst</td>\n",
       "      <td>49617</td>\n",
       "    </tr>\n",
       "    <tr>\n",
       "      <th>2627</th>\n",
       "      <td>ROBYN</td>\n",
       "      <td>Analyst</td>\n",
       "      <td>42877</td>\n",
       "    </tr>\n",
       "    <tr>\n",
       "      <th>2628</th>\n",
       "      <td>DREW</td>\n",
       "      <td>Analyst</td>\n",
       "      <td>48866</td>\n",
       "    </tr>\n",
       "    <tr>\n",
       "      <th>2629</th>\n",
       "      <td>RICKIE</td>\n",
       "      <td>Analyst</td>\n",
       "      <td>47849</td>\n",
       "    </tr>\n",
       "    <tr>\n",
       "      <th>2630</th>\n",
       "      <td>ELVIA</td>\n",
       "      <td>Analyst</td>\n",
       "      <td>44424</td>\n",
       "    </tr>\n",
       "    <tr>\n",
       "      <th>2631</th>\n",
       "      <td>BILLY</td>\n",
       "      <td>Analyst</td>\n",
       "      <td>43884</td>\n",
       "    </tr>\n",
       "    <tr>\n",
       "      <th>2632</th>\n",
       "      <td>MARLENE</td>\n",
       "      <td>Analyst</td>\n",
       "      <td>43835</td>\n",
       "    </tr>\n",
       "    <tr>\n",
       "      <th>2633</th>\n",
       "      <td>ALENE</td>\n",
       "      <td>Analyst</td>\n",
       "      <td>40277</td>\n",
       "    </tr>\n",
       "    <tr>\n",
       "      <th>2635</th>\n",
       "      <td>LOUISE</td>\n",
       "      <td>Analyst</td>\n",
       "      <td>45758</td>\n",
       "    </tr>\n",
       "    <tr>\n",
       "      <th>2636</th>\n",
       "      <td>RENEE</td>\n",
       "      <td>Analyst</td>\n",
       "      <td>47315</td>\n",
       "    </tr>\n",
       "    <tr>\n",
       "      <th>2637</th>\n",
       "      <td>TERI</td>\n",
       "      <td>Analyst</td>\n",
       "      <td>45172</td>\n",
       "    </tr>\n",
       "    <tr>\n",
       "      <th>2638</th>\n",
       "      <td>GREGORY</td>\n",
       "      <td>Analyst</td>\n",
       "      <td>49176</td>\n",
       "    </tr>\n",
       "  </tbody>\n",
       "</table>\n",
       "<p>1949 rows × 3 columns</p>\n",
       "</div>"
      ],
      "text/plain": [
       "     FIRST NAME DESIGNATION  SALARY\n",
       "0        TOMASA     Analyst   44570\n",
       "2         OLIVE     Analyst   40955\n",
       "3        CHERRY     Analyst   45550\n",
       "4          LEON     Analyst   43161\n",
       "5      VICTORIA     Analyst   48736\n",
       "6        ELLIOT     Analyst   40339\n",
       "7       JACQUES     Analyst   40058\n",
       "9        LILIAN     Analyst   43110\n",
       "10        BELLE     Analyst   41590\n",
       "12       WELDON     Analyst   44828\n",
       "13         BOYD     Analyst   45830\n",
       "14         BART     Analyst   43457\n",
       "15      CORINNE     Analyst   44812\n",
       "16       ALONZO     Analyst   47636\n",
       "17        ROYCE     Analyst   48651\n",
       "18       BURTON     Analyst   40411\n",
       "19      PHILLIP     Analyst   44665\n",
       "20      ORVILLE     Analyst   46941\n",
       "21         KORY     Analyst   47734\n",
       "22       NETTIE     Analyst   40541\n",
       "23        WENDI     Analyst   43920\n",
       "24        BRENT     Analyst   45832\n",
       "25    HARRIETTE     Analyst   48102\n",
       "26      GARLAND     Analyst   48662\n",
       "27      OSWALDO     Analyst   49685\n",
       "29      ROXANNE     Analyst   45410\n",
       "30        CLAUD     Analyst   43030\n",
       "31     MARIANNA     Analyst   42388\n",
       "34         TORI     Analyst   47008\n",
       "35       KELLEY     Analyst   49898\n",
       "...         ...         ...     ...\n",
       "2602      CLARK     Analyst   41222\n",
       "2604     ALTHEA     Analyst   42250\n",
       "2605      KYLIE     Analyst   49075\n",
       "2606   TERRANCE     Analyst   49217\n",
       "2609    ANTONIO     Analyst   43228\n",
       "2612      MAMIE     Analyst   46432\n",
       "2613      DINAH     Analyst   44599\n",
       "2614     KELLIE     Analyst   42418\n",
       "2615       LINA     Analyst   41498\n",
       "2616   WINIFRED     Analyst   41515\n",
       "2617     JEANNA     Analyst   48541\n",
       "2619     KENDRA     Analyst   44676\n",
       "2620      MOLLY     Analyst   41378\n",
       "2621   PATRICIA     Analyst   42369\n",
       "2622      AUDRA     Analyst   42662\n",
       "2623         JC     Analyst   41760\n",
       "2624     JOSPEH     Analyst   45364\n",
       "2625    FRANCES     Analyst   49892\n",
       "2626        LEE     Analyst   49617\n",
       "2627      ROBYN     Analyst   42877\n",
       "2628       DREW     Analyst   48866\n",
       "2629     RICKIE     Analyst   47849\n",
       "2630      ELVIA     Analyst   44424\n",
       "2631      BILLY     Analyst   43884\n",
       "2632    MARLENE     Analyst   43835\n",
       "2633      ALENE     Analyst   40277\n",
       "2635     LOUISE     Analyst   45758\n",
       "2636      RENEE     Analyst   47315\n",
       "2637       TERI     Analyst   45172\n",
       "2638    GREGORY     Analyst   49176\n",
       "\n",
       "[1949 rows x 3 columns]"
      ]
     },
     "execution_count": 30,
     "metadata": {},
     "output_type": "execute_result"
    }
   ],
   "source": [
    "\n",
    "hr.loc[ hr.DESIGNATION==\"Analyst\"  , [\"FIRST NAME\",\"DESIGNATION\", \"SALARY\"]    ]"
   ]
  },
  {
   "cell_type": "code",
   "execution_count": 21,
   "metadata": {},
   "outputs": [],
   "source": [
    "l2 = [12, 34, 4, 99,29,9, 5,56, 67]\n",
    "\n",
    "ser2 = pd.Series(l2)\n",
    "ser3 = pd.Series(l2, index =(\"a\",\"b\",\"c\",\"d\",\"e\",\"f\",\"g\",\"h\",\"i\"))"
   ]
  },
  {
   "cell_type": "code",
   "execution_count": 28,
   "metadata": {},
   "outputs": [
    {
     "data": {
      "text/plain": [
       "d    99\n",
       "h    56\n",
       "i    67\n",
       "dtype: int64"
      ]
     },
     "execution_count": 28,
     "metadata": {},
     "output_type": "execute_result"
    }
   ],
   "source": [
    "ser3.loc[\"d\"]\n",
    "ser3>50\n",
    "\n",
    "ser3.loc[ser3>50]"
   ]
  },
  {
   "cell_type": "code",
   "execution_count": 19,
   "metadata": {},
   "outputs": [
    {
     "data": {
      "text/plain": [
       "0    12\n",
       "1    34\n",
       "2     4\n",
       "3    99\n",
       "4    29\n",
       "5     9\n",
       "6     5\n",
       "7    56\n",
       "8    67\n",
       "dtype: int64"
      ]
     },
     "execution_count": 19,
     "metadata": {},
     "output_type": "execute_result"
    }
   ],
   "source": [
    "ilocs - actual indexing - 0 -n-1 default\n",
    "ser2"
   ]
  },
  {
   "cell_type": "code",
   "execution_count": 36,
   "metadata": {},
   "outputs": [],
   "source": [
    "# How to add a new column\n",
    "\n",
    "# hr.dummy = \"Check\"\n",
    "\n",
    "#1st - Method \n",
    "hr[\"Dummy\"] = \"Check\"\n",
    "\n",
    "#2nd Method\n",
    "hr = hr.assign(TAX = hr.SALARY *.10)\n",
    "\n",
    "hr.head(2)\n",
    "\n",
    "hr.assign?\n"
   ]
  },
  {
   "cell_type": "code",
   "execution_count": 39,
   "metadata": {},
   "outputs": [
    {
     "data": {
      "text/plain": [
       "Index(['FIRST NAME', 'LAST NAME', 'SEX', 'DOJ', 'CURRENT DATE', 'DESIGNATION',\n",
       "       'AGE', 'SALARY', 'UNIT', 'LEAVES USED', 'LEAVES REMAINING', 'RATINGS',\n",
       "       'PAST EXP', 'Dummy', 'TAX'],\n",
       "      dtype='object')"
      ]
     },
     "execution_count": 39,
     "metadata": {},
     "output_type": "execute_result"
    }
   ],
   "source": [
    "hr.columns"
   ]
  },
  {
   "cell_type": "code",
   "execution_count": 41,
   "metadata": {},
   "outputs": [
    {
     "data": {
      "text/html": [
       "<div>\n",
       "<style scoped>\n",
       "    .dataframe tbody tr th:only-of-type {\n",
       "        vertical-align: middle;\n",
       "    }\n",
       "\n",
       "    .dataframe tbody tr th {\n",
       "        vertical-align: top;\n",
       "    }\n",
       "\n",
       "    .dataframe thead th {\n",
       "        text-align: right;\n",
       "    }\n",
       "</style>\n",
       "<table border=\"1\" class=\"dataframe\">\n",
       "  <thead>\n",
       "    <tr style=\"text-align: right;\">\n",
       "      <th></th>\n",
       "      <th>FIRST NAME</th>\n",
       "      <th>LAST NAME</th>\n",
       "      <th>SEX</th>\n",
       "    </tr>\n",
       "  </thead>\n",
       "  <tbody>\n",
       "    <tr>\n",
       "      <th>0</th>\n",
       "      <td>TOMASA</td>\n",
       "      <td>ARMEN</td>\n",
       "      <td>F</td>\n",
       "    </tr>\n",
       "    <tr>\n",
       "      <th>1</th>\n",
       "      <td>ANNIE</td>\n",
       "      <td>NaN</td>\n",
       "      <td>F</td>\n",
       "    </tr>\n",
       "  </tbody>\n",
       "</table>\n",
       "</div>"
      ],
      "text/plain": [
       "  FIRST NAME LAST NAME SEX\n",
       "0     TOMASA     ARMEN   F\n",
       "1      ANNIE       NaN   F"
      ]
     },
     "execution_count": 41,
     "metadata": {},
     "output_type": "execute_result"
    }
   ],
   "source": [
    "# Subsetting the columns : []\n",
    "hr1 = hr[[\"FIRST NAME\",\"LAST NAME\",\"SEX\"]]     \n",
    "hr1.head(2)    \n",
    "\n",
    "# drop or delete the columns "
   ]
  },
  {
   "cell_type": "code",
   "execution_count": null,
   "metadata": {},
   "outputs": [],
   "source": [
    "# Deleting the Variables\n",
    "\n",
    "#1 \n",
    "#hr = hr.drop(columns = [\"Dummy1\",\"Dummy_str\",\"TAX\"])\n",
    "\n",
    "#hr = stores.drop([\"Dummy1\",\"Dummy_str\",\"dummy3\"], axis = 1)\n",
    "\n",
    "# 2\n",
    "\n",
    "del(hr[\"TAX\"])\n",
    "#stores.head(2)"
   ]
  },
  {
   "cell_type": "code",
   "execution_count": null,
   "metadata": {},
   "outputs": [],
   "source": [
    "# stores.loc[rows locs/ conditions , columns names]\n",
    "hr.loc[:,[\"DESGINATION\",\"SALARY\", \"SEX\"]]\n",
    "\n",
    "# stores.iloc[rows indexing , columns indexing]\n",
    "stores.iloc[[0,1,2,10],[0,3,4,5]]\n",
    "stores.iloc[:,[0,3,4,5]]\n",
    "\n",
    "\n",
    "# HW : get a new dataframe created with only Odd rows from teh original dataset"
   ]
  },
  {
   "cell_type": "code",
   "execution_count": 49,
   "metadata": {},
   "outputs": [],
   "source": [
    "#### SORTING  - ORDERING THE DATA INTO ASCENDING OR IN DESCENDING\n",
    "#             ONE OR MORE THE ONE COLUMS\n",
    "    \n",
    "hr.sort_values([\"SALARY\"])    # Ascending \n",
    "\n",
    "dt.sort_values([\"SALES\"], ascending = False)# Ascending \n",
    "\n",
    "dt.sort_values([\"DESIGNATOION\"\"SALES\"], ascending = False)\n",
    "\n",
    "# HW: Find the wasy with the help of which You can get the data sorted in descending on \n",
    "#     DESIGNATION and ascending on SALES"
   ]
  },
  {
   "cell_type": "code",
   "execution_count": 50,
   "metadata": {},
   "outputs": [],
   "source": [
    "# Grouping : \n",
    "# merging | joins\n",
    "# Appending | UNIONS\n",
    "\n",
    "hr.groupby?\n",
    "hr.merge?\n",
    "\n",
    "Data Combination: \n",
    "\n",
    "# my data to be added vertically | merging(SAS| R|Python) | Join(sql) | Vlookup(excel)**\n",
    "# merging : Adding one or more then one column aded from one table to another table\n",
    "#     based on common variable's matched value\n",
    "\n",
    "or\n",
    "horizontally\n",
    "    "
   ]
  },
  {
   "cell_type": "code",
   "execution_count": 1,
   "metadata": {},
   "outputs": [
    {
     "data": {
      "text/plain": [
       "'C:\\\\Users\\\\aagarwal\\\\Desktop\\\\DataSetsR'"
      ]
     },
     "execution_count": 1,
     "metadata": {},
     "output_type": "execute_result"
    }
   ],
   "source": [
    "import os\n",
    "\n",
    "#Creating the Working Directory:\n",
    "os.chdir(\"C:\\\\Users\\\\aagarwal\\\\Desktop\\\\DataSetsR\") #setwd() function of R\n",
    "os.getcwd()# getwd() in R"
   ]
  },
  {
   "cell_type": "code",
   "execution_count": 2,
   "metadata": {},
   "outputs": [],
   "source": [
    "## Merging the data\n",
    "#_______________________________________________________________________________________\n",
    "\n",
    "# Importing the two files LeftR and rightR\n",
    "\n",
    "import pandas as pd\n",
    "\n",
    "LT = pd.read_csv(\"LeftR.csv\")\n",
    "RT = pd.read_csv(\"RightR.csv\")"
   ]
  },
  {
   "cell_type": "code",
   "execution_count": 5,
   "metadata": {},
   "outputs": [],
   "source": [
    "pd.merge?"
   ]
  },
  {
   "cell_type": "code",
   "execution_count": 9,
   "metadata": {},
   "outputs": [
    {
     "data": {
      "text/html": [
       "<div>\n",
       "<style scoped>\n",
       "    .dataframe tbody tr th:only-of-type {\n",
       "        vertical-align: middle;\n",
       "    }\n",
       "\n",
       "    .dataframe tbody tr th {\n",
       "        vertical-align: top;\n",
       "    }\n",
       "\n",
       "    .dataframe thead th {\n",
       "        text-align: right;\n",
       "    }\n",
       "</style>\n",
       "<table border=\"1\" class=\"dataframe\">\n",
       "  <thead>\n",
       "    <tr style=\"text-align: right;\">\n",
       "      <th></th>\n",
       "      <th>ID</th>\n",
       "      <th>Age</th>\n",
       "      <th>C.ID</th>\n",
       "      <th>Addrss</th>\n",
       "    </tr>\n",
       "  </thead>\n",
       "  <tbody>\n",
       "    <tr>\n",
       "      <th>0</th>\n",
       "      <td>C1</td>\n",
       "      <td>A1</td>\n",
       "      <td>C1</td>\n",
       "      <td>Noida</td>\n",
       "    </tr>\n",
       "    <tr>\n",
       "      <th>1</th>\n",
       "      <td>C2</td>\n",
       "      <td>A2</td>\n",
       "      <td>C2</td>\n",
       "      <td>d1</td>\n",
       "    </tr>\n",
       "    <tr>\n",
       "      <th>2</th>\n",
       "      <td>C2</td>\n",
       "      <td>A2</td>\n",
       "      <td>C2</td>\n",
       "      <td>D11</td>\n",
       "    </tr>\n",
       "    <tr>\n",
       "      <th>3</th>\n",
       "      <td>C2</td>\n",
       "      <td>A2</td>\n",
       "      <td>C2</td>\n",
       "      <td>D111</td>\n",
       "    </tr>\n",
       "    <tr>\n",
       "      <th>4</th>\n",
       "      <td>C3</td>\n",
       "      <td>A3</td>\n",
       "      <td>C3</td>\n",
       "      <td>d2</td>\n",
       "    </tr>\n",
       "    <tr>\n",
       "      <th>5</th>\n",
       "      <td>C4</td>\n",
       "      <td>A4</td>\n",
       "      <td>C4</td>\n",
       "      <td>Gurgaon</td>\n",
       "    </tr>\n",
       "    <tr>\n",
       "      <th>6</th>\n",
       "      <td>C5</td>\n",
       "      <td>A5</td>\n",
       "      <td>NaN</td>\n",
       "      <td>NaN</td>\n",
       "    </tr>\n",
       "    <tr>\n",
       "      <th>7</th>\n",
       "      <td>NaN</td>\n",
       "      <td>NaN</td>\n",
       "      <td>C6</td>\n",
       "      <td>Vizag</td>\n",
       "    </tr>\n",
       "  </tbody>\n",
       "</table>\n",
       "</div>"
      ],
      "text/plain": [
       "    ID  Age C.ID   Addrss\n",
       "0   C1   A1   C1    Noida\n",
       "1   C2   A2   C2       d1\n",
       "2   C2   A2   C2      D11\n",
       "3   C2   A2   C2     D111\n",
       "4   C3   A3   C3       d2\n",
       "5   C4   A4   C4  Gurgaon\n",
       "6   C5   A5  NaN      NaN\n",
       "7  NaN  NaN   C6    Vizag"
      ]
     },
     "execution_count": 9,
     "metadata": {},
     "output_type": "execute_result"
    }
   ],
   "source": [
    "pd.merge(left = LT,\n",
    "        right = RT,\n",
    "        left_on=[\"ID\"],\n",
    "        right_on=['C.ID'],\n",
    "         how ='outer'\n",
    "             )"
   ]
  },
  {
   "cell_type": "code",
   "execution_count": 13,
   "metadata": {},
   "outputs": [
    {
     "data": {
      "text/html": [
       "<div>\n",
       "<style scoped>\n",
       "    .dataframe tbody tr th:only-of-type {\n",
       "        vertical-align: middle;\n",
       "    }\n",
       "\n",
       "    .dataframe tbody tr th {\n",
       "        vertical-align: top;\n",
       "    }\n",
       "\n",
       "    .dataframe thead th {\n",
       "        text-align: right;\n",
       "    }\n",
       "</style>\n",
       "<table border=\"1\" class=\"dataframe\">\n",
       "  <thead>\n",
       "    <tr style=\"text-align: right;\">\n",
       "      <th></th>\n",
       "      <th>UNIT</th>\n",
       "      <th>sum</th>\n",
       "      <th>mean</th>\n",
       "    </tr>\n",
       "  </thead>\n",
       "  <tbody>\n",
       "    <tr>\n",
       "      <th>0</th>\n",
       "      <td>Finance</td>\n",
       "      <td>26135199</td>\n",
       "      <td>58599.100897</td>\n",
       "    </tr>\n",
       "    <tr>\n",
       "      <th>1</th>\n",
       "      <td>IT</td>\n",
       "      <td>27198128</td>\n",
       "      <td>58998.108460</td>\n",
       "    </tr>\n",
       "    <tr>\n",
       "      <th>2</th>\n",
       "      <td>Management</td>\n",
       "      <td>25154450</td>\n",
       "      <td>59186.941176</td>\n",
       "    </tr>\n",
       "    <tr>\n",
       "      <th>3</th>\n",
       "      <td>Marketing</td>\n",
       "      <td>25981304</td>\n",
       "      <td>59318.045662</td>\n",
       "    </tr>\n",
       "    <tr>\n",
       "      <th>4</th>\n",
       "      <td>Operations</td>\n",
       "      <td>24299332</td>\n",
       "      <td>55477.926941</td>\n",
       "    </tr>\n",
       "    <tr>\n",
       "      <th>5</th>\n",
       "      <td>Web</td>\n",
       "      <td>24654281</td>\n",
       "      <td>57202.508121</td>\n",
       "    </tr>\n",
       "  </tbody>\n",
       "</table>\n",
       "</div>"
      ],
      "text/plain": [
       "         UNIT       sum          mean\n",
       "0     Finance  26135199  58599.100897\n",
       "1          IT  27198128  58998.108460\n",
       "2  Management  25154450  59186.941176\n",
       "3   Marketing  25981304  59318.045662\n",
       "4  Operations  24299332  55477.926941\n",
       "5         Web  24654281  57202.508121"
      ]
     },
     "execution_count": 13,
     "metadata": {},
     "output_type": "execute_result"
    }
   ],
   "source": [
    "#### Grouping | groupby\n",
    "\n",
    "# hr.groupby('UNIT').SALARY.sum()\n",
    "\n",
    "hr.groupby('UNIT').SALARY.agg(['sum', 'mean']).reset_index()\n",
    "\n",
    "# Task1: Find the Average Salary of Male and Female of each designation\n",
    "# Task2: Find the Total and the Average Salary of Male and Female of each designation \n",
    "# Task3: Find the Total Salary and the Average Age of Male and Female of each designation in each UNIT\n",
    "    \n"
   ]
  },
  {
   "cell_type": "code",
   "execution_count": 62,
   "metadata": {},
   "outputs": [],
   "source": [
    "import pandas as pd"
   ]
  },
  {
   "cell_type": "code",
   "execution_count": 63,
   "metadata": {},
   "outputs": [
    {
     "data": {
      "text/html": [
       "<div>\n",
       "<style scoped>\n",
       "    .dataframe tbody tr th:only-of-type {\n",
       "        vertical-align: middle;\n",
       "    }\n",
       "\n",
       "    .dataframe tbody tr th {\n",
       "        vertical-align: top;\n",
       "    }\n",
       "\n",
       "    .dataframe thead th {\n",
       "        text-align: right;\n",
       "    }\n",
       "</style>\n",
       "<table border=\"1\" class=\"dataframe\">\n",
       "  <thead>\n",
       "    <tr style=\"text-align: right;\">\n",
       "      <th></th>\n",
       "      <th>FIRST NAME</th>\n",
       "      <th>LAST NAME</th>\n",
       "      <th>SEX</th>\n",
       "      <th>DOJ</th>\n",
       "      <th>CURRENT DATE</th>\n",
       "      <th>DESIGNATION</th>\n",
       "      <th>AGE</th>\n",
       "      <th>SALARY</th>\n",
       "      <th>UNIT</th>\n",
       "      <th>LEAVES USED</th>\n",
       "      <th>LEAVES REMAINING</th>\n",
       "      <th>RATINGS</th>\n",
       "      <th>PAST EXP</th>\n",
       "    </tr>\n",
       "  </thead>\n",
       "  <tbody>\n",
       "    <tr>\n",
       "      <th>0</th>\n",
       "      <td>TOMASA</td>\n",
       "      <td>ARMEN</td>\n",
       "      <td>F</td>\n",
       "      <td>5-18-2014</td>\n",
       "      <td>01-07-2016</td>\n",
       "      <td>Analyst</td>\n",
       "      <td>21.0</td>\n",
       "      <td>44570</td>\n",
       "      <td>Finance</td>\n",
       "      <td>24.0</td>\n",
       "      <td>6.0</td>\n",
       "      <td>2.0</td>\n",
       "      <td>0</td>\n",
       "    </tr>\n",
       "    <tr>\n",
       "      <th>1</th>\n",
       "      <td>ANNIE</td>\n",
       "      <td>NaN</td>\n",
       "      <td>F</td>\n",
       "      <td>NaN</td>\n",
       "      <td>01-07-2016</td>\n",
       "      <td>Associate</td>\n",
       "      <td>NaN</td>\n",
       "      <td>89207</td>\n",
       "      <td>Web</td>\n",
       "      <td>NaN</td>\n",
       "      <td>13.0</td>\n",
       "      <td>NaN</td>\n",
       "      <td>7</td>\n",
       "    </tr>\n",
       "  </tbody>\n",
       "</table>\n",
       "</div>"
      ],
      "text/plain": [
       "  FIRST NAME LAST NAME SEX        DOJ CURRENT DATE DESIGNATION   AGE  SALARY  \\\n",
       "0     TOMASA     ARMEN   F  5-18-2014   01-07-2016     Analyst  21.0   44570   \n",
       "1      ANNIE       NaN   F        NaN   01-07-2016   Associate   NaN   89207   \n",
       "\n",
       "      UNIT  LEAVES USED  LEAVES REMAINING  RATINGS  PAST EXP  \n",
       "0  Finance         24.0               6.0      2.0         0  \n",
       "1      Web          NaN              13.0      NaN         7  "
      ]
     },
     "execution_count": 63,
     "metadata": {},
     "output_type": "execute_result"
    }
   ],
   "source": [
    "hr.head(2)"
   ]
  },
  {
   "cell_type": "code",
   "execution_count": 64,
   "metadata": {},
   "outputs": [
    {
     "name": "stderr",
     "output_type": "stream",
     "text": [
      "C:\\ProgramData\\Anaconda3\\lib\\site-packages\\ipykernel_launcher.py:1: FutureWarning: using a dict on a Series for aggregation\n",
      "is deprecated and will be removed in a future version\n",
      "  \"\"\"Entry point for launching an IPython kernel.\n"
     ]
    },
    {
     "data": {
      "text/html": [
       "<div>\n",
       "<style scoped>\n",
       "    .dataframe tbody tr th:only-of-type {\n",
       "        vertical-align: middle;\n",
       "    }\n",
       "\n",
       "    .dataframe tbody tr th {\n",
       "        vertical-align: top;\n",
       "    }\n",
       "\n",
       "    .dataframe thead th {\n",
       "        text-align: right;\n",
       "    }\n",
       "</style>\n",
       "<table border=\"1\" class=\"dataframe\">\n",
       "  <thead>\n",
       "    <tr style=\"text-align: right;\">\n",
       "      <th></th>\n",
       "      <th>UNIT</th>\n",
       "      <th>Total of SALARY</th>\n",
       "      <th>Average of SALARY</th>\n",
       "    </tr>\n",
       "  </thead>\n",
       "  <tbody>\n",
       "    <tr>\n",
       "      <th>0</th>\n",
       "      <td>Finance</td>\n",
       "      <td>26135199</td>\n",
       "      <td>58599.100897</td>\n",
       "    </tr>\n",
       "    <tr>\n",
       "      <th>1</th>\n",
       "      <td>IT</td>\n",
       "      <td>27198128</td>\n",
       "      <td>58998.108460</td>\n",
       "    </tr>\n",
       "    <tr>\n",
       "      <th>2</th>\n",
       "      <td>Management</td>\n",
       "      <td>25154450</td>\n",
       "      <td>59186.941176</td>\n",
       "    </tr>\n",
       "    <tr>\n",
       "      <th>3</th>\n",
       "      <td>Marketing</td>\n",
       "      <td>25981304</td>\n",
       "      <td>59318.045662</td>\n",
       "    </tr>\n",
       "    <tr>\n",
       "      <th>4</th>\n",
       "      <td>Operations</td>\n",
       "      <td>24299332</td>\n",
       "      <td>55477.926941</td>\n",
       "    </tr>\n",
       "    <tr>\n",
       "      <th>5</th>\n",
       "      <td>Web</td>\n",
       "      <td>24654281</td>\n",
       "      <td>57202.508121</td>\n",
       "    </tr>\n",
       "  </tbody>\n",
       "</table>\n",
       "</div>"
      ],
      "text/plain": [
       "         UNIT  Total of SALARY  Average of SALARY\n",
       "0     Finance         26135199       58599.100897\n",
       "1          IT         27198128       58998.108460\n",
       "2  Management         25154450       59186.941176\n",
       "3   Marketing         25981304       59318.045662\n",
       "4  Operations         24299332       55477.926941\n",
       "5         Web         24654281       57202.508121"
      ]
     },
     "execution_count": 64,
     "metadata": {},
     "output_type": "execute_result"
    }
   ],
   "source": [
    "hr.groupby('UNIT').SALARY.agg({'Total of SALARY': 'sum', 'Average of SALARY': 'mean'}).reset_index()\n"
   ]
  },
  {
   "cell_type": "code",
   "execution_count": 69,
   "metadata": {},
   "outputs": [],
   "source": [
    "hr2 = hr.loc[-hr.AGE.isna(),]\n"
   ]
  },
  {
   "cell_type": "code",
   "execution_count": 74,
   "metadata": {},
   "outputs": [],
   "source": [
    "#hr2.shape\n",
    "\n",
    "#hr.dropna\n",
    "\n",
    "hr2.SEX.dropna?\n"
   ]
  },
  {
   "cell_type": "code",
   "execution_count": 15,
   "metadata": {},
   "outputs": [
    {
     "data": {
      "text/html": [
       "<div>\n",
       "<style scoped>\n",
       "    .dataframe tbody tr th:only-of-type {\n",
       "        vertical-align: middle;\n",
       "    }\n",
       "\n",
       "    .dataframe tbody tr th {\n",
       "        vertical-align: top;\n",
       "    }\n",
       "\n",
       "    .dataframe thead th {\n",
       "        text-align: right;\n",
       "    }\n",
       "</style>\n",
       "<table border=\"1\" class=\"dataframe\">\n",
       "  <thead>\n",
       "    <tr style=\"text-align: right;\">\n",
       "      <th></th>\n",
       "      <th>ID</th>\n",
       "      <th>Var2</th>\n",
       "    </tr>\n",
       "  </thead>\n",
       "  <tbody>\n",
       "    <tr>\n",
       "      <th>0</th>\n",
       "      <td>C1</td>\n",
       "      <td>Noida</td>\n",
       "    </tr>\n",
       "    <tr>\n",
       "      <th>1</th>\n",
       "      <td>C2</td>\n",
       "      <td>d1</td>\n",
       "    </tr>\n",
       "    <tr>\n",
       "      <th>2</th>\n",
       "      <td>C3</td>\n",
       "      <td>d2</td>\n",
       "    </tr>\n",
       "    <tr>\n",
       "      <th>3</th>\n",
       "      <td>C4</td>\n",
       "      <td>Gurgaon</td>\n",
       "    </tr>\n",
       "    <tr>\n",
       "      <th>4</th>\n",
       "      <td>C6</td>\n",
       "      <td>Vizag</td>\n",
       "    </tr>\n",
       "  </tbody>\n",
       "</table>\n",
       "</div>"
      ],
      "text/plain": [
       "   ID     Var2\n",
       "0  C1    Noida\n",
       "1  C2       d1\n",
       "2  C3       d2\n",
       "3  C4  Gurgaon\n",
       "4  C6    Vizag"
      ]
     },
     "execution_count": 15,
     "metadata": {},
     "output_type": "execute_result"
    }
   ],
   "source": [
    "#### Appending | Adding the row of one table below the another table | UNION ALL in SQL\n",
    "\n",
    "DF1 = pd.read_csv(\"DF1.csv\")\n",
    "DF2 = pd.read_csv(\"DF2.csv\")\n",
    "\n",
    "DF2"
   ]
  },
  {
   "cell_type": "code",
   "execution_count": 16,
   "metadata": {},
   "outputs": [
    {
     "name": "stderr",
     "output_type": "stream",
     "text": [
      "C:\\ProgramData\\Anaconda3\\lib\\site-packages\\pandas\\core\\frame.py:6201: FutureWarning: Sorting because non-concatenation axis is not aligned. A future version\n",
      "of pandas will change to not sort by default.\n",
      "\n",
      "To accept the future behavior, pass 'sort=True'.\n",
      "\n",
      "To retain the current behavior and silence the warning, pass sort=False\n",
      "\n",
      "  sort=sort)\n"
     ]
    },
    {
     "data": {
      "text/html": [
       "<div>\n",
       "<style scoped>\n",
       "    .dataframe tbody tr th:only-of-type {\n",
       "        vertical-align: middle;\n",
       "    }\n",
       "\n",
       "    .dataframe tbody tr th {\n",
       "        vertical-align: top;\n",
       "    }\n",
       "\n",
       "    .dataframe thead th {\n",
       "        text-align: right;\n",
       "    }\n",
       "</style>\n",
       "<table border=\"1\" class=\"dataframe\">\n",
       "  <thead>\n",
       "    <tr style=\"text-align: right;\">\n",
       "      <th></th>\n",
       "      <th>ID</th>\n",
       "      <th>Var1</th>\n",
       "      <th>Var2</th>\n",
       "    </tr>\n",
       "  </thead>\n",
       "  <tbody>\n",
       "    <tr>\n",
       "      <th>0</th>\n",
       "      <td>C1</td>\n",
       "      <td>A1</td>\n",
       "      <td>NaN</td>\n",
       "    </tr>\n",
       "    <tr>\n",
       "      <th>1</th>\n",
       "      <td>C2</td>\n",
       "      <td>A2</td>\n",
       "      <td>NaN</td>\n",
       "    </tr>\n",
       "    <tr>\n",
       "      <th>2</th>\n",
       "      <td>C3</td>\n",
       "      <td>A3</td>\n",
       "      <td>NaN</td>\n",
       "    </tr>\n",
       "    <tr>\n",
       "      <th>3</th>\n",
       "      <td>C4</td>\n",
       "      <td>A4</td>\n",
       "      <td>NaN</td>\n",
       "    </tr>\n",
       "    <tr>\n",
       "      <th>4</th>\n",
       "      <td>C5</td>\n",
       "      <td>A5</td>\n",
       "      <td>NaN</td>\n",
       "    </tr>\n",
       "    <tr>\n",
       "      <th>5</th>\n",
       "      <td>C1</td>\n",
       "      <td>NaN</td>\n",
       "      <td>Noida</td>\n",
       "    </tr>\n",
       "    <tr>\n",
       "      <th>6</th>\n",
       "      <td>C2</td>\n",
       "      <td>NaN</td>\n",
       "      <td>d1</td>\n",
       "    </tr>\n",
       "    <tr>\n",
       "      <th>7</th>\n",
       "      <td>C3</td>\n",
       "      <td>NaN</td>\n",
       "      <td>d2</td>\n",
       "    </tr>\n",
       "    <tr>\n",
       "      <th>8</th>\n",
       "      <td>C4</td>\n",
       "      <td>NaN</td>\n",
       "      <td>Gurgaon</td>\n",
       "    </tr>\n",
       "    <tr>\n",
       "      <th>9</th>\n",
       "      <td>C6</td>\n",
       "      <td>NaN</td>\n",
       "      <td>Vizag</td>\n",
       "    </tr>\n",
       "  </tbody>\n",
       "</table>\n",
       "</div>"
      ],
      "text/plain": [
       "   ID Var1     Var2\n",
       "0  C1   A1      NaN\n",
       "1  C2   A2      NaN\n",
       "2  C3   A3      NaN\n",
       "3  C4   A4      NaN\n",
       "4  C5   A5      NaN\n",
       "5  C1  NaN    Noida\n",
       "6  C2  NaN       d1\n",
       "7  C3  NaN       d2\n",
       "8  C4  NaN  Gurgaon\n",
       "9  C6  NaN    Vizag"
      ]
     },
     "execution_count": 16,
     "metadata": {},
     "output_type": "execute_result"
    }
   ],
   "source": [
    "result = DF1.append(DF2, ignore_index = True)\n",
    "\n",
    "result"
   ]
  },
  {
   "cell_type": "code",
   "execution_count": 18,
   "metadata": {},
   "outputs": [
    {
     "data": {
      "text/html": [
       "<div>\n",
       "<style scoped>\n",
       "    .dataframe tbody tr th:only-of-type {\n",
       "        vertical-align: middle;\n",
       "    }\n",
       "\n",
       "    .dataframe tbody tr th {\n",
       "        vertical-align: top;\n",
       "    }\n",
       "\n",
       "    .dataframe thead th {\n",
       "        text-align: right;\n",
       "    }\n",
       "</style>\n",
       "<table border=\"1\" class=\"dataframe\">\n",
       "  <thead>\n",
       "    <tr style=\"text-align: right;\">\n",
       "      <th></th>\n",
       "      <th>ID</th>\n",
       "      <th>Var1</th>\n",
       "      <th>ID</th>\n",
       "      <th>Var2</th>\n",
       "    </tr>\n",
       "  </thead>\n",
       "  <tbody>\n",
       "    <tr>\n",
       "      <th>0</th>\n",
       "      <td>C1</td>\n",
       "      <td>A1</td>\n",
       "      <td>C1</td>\n",
       "      <td>Noida</td>\n",
       "    </tr>\n",
       "    <tr>\n",
       "      <th>1</th>\n",
       "      <td>C2</td>\n",
       "      <td>A2</td>\n",
       "      <td>C2</td>\n",
       "      <td>d1</td>\n",
       "    </tr>\n",
       "    <tr>\n",
       "      <th>2</th>\n",
       "      <td>C3</td>\n",
       "      <td>A3</td>\n",
       "      <td>C3</td>\n",
       "      <td>d2</td>\n",
       "    </tr>\n",
       "    <tr>\n",
       "      <th>3</th>\n",
       "      <td>C4</td>\n",
       "      <td>A4</td>\n",
       "      <td>C4</td>\n",
       "      <td>Gurgaon</td>\n",
       "    </tr>\n",
       "    <tr>\n",
       "      <th>4</th>\n",
       "      <td>C5</td>\n",
       "      <td>A5</td>\n",
       "      <td>C6</td>\n",
       "      <td>Vizag</td>\n",
       "    </tr>\n",
       "  </tbody>\n",
       "</table>\n",
       "</div>"
      ],
      "text/plain": [
       "   ID Var1  ID     Var2\n",
       "0  C1   A1  C1    Noida\n",
       "1  C2   A2  C2       d1\n",
       "2  C3   A3  C3       d2\n",
       "3  C4   A4  C4  Gurgaon\n",
       "4  C5   A5  C6    Vizag"
      ]
     },
     "execution_count": 18,
     "metadata": {},
     "output_type": "execute_result"
    }
   ],
   "source": [
    "df = [DF1, DF2]\n",
    "\n",
    "# result = pd.concat(df, axis= 0) # Row wise appending\n",
    "\n",
    "result = pd.concat(df, axis= 1) # column wise appending\n",
    "\n",
    "result\n"
   ]
  },
  {
   "cell_type": "code",
   "execution_count": null,
   "metadata": {},
   "outputs": [],
   "source": [
    "# USER DEFINED FUNCTIONS:\n",
    "UDF : User Defined Function : \n",
    "        The function which are defnied by us(user)\t\t\t\t\t\t\t\t\n",
    "        Your own function as per your requirement\t\t\t\t\n",
    "\n",
    "        1- Always takes the input as argument\t\t\t\t\n",
    "2- It process the statement:\t\t\t\t\n",
    "3- It always RETURN a value\t\t\t\t\n",
    "\n",
    "\n",
    "syntax:\n",
    "# def func_name(arg1):\n",
    "#     Statement1\n",
    "#     statement2\n",
    "#     return(y)\n",
    "    "
   ]
  },
  {
   "cell_type": "code",
   "execution_count": 19,
   "metadata": {},
   "outputs": [],
   "source": [
    "def sq_num(x):\n",
    "    y= x**2\n",
    "    return(y)"
   ]
  },
  {
   "cell_type": "code",
   "execution_count": 20,
   "metadata": {},
   "outputs": [
    {
     "data": {
      "text/plain": [
       "4"
      ]
     },
     "execution_count": 20,
     "metadata": {},
     "output_type": "execute_result"
    }
   ],
   "source": [
    "sq_num(2)"
   ]
  },
  {
   "cell_type": "code",
   "execution_count": 22,
   "metadata": {},
   "outputs": [
    {
     "data": {
      "text/html": [
       "<div>\n",
       "<style scoped>\n",
       "    .dataframe tbody tr th:only-of-type {\n",
       "        vertical-align: middle;\n",
       "    }\n",
       "\n",
       "    .dataframe tbody tr th {\n",
       "        vertical-align: top;\n",
       "    }\n",
       "\n",
       "    .dataframe thead th {\n",
       "        text-align: right;\n",
       "    }\n",
       "</style>\n",
       "<table border=\"1\" class=\"dataframe\">\n",
       "  <thead>\n",
       "    <tr style=\"text-align: right;\">\n",
       "      <th></th>\n",
       "      <th>count</th>\n",
       "      <th>mean</th>\n",
       "      <th>std</th>\n",
       "      <th>min</th>\n",
       "      <th>25%</th>\n",
       "      <th>50%</th>\n",
       "      <th>75%</th>\n",
       "      <th>max</th>\n",
       "    </tr>\n",
       "  </thead>\n",
       "  <tbody>\n",
       "    <tr>\n",
       "      <th>AGE</th>\n",
       "      <td>2636.0</td>\n",
       "      <td>24.756449</td>\n",
       "      <td>3.908228</td>\n",
       "      <td>21.0</td>\n",
       "      <td>22.0</td>\n",
       "      <td>24.0</td>\n",
       "      <td>25.0</td>\n",
       "      <td>45.0</td>\n",
       "    </tr>\n",
       "    <tr>\n",
       "      <th>SALARY</th>\n",
       "      <td>2639.0</td>\n",
       "      <td>58136.678287</td>\n",
       "      <td>36876.956944</td>\n",
       "      <td>40001.0</td>\n",
       "      <td>43418.0</td>\n",
       "      <td>46781.0</td>\n",
       "      <td>51401.5</td>\n",
       "      <td>388112.0</td>\n",
       "    </tr>\n",
       "    <tr>\n",
       "      <th>LEAVES USED</th>\n",
       "      <td>2636.0</td>\n",
       "      <td>22.501517</td>\n",
       "      <td>4.604469</td>\n",
       "      <td>15.0</td>\n",
       "      <td>19.0</td>\n",
       "      <td>22.0</td>\n",
       "      <td>26.0</td>\n",
       "      <td>30.0</td>\n",
       "    </tr>\n",
       "    <tr>\n",
       "      <th>LEAVES REMAINING</th>\n",
       "      <td>2637.0</td>\n",
       "      <td>7.503223</td>\n",
       "      <td>4.603193</td>\n",
       "      <td>0.0</td>\n",
       "      <td>4.0</td>\n",
       "      <td>8.0</td>\n",
       "      <td>11.0</td>\n",
       "      <td>15.0</td>\n",
       "    </tr>\n",
       "    <tr>\n",
       "      <th>RATINGS</th>\n",
       "      <td>2637.0</td>\n",
       "      <td>3.486159</td>\n",
       "      <td>1.114933</td>\n",
       "      <td>2.0</td>\n",
       "      <td>2.0</td>\n",
       "      <td>3.0</td>\n",
       "      <td>4.0</td>\n",
       "      <td>5.0</td>\n",
       "    </tr>\n",
       "    <tr>\n",
       "      <th>PAST EXP</th>\n",
       "      <td>2639.0</td>\n",
       "      <td>1.566881</td>\n",
       "      <td>2.728416</td>\n",
       "      <td>0.0</td>\n",
       "      <td>0.0</td>\n",
       "      <td>1.0</td>\n",
       "      <td>2.0</td>\n",
       "      <td>23.0</td>\n",
       "    </tr>\n",
       "  </tbody>\n",
       "</table>\n",
       "</div>"
      ],
      "text/plain": [
       "                   count          mean           std      min      25%  \\\n",
       "AGE               2636.0     24.756449      3.908228     21.0     22.0   \n",
       "SALARY            2639.0  58136.678287  36876.956944  40001.0  43418.0   \n",
       "LEAVES USED       2636.0     22.501517      4.604469     15.0     19.0   \n",
       "LEAVES REMAINING  2637.0      7.503223      4.603193      0.0      4.0   \n",
       "RATINGS           2637.0      3.486159      1.114933      2.0      2.0   \n",
       "PAST EXP          2639.0      1.566881      2.728416      0.0      0.0   \n",
       "\n",
       "                      50%      75%       max  \n",
       "AGE                  24.0     25.0      45.0  \n",
       "SALARY            46781.0  51401.5  388112.0  \n",
       "LEAVES USED          22.0     26.0      30.0  \n",
       "LEAVES REMAINING      8.0     11.0      15.0  \n",
       "RATINGS               3.0      4.0       5.0  \n",
       "PAST EXP              1.0      2.0      23.0  "
      ]
     },
     "execution_count": 22,
     "metadata": {},
     "output_type": "execute_result"
    }
   ],
   "source": [
    "hr.describe().T\n",
    "\n",
    "# Task: Here I am not having much of the other information with the describe function\n",
    "#     So Create UDF with the name CAlled 'My_EDA' : along with the below details:\n",
    "#             P1 P2 P5 P10 P90 P95 P98 P99\n",
    "#             Lower CAp Mean-2.5*STD\n",
    "#             Upper Cap meand + 2.5*STD\n",
    "#             FLAG for each column for OUTLIER\n",
    "\n",
    "\n",
    "You practically have to get such details for all the columns in a DF\n",
    "HOw to apply this function on all the columns in a DF ? [ MAP | APPLY |MApApply]"
   ]
  },
  {
   "cell_type": "code",
   "execution_count": 23,
   "metadata": {},
   "outputs": [],
   "source": [
    "hr.SALARY.clip_lower\n",
    "hr.SALARY.clip_upper\n",
    "\n",
    "hr.SALARY.clip?"
   ]
  }
 ],
 "metadata": {
  "kernelspec": {
   "display_name": "Python 3",
   "language": "python",
   "name": "python3"
  },
  "language_info": {
   "codemirror_mode": {
    "name": "ipython",
    "version": 3
   },
   "file_extension": ".py",
   "mimetype": "text/x-python",
   "name": "python",
   "nbconvert_exporter": "python",
   "pygments_lexer": "ipython3",
   "version": "3.8.3"
  },
  "toc": {
   "base_numbering": 1,
   "nav_menu": {},
   "number_sections": true,
   "sideBar": true,
   "skip_h1_title": false,
   "title_cell": "Table of Contents",
   "title_sidebar": "Contents",
   "toc_cell": false,
   "toc_position": {},
   "toc_section_display": true,
   "toc_window_display": false
  }
 },
 "nbformat": 4,
 "nbformat_minor": 2
}
