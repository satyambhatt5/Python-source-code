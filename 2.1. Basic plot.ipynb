{
 "cells": [
  {
   "cell_type": "markdown",
   "metadata": {},
   "source": [
    "## Agenda\n",
    ">- **Interfaces of Matplotlib**<BR>\n",
    ">- **Deep dive into the pyplot interface**<BR>\n",
    ">- **Configuring Matplotlib(improving asthetics of the plots)**<BR>\n",
    ">- **Advance use of Matplotlib**</br>\n",
    "        .Interactive plots\n",
    "        .Maps\n",
    "        .Statistical Analysis (We will revist the Stats again!)\n",
    "        .Matplotlib (if we got time I will compare and contrast Bokeh!)"
   ]
  },
  {
   "cell_type": "markdown",
   "metadata": {},
   "source": [
    "### The greatest value of picture is when it forces us to notice what we never expected to see\n",
    "                                                                                -- John Tukey"
   ]
  },
  {
   "cell_type": "code",
   "execution_count": null,
   "metadata": {},
   "outputs": [],
   "source": [
    "!pip install matplotlib"
   ]
  },
  {
   "cell_type": "code",
   "execution_count": null,
   "metadata": {},
   "outputs": [],
   "source": [
    "%matplotlib inline\n",
    "import matplotlib.pyplot as plt\n",
    "\n",
    "from IPython.display import set_matplotlib_formats\n",
    "set_matplotlib_formats('retina')"
   ]
  },
  {
   "cell_type": "markdown",
   "metadata": {},
   "source": [
    "## The Census Income Data Set\n",
    "\n",
    "Now that we have our notebook properly set up to work with matplotlib, it's time to pull in some data and get our hands dirty.\n",
    "\n",
    "The University of California at Irvine maintains a repository of over 300 real world data sets for use in testing machine learning algorithms. This repository is a fantastic resource since it allows us to play around with a relatively small, real world dataset while ignoring all of the cumbersome pre-processing steps you'd normally have to perform before getting a chance to explore the data.\n",
    "\n",
    "In this quick example of matplotlib in action, we'll be using the [\"Census Income\"][1] data set, also known as the [\"Adult\"][2] data set.  ** The stated purpose of this data set is to predict whether or not an individual makes more than \\$50k a year based on data gathered during the 1994 Census** . While we won't be using this data set to test a predictive algorithm, we can still make use of the data to find some interesting insights. \n",
    "\n",
    "[1]: http://archive.ics.uci.edu/ml/datasets/Census+Income\n",
    "[2]: http://archive.ics.uci.edu/ml/datasets/Adult\n",
    "\n"
   ]
  },
  {
   "cell_type": "code",
   "execution_count": null,
   "metadata": {
    "collapsed": true
   },
   "outputs": [],
   "source": [
    "import csv\n",
    "import urllib2\n",
    "from collections import namedtuple"
   ]
  },
  {
   "cell_type": "code",
   "execution_count": null,
   "metadata": {
    "collapsed": true
   },
   "outputs": [],
   "source": [
    "# Create a namedtuple constructor for each record in the Census data\n",
    "fields = ('age', \n",
    "          'workclass', \n",
    "          'fnlwgt', \n",
    "          'education', \n",
    "          'education_num', \n",
    "          'marital_status', \n",
    "          'occupation', \n",
    "          'relationship', \n",
    "          'race', \n",
    "          'sex', \n",
    "          'capital_gain', \n",
    "          'capital_loss', \n",
    "          'hours_per_week', \n",
    "          'native_country', \n",
    "          'target')\n",
    "CensusRecord = namedtuple('CensusRecord', fields)"
   ]
  },
  {
   "cell_type": "code",
   "execution_count": null,
   "metadata": {
    "collapsed": true
   },
   "outputs": [],
   "source": [
    "# Download and read in the data from the UCI Machine Learning Repository\n",
    "response = urllib2.urlopen('http://archive.ics.uci.edu/ml/machine-learning-databases/adult/adult.data')\n",
    "adult_data_csv = response.read().strip()"
   ]
  },
  {
   "cell_type": "code",
   "execution_count": null,
   "metadata": {
    "collapsed": true
   },
   "outputs": [],
   "source": [
    "# Convert each record into a format that's easier to work with (i.e.,\n",
    "# wrap each record in the namedtuple that we created).\n",
    "data = []\n",
    "for row in csv.reader(adult_data_csv.splitlines()):\n",
    "    data.append(CensusRecord(\n",
    "        age              = int(row[0]),\n",
    "        workclass        = row[1].strip(),\n",
    "        fnlwgt           = float(row[2].strip()),\n",
    "        education        = row[3].strip(),\n",
    "        education_num    = int(row[4]),\n",
    "        marital_status   = row[5].strip(),\n",
    "        occupation       = row[6].strip(),\n",
    "        relationship     = row[7].strip(),\n",
    "        race             = row[7].strip(),\n",
    "        sex              = row[9].strip(),\n",
    "        capital_gain     = int(row[10]),\n",
    "        capital_loss     = int(row[11]),\n",
    "        hours_per_week   = int(row[12]),\n",
    "        native_country   = row[13].strip(),\n",
    "        target           = row[14].strip()))"
   ]
  },
  {
   "cell_type": "markdown",
   "metadata": {},
   "source": [
    "## Exploring the Data Set\n"
   ]
  },
  {
   "cell_type": "markdown",
   "metadata": {},
   "source": [
    "A histogram is a fantastic visualization for getting a feel for the distribution of your data set but should be used with **continous data** and bar chart is for discrete data."
   ]
  },
  {
   "cell_type": "code",
   "execution_count": null,
   "metadata": {
    "collapsed": true
   },
   "outputs": [],
   "source": [
    "from collections import Counter\n",
    "import numpy as np"
   ]
  },
  {
   "cell_type": "code",
   "execution_count": null,
   "metadata": {
    "collapsed": true
   },
   "outputs": [],
   "source": [
    "# Calculate the frequency count for each education level.\n",
    "# counter takes iterable object and does count of each value in it.\n",
    "freqs = Counter(r.education_num for r in data)"
   ]
  },
  {
   "cell_type": "code",
   "execution_count": null,
   "metadata": {},
   "outputs": [],
   "source": [
    "freqs"
   ]
  },
  {
   "cell_type": "code",
   "execution_count": null,
   "metadata": {},
   "outputs": [],
   "source": [
    "# Draw the bar chart/histogram\n",
    "plt.figure(figsize=(10, 4))\n",
    "plt.bar(freqs.keys(), freqs.values(), width=1);"
   ]
  },
  {
   "cell_type": "code",
   "execution_count": null,
   "metadata": {
    "collapsed": true
   },
   "outputs": [],
   "source": [
    "# Calculate the frequency count for each education level. Our \n",
    "# keys in the Counter object will be a tuple of the form \n",
    "# (number, name) so it will be possible to sort the keys.\n",
    "freqs = Counter((r.education_num, r.education) for r in data)"
   ]
  },
  {
   "cell_type": "code",
   "execution_count": null,
   "metadata": {
    "collapsed": true
   },
   "outputs": [],
   "source": [
    "# Create a list of names sorted by the education level number\n",
    "names = [name for _, name in sorted(freqs.keys())]"
   ]
  },
  {
   "cell_type": "code",
   "execution_count": null,
   "metadata": {
    "collapsed": true
   },
   "outputs": [],
   "source": [
    "# Create a list of counts in the same order as the names\n",
    "counts = [freqs[key] for key in sorted(freqs.keys())]"
   ]
  },
  {
   "cell_type": "code",
   "execution_count": null,
   "metadata": {
    "collapsed": true
   },
   "outputs": [],
   "source": [
    "# An array containing the x coordinates of the left sides of the bars in the chart\n",
    "left = range(len(names))"
   ]
  },
  {
   "cell_type": "code",
   "execution_count": null,
   "metadata": {},
   "outputs": [],
   "source": [
    "# Draw the bar chart/histogram\n",
    "plt.figure(figsize=(10, 4))\n",
    "\n",
    "# Plot the counts at the given x\n",
    "plt.bar(left, counts, width=1)\n",
    "\n",
    "# Change the x-axis ticks to the education level name. To make it\n",
    "# easier to read, we rotate the labels 90 degrees and move them to\n",
    "# the center of the bar by adding 0.5 to each value in the left \n",
    "# array (we chose 0.5 because we set the width of each bar to 1 earlier).\n",
    "plt.xticks(left, names);"
   ]
  },
  {
   "cell_type": "code",
   "execution_count": null,
   "metadata": {},
   "outputs": [],
   "source": [
    "import numpy as np\n",
    "\n",
    "# Calculate the frequency count for each education level. Our \n",
    "# keys in the Counter object will be a tuple of the form \n",
    "# (number, name) so it will be possible to sort the keys.\n",
    "freqs = Counter((r.education_num, r.education) for r in data)\n",
    "# Create a list of names sorted by the education level number\n",
    "names = [name for _, name in sorted(freqs.keys())]\n",
    "# Create a list of counts in the same order as the names\n",
    "counts = [freqs[key] for key in sorted(freqs.keys())]\n",
    "# An array containing the x coordinates of the left sides of the bars in the chart\n",
    "left = np.arange(len(names))\n",
    "\n",
    "# Draw the bar chart/histogram\n",
    "plt.figure(figsize=(10, 4))\n",
    "# Plot the counts at the given x\n",
    "plt.bar(left, counts, width=1)\n",
    "# Change the x-axis ticks to the education level name. To make it\n",
    "# easier to read, we rotate the labels 90 degrees and move them to\n",
    "# the center of the bar by adding 0.5 to each value in the left \n",
    "# array (we chose 0.5 because we set the width of each bar to 1 earlier).\n",
    "plt.xticks(left + 0.5, names, rotation=90);"
   ]
  },
  {
   "cell_type": "code",
   "execution_count": null,
   "metadata": {
    "collapsed": true
   },
   "outputs": [],
   "source": []
  }
 ],
 "metadata": {
  "kernelspec": {
   "display_name": "Python 3",
   "language": "python",
   "name": "python3"
  },
  "language_info": {
   "codemirror_mode": {
    "name": "ipython",
    "version": 3
   },
   "file_extension": ".py",
   "mimetype": "text/x-python",
   "name": "python",
   "nbconvert_exporter": "python",
   "pygments_lexer": "ipython3",
   "version": "3.8.3"
  },
  "toc": {
   "base_numbering": 1,
   "nav_menu": {},
   "number_sections": true,
   "sideBar": true,
   "skip_h1_title": false,
   "title_cell": "Table of Contents",
   "title_sidebar": "Contents",
   "toc_cell": false,
   "toc_position": {},
   "toc_section_display": true,
   "toc_window_display": false
  }
 },
 "nbformat": 4,
 "nbformat_minor": 1
}
